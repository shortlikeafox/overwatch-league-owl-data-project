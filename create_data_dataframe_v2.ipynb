{
 "cells": [
  {
   "cell_type": "code",
   "execution_count": 108,
   "metadata": {},
   "outputs": [],
   "source": [
    "import pandas as pd\n",
    "raw_df = pd.read_csv(\"data/match_map_stats.csv\")"
   ]
  },
  {
   "cell_type": "code",
   "execution_count": 109,
   "metadata": {},
   "outputs": [
    {
     "data": {
      "text/plain": [
       "642"
      ]
     },
     "execution_count": 109,
     "metadata": {},
     "output_type": "execute_result"
    }
   ],
   "source": [
    "match_ids = raw_df.match_id.unique()\n",
    "len(match_ids)"
   ]
  },
  {
   "cell_type": "code",
   "execution_count": 110,
   "metadata": {},
   "outputs": [],
   "source": [
    "#The first 6 features of the dataframe can be easily set:\n",
    "team_one_list = []\n",
    "team_two_list = []\n",
    "date_list = []\n",
    "winner_list = []\n",
    "stage_list = []\n",
    "\n",
    "for m in match_ids:\n",
    "    temp_df = raw_df[raw_df['match_id'] == m]\n",
    "    team_one_list.append(temp_df.team_one_name.unique()[0])\n",
    "    team_two_list.append(temp_df.team_two_name.unique()[0])\n",
    "    date_list.append(temp_df.round_start_time.unique()[0])\n",
    "    winner_list.append(temp_df.match_winner.unique()[0])\n",
    "    stage_list.append(temp_df.stage.unique()[0])\n",
    "    \n",
    "#Let's zip this all up and make a dataframe!\n",
    "zipped_data = list(zip(match_ids, team_one_list, team_two_list, date_list, stage_list, winner_list))\n",
    "columns = ['id', 'team_one', 'team_two', 'date', 'stage', 'winner']    \n",
    "\n",
    "df = pd.DataFrame(zipped_data, columns=columns)\n",
    "\n",
    "#Make sure the date column is in the proper format\n",
    "df['date']=pd.to_datetime(df['date'])"
   ]
  },
  {
   "cell_type": "code",
   "execution_count": 111,
   "metadata": {},
   "outputs": [],
   "source": [
    "#Set the corona_virus_isolation feature.  This will be True if games are being played while in isolation because of the pandemic\n",
    "df['corona_virus_isolation'] = False\n",
    "\n",
    "#We will use a mask to properly set the feature:\n",
    "mask = (df['date'] > '03/20/2020')\n",
    "df['corona_virus_isolation'] = mask"
   ]
  },
  {
   "cell_type": "code",
   "execution_count": 112,
   "metadata": {},
   "outputs": [],
   "source": [
    "#Initiate some features:\n",
    "df['t1_wins_season'] = \"\"\n",
    "df['t1_losses_season'] = \"\"\n",
    "df['t2_wins_season'] = \"\"\n",
    "df['t2_losses_season'] = \"\"\n",
    "df['t1_matches_season'] = \"\"\n",
    "df['t2_matches_season'] = \"\""
   ]
  },
  {
   "cell_type": "code",
   "execution_count": 113,
   "metadata": {},
   "outputs": [],
   "source": [
    "#Returned {team_one_wins, team_one_losses, team_one_total_matches, team_two_wins, team_two_losses, team_two_total_matches}\n",
    "def get_win_loss_total(wl_df, wl_id):\n",
    "    t1 = ((wl_df[wl_df['id'] == wl_id]).team_one).iloc[0]\n",
    "    t2 = ((wl_df[wl_df['id'] == wl_id]).team_two).iloc[0]\n",
    "    date = ((wl_df[wl_df['id'] == wl_id]).date).iloc[0]\n",
    "    #print(f\"Team 1: {t1} Team 2: {t2} Date: {date}\")\n",
    "    teams=[t1, t2]\n",
    "    \n",
    "    return_info=[]\n",
    "    \n",
    "    for team in teams:\n",
    "        df_partial_season=wl_df[wl_df['date']<date]\n",
    "        season_1 = df_partial_season[df_partial_season['team_one'] == team]\n",
    "        season_2 = df_partial_season[df_partial_season['team_two'] == team]\n",
    "        team_season = season_1.append(season_2)\n",
    "        wins = len(team_season[team_season['winner'] == team])\n",
    "        losses = len(team_season[team_season['winner'] != team])\n",
    "        matches = wins+losses\n",
    "        #print(f\"{team} {len(season_1)} {len(season_2)} {len(team_season)} {wins} \")\n",
    "        return_info.append(wins)\n",
    "        return_info.append(losses)\n",
    "        return_info.append(matches)\n",
    "        \n",
    "    return(return_info)\n"
   ]
  },
  {
   "cell_type": "code",
   "execution_count": 114,
   "metadata": {},
   "outputs": [],
   "source": [
    "def find_team_match_results(master_df, min_date, max_date, type):\n",
    "    df_reduced = master_df[master_df['date'] > min_date]\n",
    "    df_reduced = df_reduced[df_reduced['date'] < max_date]\n",
    "    \n",
    "    #We can use this to make an ID list...\n",
    "    id_list = df_reduced.id.unique()\n",
    "    \n",
    "    for i in id_list:\n",
    "        win_loss_list = (get_win_loss_total(df_reduced, i))\n",
    "        mask = master_df['id'] == i\n",
    "        \n",
    "        if type=='2020_season':\n",
    "            master_df['t1_wins_season'][mask] = win_loss_list[0]\n",
    "            master_df['t1_losses_season'][mask] = win_loss_list[1]\n",
    "            master_df['t1_matches_season'][mask] = win_loss_list[2]\n",
    "            master_df['t2_wins_season'][mask] = win_loss_list[3]\n",
    "            master_df['t2_losses_season'][mask] = win_loss_list[4]\n",
    "            master_df['t2_matches_season'][mask] = win_loss_list[5]    \n",
    "    return(master_df)"
   ]
  },
  {
   "cell_type": "code",
   "execution_count": 115,
   "metadata": {},
   "outputs": [
    {
     "name": "stderr",
     "output_type": "stream",
     "text": [
      "D:\\Anaconda3\\lib\\site-packages\\ipykernel_launcher.py:13: SettingWithCopyWarning: \n",
      "A value is trying to be set on a copy of a slice from a DataFrame\n",
      "\n",
      "See the caveats in the documentation: https://pandas.pydata.org/pandas-docs/stable/user_guide/indexing.html#returning-a-view-versus-a-copy\n",
      "  del sys.path[0]\n",
      "D:\\Anaconda3\\lib\\site-packages\\ipykernel_launcher.py:14: SettingWithCopyWarning: \n",
      "A value is trying to be set on a copy of a slice from a DataFrame\n",
      "\n",
      "See the caveats in the documentation: https://pandas.pydata.org/pandas-docs/stable/user_guide/indexing.html#returning-a-view-versus-a-copy\n",
      "  \n",
      "D:\\Anaconda3\\lib\\site-packages\\ipykernel_launcher.py:15: SettingWithCopyWarning: \n",
      "A value is trying to be set on a copy of a slice from a DataFrame\n",
      "\n",
      "See the caveats in the documentation: https://pandas.pydata.org/pandas-docs/stable/user_guide/indexing.html#returning-a-view-versus-a-copy\n",
      "  from ipykernel import kernelapp as app\n",
      "D:\\Anaconda3\\lib\\site-packages\\ipykernel_launcher.py:16: SettingWithCopyWarning: \n",
      "A value is trying to be set on a copy of a slice from a DataFrame\n",
      "\n",
      "See the caveats in the documentation: https://pandas.pydata.org/pandas-docs/stable/user_guide/indexing.html#returning-a-view-versus-a-copy\n",
      "  app.launch_new_instance()\n",
      "D:\\Anaconda3\\lib\\site-packages\\ipykernel_launcher.py:17: SettingWithCopyWarning: \n",
      "A value is trying to be set on a copy of a slice from a DataFrame\n",
      "\n",
      "See the caveats in the documentation: https://pandas.pydata.org/pandas-docs/stable/user_guide/indexing.html#returning-a-view-versus-a-copy\n",
      "D:\\Anaconda3\\lib\\site-packages\\ipykernel_launcher.py:18: SettingWithCopyWarning: \n",
      "A value is trying to be set on a copy of a slice from a DataFrame\n",
      "\n",
      "See the caveats in the documentation: https://pandas.pydata.org/pandas-docs/stable/user_guide/indexing.html#returning-a-view-versus-a-copy\n"
     ]
    }
   ],
   "source": [
    "results_2020 = find_team_match_results(df, '01/01/2020', '12/31/2020', '2020_season')\n"
   ]
  },
  {
   "cell_type": "code",
   "execution_count": 117,
   "metadata": {},
   "outputs": [],
   "source": [
    "results_2020.to_csv('test2.csv')"
   ]
  },
  {
   "cell_type": "code",
   "execution_count": null,
   "metadata": {},
   "outputs": [],
   "source": []
  }
 ],
 "metadata": {
  "kernelspec": {
   "display_name": "Python 3",
   "language": "python",
   "name": "python3"
  },
  "language_info": {
   "codemirror_mode": {
    "name": "ipython",
    "version": 3
   },
   "file_extension": ".py",
   "mimetype": "text/x-python",
   "name": "python",
   "nbconvert_exporter": "python",
   "pygments_lexer": "ipython3",
   "version": "3.7.6"
  }
 },
 "nbformat": 4,
 "nbformat_minor": 4
}
