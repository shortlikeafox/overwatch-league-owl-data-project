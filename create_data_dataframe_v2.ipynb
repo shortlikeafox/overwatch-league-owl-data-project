{
 "cells": [
  {
   "cell_type": "code",
   "execution_count": 1,
   "metadata": {},
   "outputs": [],
   "source": [
    "import pandas as pd\n",
    "pd.options.mode.chained_assignment = None\n",
    "raw_df = pd.read_csv(\"data/match_map_stats.csv\")"
   ]
  },
  {
   "cell_type": "code",
   "execution_count": 2,
   "metadata": {},
   "outputs": [
    {
     "data": {
      "text/plain": [
       "642"
      ]
     },
     "execution_count": 2,
     "metadata": {},
     "output_type": "execute_result"
    }
   ],
   "source": [
    "match_ids = raw_df.match_id.unique()\n",
    "len(match_ids)"
   ]
  },
  {
   "cell_type": "code",
   "execution_count": 3,
   "metadata": {},
   "outputs": [],
   "source": [
    "#The first 6 features of the dataframe can be easily set:\n",
    "team_one_list = []\n",
    "team_two_list = []\n",
    "date_list = []\n",
    "winner_list = []\n",
    "stage_list = []\n",
    "\n",
    "for m in match_ids:\n",
    "    temp_df = raw_df[raw_df['match_id'] == m]\n",
    "    team_one_list.append(temp_df.team_one_name.unique()[0])\n",
    "    team_two_list.append(temp_df.team_two_name.unique()[0])\n",
    "    date_list.append(temp_df.round_start_time.unique()[0])\n",
    "    winner_list.append(temp_df.match_winner.unique()[0])\n",
    "    stage_list.append(temp_df.stage.unique()[0])\n",
    "    \n",
    "#Let's zip this all up and make a dataframe!\n",
    "zipped_data = list(zip(match_ids, team_one_list, team_two_list, date_list, stage_list, winner_list))\n",
    "columns = ['id', 'team_one', 'team_two', 'date', 'stage', 'winner']    \n",
    "\n",
    "df = pd.DataFrame(zipped_data, columns=columns)\n",
    "\n",
    "#Make sure the date column is in the proper format\n",
    "df['date']=pd.to_datetime(df['date'])"
   ]
  },
  {
   "cell_type": "code",
   "execution_count": 4,
   "metadata": {},
   "outputs": [],
   "source": [
    "#Set the corona_virus_isolation feature.  This will be True if games are being played while in isolation because of the pandemic\n",
    "df['corona_virus_isolation'] = False\n",
    "\n",
    "#We will use a mask to properly set the feature:\n",
    "mask = (df['date'] > '03/20/2020')\n",
    "df['corona_virus_isolation'] = mask"
   ]
  },
  {
   "cell_type": "code",
   "execution_count": 5,
   "metadata": {},
   "outputs": [],
   "source": [
    "#Initiate some features:\n",
    "df['t1_wins_season'] = \"\"\n",
    "df['t1_losses_season'] = \"\"\n",
    "df['t2_wins_season'] = \"\"\n",
    "df['t2_losses_season'] = \"\"\n",
    "df['t1_matches_season'] = \"\"\n",
    "df['t2_matches_season'] = \"\"\n",
    "df['t1_win_percent_season'] = \"\"\n",
    "df['t2_win_percent_season'] = \"\"\n",
    "df['t1_wins_alltime'] = \"\"\n",
    "df['t1_losses_alltime'] = \"\"\n",
    "df['t2_wins_alltime'] = \"\"\n",
    "df['t2_losses_alltime'] = \"\"\n",
    "df['t1_matches_alltime'] = \"\"\n",
    "df['t2_matches_alltime'] = \"\"\n",
    "df['t1_win_percent_alltime'] = \"\"\n",
    "df['t2_win_percent_alltime'] = \"\"\n",
    "df['t1_wins_last_3'] = \"\"\n",
    "df['t1_losses_last_3'] = \"\"\n",
    "df['t2_wins_last_3'] = \"\"\n",
    "df['t2_losses_last_3'] = \"\"\n",
    "df['t1_win_percent_last_3'] = \"\"\n",
    "df['t2_win_percent_last_3'] = \"\"\n",
    "df['t1_wins_last_5'] = \"\"\n",
    "df['t1_losses_last_5'] = \"\"\n",
    "df['t2_wins_last_5'] = \"\"\n",
    "df['t2_losses_last_5'] = \"\"\n",
    "df['t1_win_percent_last_5'] = \"\"\n",
    "df['t2_win_percent_last_5'] = \"\"\n",
    "df['t1_wins_last_10'] = \"\"\n",
    "df['t1_losses_last_10'] = \"\"\n",
    "df['t2_wins_last_10'] = \"\"\n",
    "df['t2_losses_last_10'] = \"\"\n",
    "df['t1_win_percent_last_10'] = \"\"\n",
    "df['t2_win_percent_last_10'] = \"\"\n",
    "df['t1_wins_last_20'] = \"\"\n",
    "df['t1_losses_last_20'] = \"\"\n",
    "df['t2_wins_last_20'] = \"\"\n",
    "df['t2_losses_last_20'] = \"\"\n",
    "df['t1_win_percent_last_20'] = \"\"\n",
    "df['t2_win_percent_last_20'] = \"\"\n",
    "\n",
    "\n",
    "\n"
   ]
  },
  {
   "cell_type": "code",
   "execution_count": 6,
   "metadata": {},
   "outputs": [],
   "source": [
    "#Returned {team_one_wins, team_one_losses, team_one_total_matches, team_two_wins, team_two_losses, team_two_total_matches}\n",
    "def get_win_loss_total(wl_df, wl_id):\n",
    "    t1 = ((wl_df[wl_df['id'] == wl_id]).team_one).iloc[0]\n",
    "    t2 = ((wl_df[wl_df['id'] == wl_id]).team_two).iloc[0]\n",
    "    date = ((wl_df[wl_df['id'] == wl_id]).date).iloc[0]\n",
    "    #print(f\"Team 1: {t1} Team 2: {t2} Date: {date}\")\n",
    "    teams=[t1, t2]\n",
    "    \n",
    "    return_info=[]\n",
    "    \n",
    "    for team in teams:\n",
    "        df_partial_season=wl_df[wl_df['date']<date]\n",
    "        season_1 = df_partial_season[df_partial_season['team_one'] == team]\n",
    "        season_2 = df_partial_season[df_partial_season['team_two'] == team]\n",
    "        team_season = season_1.append(season_2)\n",
    "        wins = len(team_season[team_season['winner'] == team])\n",
    "        losses = len(team_season[team_season['winner'] != team])\n",
    "        matches = wins+losses\n",
    "        #print(f\"{team} {len(season_1)} {len(season_2)} {len(team_season)} {wins} \")\n",
    "        return_info.append(wins)\n",
    "        return_info.append(losses)\n",
    "        return_info.append(matches)\n",
    "        \n",
    "    return(return_info)\n"
   ]
  },
  {
   "cell_type": "code",
   "execution_count": 7,
   "metadata": {},
   "outputs": [],
   "source": [
    "def find_team_match_results(master_df, min_date, max_date, type):\n",
    "    df_reduced = master_df[master_df['date'] > min_date]\n",
    "    df_reduced = df_reduced[df_reduced['date'] < max_date]\n",
    "    \n",
    "    #We can use this to make an ID list...\n",
    "    id_list = df_reduced.id.unique()\n",
    "    \n",
    "    for i in id_list:\n",
    "        win_loss_list = (get_win_loss_total(df_reduced, i))\n",
    "        mask = master_df['id'] == i\n",
    "\n",
    "        #calculate the win percentages for each match\n",
    "        if win_loss_list[2] == 0:\n",
    "            t1_win_percent = 0\n",
    "        else:\n",
    "            t1_win_percent = win_loss_list[0] / win_loss_list[2]\n",
    "        if win_loss_list[5] == 0:\n",
    "            t2_win_percent = 0\n",
    "        else:\n",
    "            t2_win_percent = win_loss_list[3] / win_loss_list[5]\n",
    "        \n",
    "        \n",
    "        if type=='2020_season':\n",
    "            master_df['t1_wins_season'][mask] = win_loss_list[0]\n",
    "            master_df['t1_losses_season'][mask] = win_loss_list[1]\n",
    "            master_df['t1_matches_season'][mask] = win_loss_list[2]\n",
    "            master_df['t1_win_percent_season'][mask] = t1_win_percent\n",
    "            master_df['t2_wins_season'][mask] = win_loss_list[3]\n",
    "            master_df['t2_losses_season'][mask] = win_loss_list[4]\n",
    "            master_df['t2_matches_season'][mask] = win_loss_list[5]  \n",
    "            master_df['t2_win_percent_season'][mask] = t2_win_percent\n",
    "        if type=='all_time':\n",
    "            master_df['t1_wins_alltime'][mask] = win_loss_list[0]\n",
    "            master_df['t1_losses_alltime'][mask] = win_loss_list[1]\n",
    "            master_df['t1_matches_alltime'][mask] = win_loss_list[2]\n",
    "            master_df['t1_win_percent_alltime'][mask] = t1_win_percent\n",
    "            master_df['t2_wins_alltime'][mask] = win_loss_list[3]\n",
    "            master_df['t2_losses_alltime'][mask] = win_loss_list[4]\n",
    "            master_df['t2_matches_alltime'][mask] = win_loss_list[5]  \n",
    "            master_df['t2_win_percent_alltime'][mask] = t2_win_percent\n",
    "            \n",
    "    \n",
    "                \n",
    "    return(master_df)"
   ]
  },
  {
   "cell_type": "code",
   "execution_count": 8,
   "metadata": {},
   "outputs": [],
   "source": [
    "def find_last_n_results(master_df, n):\n",
    "    id_list = master_df.id.unique()\n",
    "    for i in id_list:\n",
    "        t1 = ((master_df[master_df['id'] == i]).team_one).iloc[0]\n",
    "        t2 = ((master_df[master_df['id'] == i]).team_two).iloc[0]\n",
    "        date = ((master_df[master_df['id'] == i]).date).iloc[0]\n",
    "\n",
    "        teams=[t1, t2]\n",
    "    \n",
    "        win_loss_list=[]\n",
    "\n",
    "        for team in teams:\n",
    "\n",
    "            df_partial_season=master_df[master_df['date']<date]\n",
    "            season_1 = df_partial_season[df_partial_season['team_one'] == team]\n",
    "            season_2 = df_partial_season[df_partial_season['team_two'] == team]\n",
    "                        \n",
    "            #We need to combine season 1 and season 2 and sort by date\n",
    "            team_df = pd.concat([season_1, season_2])\n",
    "            #print(f\"season_1: {season_1.shape} season_2: {season_2.shape} team_df: {team_df.shape}\")\n",
    "            team_df.sort_values(by=['date'], inplace=True, ascending=False)\n",
    "            #display(team_df.head)\n",
    "            top_n_team_df = team_df.head(n)\n",
    "            \n",
    "            wins = len(top_n_team_df[top_n_team_df['winner'] == team])\n",
    "            losses = len(top_n_team_df[top_n_team_df['winner'] != team])\n",
    "            matches = wins+losses\n",
    "            #print(f\"{team} {len(season_1)} {len(season_2)} {len(team_season)} {wins} \")\n",
    "            if matches >= n:\n",
    "                win_loss_list.append(wins)\n",
    "                win_loss_list.append(losses)\n",
    "                win_loss_list.append(matches)\n",
    "            else:\n",
    "                win_loss_list.append(\"\")\n",
    "                win_loss_list.append(\"\")\n",
    "                win_loss_list.append(\"\")\n",
    "            \n",
    "            \n",
    "        \n",
    "        #print(return_info)\n",
    "    \n",
    "        mask = master_df['id'] == i\n",
    "\n",
    "        #calculate the win percentages for each match\n",
    "        if win_loss_list[2] == 0:\n",
    "            t1_win_percent = 0\n",
    "        elif win_loss_list[2] == \"\":\n",
    "            t1_win_percent = \"\"\n",
    "        else:\n",
    "            t1_win_percent = win_loss_list[0] / win_loss_list[2]\n",
    "        if win_loss_list[5] == 0:\n",
    "            t2_win_percent = 0\n",
    "        elif win_loss_list[5] == \"\":\n",
    "            t2_win_percent = \"\"\n",
    "        else:\n",
    "            t2_win_percent = win_loss_list[3] / win_loss_list[5]\n",
    "        \n",
    "        if n == 3:\n",
    "            master_df['t1_wins_last_3'][mask] = win_loss_list[0]\n",
    "            master_df['t1_losses_last_3'][mask] = win_loss_list[1]\n",
    "            master_df['t1_win_percent_last_3'][mask] = t1_win_percent\n",
    "            master_df['t2_wins_last_3'][mask] = win_loss_list[3]\n",
    "            master_df['t2_losses_last_3'][mask] = win_loss_list[4]\n",
    "            master_df['t2_win_percent_last_3'][mask] = t2_win_percent\n",
    "        if n == 5:\n",
    "            master_df['t1_wins_last_5'][mask] = win_loss_list[0]\n",
    "            master_df['t1_losses_last_5'][mask] = win_loss_list[1]\n",
    "            master_df['t1_win_percent_last_5'][mask] = t1_win_percent\n",
    "            master_df['t2_wins_last_5'][mask] = win_loss_list[3]\n",
    "            master_df['t2_losses_last_5'][mask] = win_loss_list[4]\n",
    "            master_df['t2_win_percent_last_5'][mask] = t2_win_percent\n",
    "        elif n == 10:\n",
    "            master_df['t1_wins_last_10'][mask] = win_loss_list[0]\n",
    "            master_df['t1_losses_last_10'][mask] = win_loss_list[1]\n",
    "            master_df['t1_win_percent_last_10'][mask] = t1_win_percent\n",
    "            master_df['t2_wins_last_10'][mask] = win_loss_list[3]\n",
    "            master_df['t2_losses_last_10'][mask] = win_loss_list[4]\n",
    "            master_df['t2_win_percent_last_10'][mask] = t2_win_percent\n",
    "        elif n == 20:\n",
    "            master_df['t1_wins_last_20'][mask] = win_loss_list[0]\n",
    "            master_df['t1_losses_last_20'][mask] = win_loss_list[1]\n",
    "            master_df['t1_win_percent_last_20'][mask] = t1_win_percent\n",
    "            master_df['t2_wins_last_20'][mask] = win_loss_list[3]\n",
    "            master_df['t2_losses_last_20'][mask] = win_loss_list[4]\n",
    "            master_df['t2_win_percent_last_20'][mask] = t2_win_percent    \n",
    "    \n",
    "    return master_df"
   ]
  },
  {
   "cell_type": "code",
   "execution_count": 9,
   "metadata": {},
   "outputs": [],
   "source": [
    "results_2020 = find_team_match_results(df, '01/01/2020', '12/31/2020', '2020_season')\n",
    "results_alltime = find_team_match_results(results_2020, '11/25/2010', '01/01/2080', 'all_time')\n"
   ]
  },
  {
   "cell_type": "code",
   "execution_count": 10,
   "metadata": {},
   "outputs": [],
   "source": [
    "results_last_5 = find_last_n_results(results_alltime, 5)"
   ]
  },
  {
   "cell_type": "code",
   "execution_count": 11,
   "metadata": {},
   "outputs": [],
   "source": [
    "results_last_10 = find_last_n_results(results_last_5, 10)"
   ]
  },
  {
   "cell_type": "code",
   "execution_count": 12,
   "metadata": {},
   "outputs": [],
   "source": [
    "results_last_3 = find_last_n_results(results_last_10, 3)"
   ]
  },
  {
   "cell_type": "code",
   "execution_count": 13,
   "metadata": {},
   "outputs": [],
   "source": [
    "results_last_20 = find_last_n_results(results_last_3, 20)"
   ]
  },
  {
   "cell_type": "code",
   "execution_count": 14,
   "metadata": {},
   "outputs": [],
   "source": [
    "results_last_20.to_csv('test3.csv')"
   ]
  },
  {
   "cell_type": "code",
   "execution_count": null,
   "metadata": {},
   "outputs": [],
   "source": []
  },
  {
   "cell_type": "code",
   "execution_count": null,
   "metadata": {},
   "outputs": [],
   "source": []
  }
 ],
 "metadata": {
  "kernelspec": {
   "display_name": "Python 3",
   "language": "python",
   "name": "python3"
  },
  "language_info": {
   "codemirror_mode": {
    "name": "ipython",
    "version": 3
   },
   "file_extension": ".py",
   "mimetype": "text/x-python",
   "name": "python",
   "nbconvert_exporter": "python",
   "pygments_lexer": "ipython3",
   "version": "3.7.6"
  }
 },
 "nbformat": 4,
 "nbformat_minor": 4
}
