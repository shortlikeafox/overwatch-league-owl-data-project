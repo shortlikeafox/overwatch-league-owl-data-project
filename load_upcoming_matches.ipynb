{
 "cells": [
  {
   "cell_type": "code",
   "execution_count": 1,
   "metadata": {},
   "outputs": [],
   "source": [
    "import pandas as pd\n",
    "pd.options.mode.chained_assignment=None"
   ]
  },
  {
   "cell_type": "code",
   "execution_count": 2,
   "metadata": {},
   "outputs": [],
   "source": [
    "df=pd.read_csv(\"data/upcoming-matches.csv\")\n",
    "df['date']=pd.to_datetime(df['date'])"
   ]
  },
  {
   "cell_type": "code",
   "execution_count": 3,
   "metadata": {},
   "outputs": [
    {
     "data": {
      "text/plain": [
       "Unnamed: 0             int64\n",
       "id                     int64\n",
       "team_one              object\n",
       "team_two              object\n",
       "stage                 object\n",
       "winner                object\n",
       "date          datetime64[ns]\n",
       "dtype: object"
      ]
     },
     "execution_count": 3,
     "metadata": {},
     "output_type": "execute_result"
    }
   ],
   "source": [
    "df.dtypes"
   ]
  },
  {
   "cell_type": "code",
   "execution_count": 4,
   "metadata": {},
   "outputs": [],
   "source": [
    "#Set the corona_virus_isolation feature.  This will be True if games are being played while in isolation because of the pandemic\n",
    "df['corona_virus_isolation'] = False\n",
    "\n",
    "#We will use a mask to properly set the feature:\n",
    "mask = (df['date'] > '03/20/2020')\n",
    "df['corona_virus_isolation'] = mask"
   ]
  },
  {
   "cell_type": "code",
   "execution_count": 5,
   "metadata": {},
   "outputs": [],
   "source": [
    "#Initiate some features:\n",
    "df['t1_wins_season'] = \"\"\n",
    "df['t1_losses_season'] = \"\"\n",
    "df['t2_wins_season'] = \"\"\n",
    "df['t2_losses_season'] = \"\"\n",
    "df['t1_matches_season'] = \"\"\n",
    "df['t2_matches_season'] = \"\"\n",
    "df['t1_win_percent_season'] = \"\"\n",
    "df['t2_win_percent_season'] = \"\"\n",
    "df['t1_wins_alltime'] = \"\"\n",
    "df['t1_losses_alltime'] = \"\"\n",
    "df['t2_wins_alltime'] = \"\"\n",
    "df['t2_losses_alltime'] = \"\"\n",
    "df['t1_matches_alltime'] = \"\"\n",
    "df['t2_matches_alltime'] = \"\"\n",
    "df['t1_win_percent_alltime'] = \"\"\n",
    "df['t2_win_percent_alltime'] = \"\"\n",
    "df['t1_wins_last_3'] = \"\"\n",
    "df['t1_losses_last_3'] = \"\"\n",
    "df['t2_wins_last_3'] = \"\"\n",
    "df['t2_losses_last_3'] = \"\"\n",
    "df['t1_win_percent_last_3'] = \"\"\n",
    "df['t2_win_percent_last_3'] = \"\"\n",
    "df['t1_wins_last_5'] = \"\"\n",
    "df['t1_losses_last_5'] = \"\"\n",
    "df['t2_wins_last_5'] = \"\"\n",
    "df['t2_losses_last_5'] = \"\"\n",
    "df['t1_win_percent_last_5'] = \"\"\n",
    "df['t2_win_percent_last_5'] = \"\"\n",
    "df['t1_wins_last_10'] = \"\"\n",
    "df['t1_losses_last_10'] = \"\"\n",
    "df['t2_wins_last_10'] = \"\"\n",
    "df['t2_losses_last_10'] = \"\"\n",
    "df['t1_win_percent_last_10'] = \"\"\n",
    "df['t2_win_percent_last_10'] = \"\"\n",
    "df['t1_wins_last_20'] = \"\"\n",
    "df['t1_losses_last_20'] = \"\"\n",
    "df['t2_wins_last_20'] = \"\"\n",
    "df['t2_losses_last_20'] = \"\"\n",
    "df['t1_win_percent_last_20'] = \"\"\n",
    "df['t2_win_percent_last_20'] = \"\"\n",
    "df['t1_place_last_season'] = \"\"\n",
    "df['t2_place_last_season'] = \"\"\n",
    "df['t1_wins_vs_t2'] = \"\"\n",
    "df['t1_losses_vs_t2'] = \"\"\n",
    "df['t1_matches_vs_t2'] = \"\"\n",
    "df['t1_win_percent_vs_t2'] = \"\"\n",
    "df['winner_label'] = \"\""
   ]
  },
  {
   "cell_type": "code",
   "execution_count": 6,
   "metadata": {},
   "outputs": [],
   "source": [
    "from functions import set_winners, find_last_season_results, find_team_match_results, find_last_n_results \n",
    "from functions import find_head_to_head_results"
   ]
  },
  {
   "cell_type": "code",
   "execution_count": 7,
   "metadata": {},
   "outputs": [],
   "source": [
    "return_df = set_winners(df)\n",
    "return_df = find_last_season_results(return_df)\n",
    "return_df = find_team_match_results(return_df, '01/01/2020', '12/31/2020', 'current_season')\n",
    "return_df = find_team_match_results(return_df, '11/25/2010', '01/01/2080', 'all_time')\n",
    "return_df = find_team_match_results(return_df, '01/01/2019', '12/31/2019', 'current_season')\n",
    "return_df = find_team_match_results(return_df, '01/01/2018', '12/31/2018', 'current_season')\n",
    "return_df = find_last_n_results(return_df, 5)\n",
    "return_df = find_last_n_results(return_df, 10)\n",
    "return_df = find_last_n_results(return_df, 3)\n",
    "return_df = find_last_n_results(return_df, 20)\n",
    "return_df = find_head_to_head_results(return_df)"
   ]
  },
  {
   "cell_type": "code",
   "execution_count": 8,
   "metadata": {},
   "outputs": [],
   "source": [
    "return_df.to_csv('data/upcoming-complete.csv')"
   ]
  },
  {
   "cell_type": "code",
   "execution_count": null,
   "metadata": {},
   "outputs": [],
   "source": []
  }
 ],
 "metadata": {
  "kernelspec": {
   "display_name": "Python 3",
   "language": "python",
   "name": "python3"
  },
  "language_info": {
   "codemirror_mode": {
    "name": "ipython",
    "version": 3
   },
   "file_extension": ".py",
   "mimetype": "text/x-python",
   "name": "python",
   "nbconvert_exporter": "python",
   "pygments_lexer": "ipython3",
   "version": "3.7.6"
  }
 },
 "nbformat": 4,
 "nbformat_minor": 4
}
