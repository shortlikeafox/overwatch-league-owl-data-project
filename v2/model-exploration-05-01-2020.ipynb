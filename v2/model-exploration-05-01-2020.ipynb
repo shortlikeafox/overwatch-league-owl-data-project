{
 "cells": [
  {
   "cell_type": "code",
   "execution_count": 77,
   "metadata": {},
   "outputs": [],
   "source": [
    "import pandas as pd\n",
    "from sklearn.ensemble import RandomForestClassifier\n",
    "from functions import custom_cv_eval, get_best_features, get_ev_from_df\n",
    "from sklearn.tree import DecisionTreeClassifier\n",
    "from sklearn.linear_model import LogisticRegression\n",
    "from sklearn.preprocessing import StandardScaler\n",
    "import numpy as np\n",
    "from sklearn.neural_network import MLPClassifier\n",
    "from sklearn.ensemble import GradientBoostingClassifier\n",
    "np.set_printoptions(suppress=True)  #Suppress Scientific Notation\n",
    "\n"
   ]
  },
  {
   "cell_type": "code",
   "execution_count": 2,
   "metadata": {},
   "outputs": [],
   "source": [
    "df=pd.read_csv(\"data/owl-with-odds.csv\")"
   ]
  },
  {
   "cell_type": "code",
   "execution_count": 3,
   "metadata": {},
   "outputs": [],
   "source": [
    "#The odds need to be changed to numeric...\n",
    "\n",
    "subset = ['t1_odds', 't2_odds']\n",
    "df.dropna(subset=subset ,inplace=True)\n",
    "\n",
    "df['t1_odds'] = pd.to_numeric(df['t1_odds'], errors='coerce')\n",
    "df['t2_odds'] = pd.to_numeric(df['t2_odds'], errors='coerce')\n",
    "df.dropna(subset=subset ,inplace=True)\n"
   ]
  },
  {
   "cell_type": "code",
   "execution_count": 4,
   "metadata": {},
   "outputs": [
    {
     "name": "stdout",
     "output_type": "stream",
     "text": [
      "60\n",
      "486\n"
     ]
    }
   ],
   "source": [
    "#Split the validation set\n",
    "df_train = df[:-60]\n",
    "\n",
    "df_test = df[-60:]\n",
    "print(len(df_test))\n",
    "print(len(df_train))"
   ]
  },
  {
   "cell_type": "code",
   "execution_count": 5,
   "metadata": {},
   "outputs": [],
   "source": [
    "#inclusive features\n",
    "features = ['corona_virus_isolation', 't1_wins_season',\n",
    "       't1_losses_season', 't2_wins_season', 't2_losses_season',\n",
    "       't1_matches_season', 't2_matches_season', 't1_win_percent_season',\n",
    "       't2_win_percent_season', 't1_wins_alltime', 't1_losses_alltime',\n",
    "       't2_wins_alltime', 't2_losses_alltime', 't1_matches_alltime',\n",
    "       't2_matches_alltime', 't1_win_percent_alltime',\n",
    "       't2_win_percent_alltime', 't1_wins_last_3', 't1_losses_last_3',\n",
    "       't2_wins_last_3', 't2_losses_last_3', 't1_win_percent_last_3',\n",
    "       't2_win_percent_last_3', 't1_wins_last_5', 't1_losses_last_5',\n",
    "       't2_wins_last_5', 't2_losses_last_5', 't1_win_percent_last_5',\n",
    "       't2_win_percent_last_5', 't1_wins_last_10', 't1_losses_last_10',\n",
    "       't2_wins_last_10', 't2_losses_last_10', 't1_win_percent_last_10',\n",
    "       't2_win_percent_last_10', \n",
    "        't1_wins_vs_t2', 't1_losses_vs_t2',\n",
    "       't1_matches_vs_t2', 't1_odds', 't2_odds', 'winner_label']"
   ]
  },
  {
   "cell_type": "code",
   "execution_count": 6,
   "metadata": {},
   "outputs": [],
   "source": [
    "#Full list of possible features\n",
    "\n",
    "pos_features = ['corona_virus_isolation', 't1_wins_season',\n",
    "       't1_losses_season', 't2_wins_season', 't2_losses_season',\n",
    "       't1_matches_season', 't2_matches_season', 't1_win_percent_season',\n",
    "       't2_win_percent_season', 't1_wins_alltime', 't1_losses_alltime',\n",
    "       't2_wins_alltime', 't2_losses_alltime', 't1_matches_alltime',\n",
    "       't2_matches_alltime', 't1_win_percent_alltime',\n",
    "       't2_win_percent_alltime', 't1_wins_last_3', 't1_losses_last_3',\n",
    "       't2_wins_last_3', 't2_losses_last_3', 't1_win_percent_last_3',\n",
    "       't2_win_percent_last_3', 't1_wins_last_5', 't1_losses_last_5',\n",
    "       't2_wins_last_5', 't2_losses_last_5', 't1_win_percent_last_5',\n",
    "       't2_win_percent_last_5', 't1_wins_last_10', 't1_losses_last_10',\n",
    "       't2_wins_last_10', 't2_losses_last_10', 't1_win_percent_last_10',\n",
    "       't2_win_percent_last_10', \n",
    "        't1_wins_vs_t2', 't1_losses_vs_t2',\n",
    "       't1_matches_vs_t2']"
   ]
  },
  {
   "cell_type": "code",
   "execution_count": 7,
   "metadata": {},
   "outputs": [],
   "source": [
    "df_test_filtered = df_test[features].copy()\n",
    "df_train_filtered = df_train[features].copy()\n",
    "df_test_filtered.dropna(inplace=True)\n",
    "df_train_filtered.dropna(inplace=True)"
   ]
  },
  {
   "cell_type": "code",
   "execution_count": null,
   "metadata": {},
   "outputs": [],
   "source": [
    "model_3 = RandomForestClassifier(random_state=75)\n",
    "features_3 = ['t2_wins_last_5', 't1_win_percent_season', 't1_losses_season', 't2_losses_last_5', 't1_wins_vs_t2',\n",
    "            'winner_label', 't1_odds', 't2_odds']\n",
    "df_3 = df_train_filtered[features_3]"
   ]
  },
  {
   "cell_type": "code",
   "execution_count": null,
   "metadata": {},
   "outputs": [],
   "source": [
    "print(df_3.shape)"
   ]
  },
  {
   "cell_type": "code",
   "execution_count": null,
   "metadata": {},
   "outputs": [],
   "source": [
    "print(f\"total: {custom_cv_eval(df_3, model_3)}\")"
   ]
  },
  {
   "cell_type": "code",
   "execution_count": null,
   "metadata": {},
   "outputs": [],
   "source": [
    "model_5 = DecisionTreeClassifier(ccp_alpha=0.0, class_weight=None, criterion='entropy',\n",
    "                       max_depth=12, max_features=None, max_leaf_nodes=None,\n",
    "                       min_impurity_decrease=0.0, min_impurity_split=None,\n",
    "                       min_samples_leaf=4, min_samples_split=2,\n",
    "                       min_weight_fraction_leaf=0.0, presort='deprecated',\n",
    "                       random_state=75, splitter='best')\n",
    "features_5 = ['t1_wins_last_3', 't2_matches_alltime', 'winner_label', 't1_odds', 't2_odds']\n",
    "df_5 = df_train_filtered[features_5]"
   ]
  },
  {
   "cell_type": "code",
   "execution_count": null,
   "metadata": {},
   "outputs": [],
   "source": [
    "print(f\"total: {custom_cv_eval(df_5, model_5)}\")"
   ]
  },
  {
   "cell_type": "code",
   "execution_count": null,
   "metadata": {},
   "outputs": [],
   "source": [
    "X=df_train_filtered[features_3].copy()\n",
    "X_test=df_test_filtered[features_3].copy()\n",
    "y = X['winner_label']\n",
    "y_test=X_test['winner_label']\n",
    "X = X.drop('winner_label', axis=1)\n",
    "X_test = X_test.drop('winner_label', axis=1)\n",
    "model_3.fit(X, y)\n",
    "probs=model_3.predict_proba(X_test)\n",
    "X_test_list = np.array(X_test)\n",
    "X_odds = list(zip(X_test_list[:, -2], X_test_list[:, -1], probs[:, 0], probs[:, 1], y_test))\n",
    "ev_prepped_df = pd.DataFrame(X_odds, columns=['t1_odds', 't2_odds', 't1_prob', 't2_prob', 'winner'])\n",
    "#display(ev_prepped_df)\n",
    "get_ev_from_df(ev_prepped_df, True)\n",
    "probs_3 = probs"
   ]
  },
  {
   "cell_type": "code",
   "execution_count": null,
   "metadata": {},
   "outputs": [],
   "source": [
    "X=df_train_filtered[features_5].copy()\n",
    "X_test=df_test_filtered[features_5].copy()\n",
    "y = X['winner_label']\n",
    "y_test=X_test['winner_label']\n",
    "X = X.drop('winner_label', axis=1)\n",
    "X_test = X_test.drop('winner_label', axis=1)\n",
    "model_5.fit(X, y)\n",
    "probs=model_5.predict_proba(X_test)\n",
    "X_test_list = np.array(X_test)\n",
    "X_odds = list(zip(X_test_list[:, -2], X_test_list[:, -1], probs[:, 0], probs[:, 1], y_test))\n",
    "ev_prepped_df = pd.DataFrame(X_odds, columns=['t1_odds', 't2_odds', 't1_prob', 't2_prob', 'winner'])\n",
    "#display(ev_prepped_df)\n",
    "get_ev_from_df(ev_prepped_df, True)\n",
    "probs_5 = probs"
   ]
  },
  {
   "cell_type": "code",
   "execution_count": null,
   "metadata": {},
   "outputs": [],
   "source": [
    "print(probs_5)"
   ]
  },
  {
   "cell_type": "markdown",
   "metadata": {},
   "source": [
    "### #OK THOSE SUCK.  Let's make some new ones.\n",
    "#Let's start from scratch with a random forest"
   ]
  },
  {
   "cell_type": "code",
   "execution_count": null,
   "metadata": {},
   "outputs": [],
   "source": [
    "model = RandomForestClassifier(random_state=75)"
   ]
  },
  {
   "cell_type": "code",
   "execution_count": null,
   "metadata": {},
   "outputs": [],
   "source": [
    "f_rf=get_best_features(pos_features, model,  df_train_filtered, current_features)"
   ]
  },
  {
   "cell_type": "code",
   "execution_count": null,
   "metadata": {},
   "outputs": [],
   "source": [
    "print(f_rf)"
   ]
  },
  {
   "cell_type": "code",
   "execution_count": null,
   "metadata": {},
   "outputs": [],
   "source": [
    "n_estimators_pos=[10,50,100,150]\n",
    "criterion_pos=['gini', 'entropy']\n",
    "max_depth_pos=[None, 2,4,6,8,10]\n",
    "min_samples_leaf_pos=[1,2,3,4,5,6]\n"
   ]
  },
  {
   "cell_type": "code",
   "execution_count": null,
   "metadata": {},
   "outputs": [],
   "source": []
  },
  {
   "cell_type": "code",
   "execution_count": null,
   "metadata": {},
   "outputs": [],
   "source": [
    "best_score=0\n",
    "best_features=0\n",
    "for ne in n_estimators_pos:\n",
    "    for c in criterion_pos:\n",
    "        for md in max_depth_pos:\n",
    "            for msl in min_samples_leaf_pos:\n",
    "                model = RandomForestClassifier(random_state=75, n_estimators=ne, criterion=c, max_depth=md,\n",
    "                                              min_samples_leaf=msl)\n",
    "                possible_score=custom_cv_eval(df_train_filtered[f_rf], model)\n",
    "                if possible_score > best_score:\n",
    "                    best_score=possible_score\n",
    "                    best_features=[ne, c, md, msl]\n",
    "                    best_model = model\n",
    "                    print(f\"{best_score} {best_features}\")  "
   ]
  },
  {
   "cell_type": "code",
   "execution_count": null,
   "metadata": {},
   "outputs": [],
   "source": [
    "print(best_model)\n",
    "print(f_rf)"
   ]
  },
  {
   "cell_type": "code",
   "execution_count": null,
   "metadata": {},
   "outputs": [],
   "source": [
    "X=df_train_filtered[f_rf].copy()\n",
    "X_test=df_test_filtered[f_rf].copy()\n",
    "y = X['winner_label']\n",
    "y_test=X_test['winner_label']\n",
    "X = X.drop('winner_label', axis=1)\n",
    "X_test = X_test.drop('winner_label', axis=1)\n",
    "best_model.fit(X, y)\n",
    "probs=best_model.predict_proba(X_test)\n",
    "X_test_list = np.array(X_test)\n",
    "X_odds = list(zip(X_test_list[:, -2], X_test_list[:, -1], probs[:, 0], probs[:, 1], y_test))\n",
    "ev_prepped_df = pd.DataFrame(X_odds, columns=['t1_odds', 't2_odds', 't1_prob', 't2_prob', 'winner'])\n",
    "#display(ev_prepped_df)\n",
    "get_ev_from_df(ev_prepped_df, True)\n"
   ]
  },
  {
   "cell_type": "code",
   "execution_count": null,
   "metadata": {},
   "outputs": [],
   "source": [
    "model = DecisionTreeClassifier(random_state=75)\n"
   ]
  },
  {
   "cell_type": "code",
   "execution_count": null,
   "metadata": {},
   "outputs": [],
   "source": [
    "f_dt=get_best_features(pos_features, model,  df_train_filtered, current_features)"
   ]
  },
  {
   "cell_type": "code",
   "execution_count": null,
   "metadata": {},
   "outputs": [],
   "source": [
    "criterion_pos = ['gini', 'entropy']\n",
    "max_depth_pos = [3, 6, 9, 12, None, 10]\n",
    "min_samples_leaf_pos = [1,2,3,4,5]\n"
   ]
  },
  {
   "cell_type": "code",
   "execution_count": null,
   "metadata": {},
   "outputs": [],
   "source": [
    "best_score = 0\n",
    "best_features = []\n",
    "for c in criterion_pos:\n",
    "    for md in max_depth_pos:\n",
    "        for msl in min_samples_leaf_pos:\n",
    "            model = DecisionTreeClassifier(max_depth=md, min_samples_leaf=msl, criterion=c, random_state=75)\n",
    "            possible_score=custom_cv_eval(df_train_filtered[f_dt], model)\n",
    "            if possible_score > best_score:\n",
    "                best_score=possible_score\n",
    "                best_features=[c, md, msl]\n",
    "                best_model = model\n",
    "                print(f\"{best_score} {best_features}\")\n"
   ]
  },
  {
   "cell_type": "code",
   "execution_count": null,
   "metadata": {},
   "outputs": [],
   "source": [
    "print(best_model)\n",
    "print(f_dt)"
   ]
  },
  {
   "cell_type": "code",
   "execution_count": null,
   "metadata": {},
   "outputs": [],
   "source": [
    "X=df_train_filtered[f_dt].copy()\n",
    "X_test=df_test_filtered[f_dt].copy()\n",
    "y = X['winner_label']\n",
    "y_test=X_test['winner_label']\n",
    "X = X.drop('winner_label', axis=1)\n",
    "X_test = X_test.drop('winner_label', axis=1)\n",
    "best_model.fit(X, y)\n",
    "probs=best_model.predict_proba(X_test)\n",
    "X_test_list = np.array(X_test)\n",
    "X_odds = list(zip(X_test_list[:, -2], X_test_list[:, -1], probs[:, 0], probs[:, 1], y_test))\n",
    "ev_prepped_df = pd.DataFrame(X_odds, columns=['t1_odds', 't2_odds', 't1_prob', 't2_prob', 'winner'])\n",
    "#display(ev_prepped_df)\n",
    "get_ev_from_df(ev_prepped_df, True)"
   ]
  },
  {
   "cell_type": "markdown",
   "metadata": {},
   "source": [
    "### MODEL 1"
   ]
  },
  {
   "cell_type": "code",
   "execution_count": 84,
   "metadata": {},
   "outputs": [],
   "source": [
    "model = DecisionTreeClassifier(max_depth=10, min_samples_leaf=3, random_state=75)\n",
    "features = ['t1_wins_last_3', 't2_matches_alltime', 'winner_label', 't1_odds', 't2_odds']"
   ]
  },
  {
   "cell_type": "code",
   "execution_count": 85,
   "metadata": {},
   "outputs": [
    {
     "name": "stdout",
     "output_type": "stream",
     "text": [
      "\n",
      "          Number of matches: 60\n",
      "          Number of bets: 60\n",
      "          Number of winning bets: 32\n",
      "          Number of losing bets: 28\n",
      "          Number of underdog bets: 23\n",
      "          Number of underdog wins: 7\n",
      "          Number of underdog losses: 16\n",
      "          Number of Favorite bets: 37\n",
      "          Number of favorite wins: 25\n",
      "          Number of favorite losses: 12\n",
      "          Number of even bets: 0\n",
      "          Number of even wins: 0\n",
      "          Number of even losses: 0\n",
      "          Profit: -707.3538644761904\n",
      "          Profit per bet: -11.789231074603174\n",
      "          Profit per match: -11.789231074603174\n",
      "          \n",
      "          \n"
     ]
    },
    {
     "data": {
      "text/plain": [
       "-11.789231074603174"
      ]
     },
     "execution_count": 85,
     "metadata": {},
     "output_type": "execute_result"
    }
   ],
   "source": [
    "X=df_train_filtered[features].copy()\n",
    "X_test=df_test_filtered[features].copy()\n",
    "y = X['winner_label']\n",
    "y_test=X_test['winner_label']\n",
    "X = X.drop('winner_label', axis=1)\n",
    "X_test = X_test.drop('winner_label', axis=1)\n",
    "model.fit(X, y)\n",
    "probs=model.predict_proba(X_test)\n",
    "probs_1 = probs\n",
    "X_test_list = np.array(X_test)\n",
    "X_odds = list(zip(X_test_list[:, -2], X_test_list[:, -1], probs[:, 0], probs[:, 1], y_test))\n",
    "ev_prepped_df = pd.DataFrame(X_odds, columns=['t1_odds', 't2_odds', 't1_prob', 't2_prob', 'winner'])\n",
    "#display(ev_prepped_df)\n",
    "get_ev_from_df(ev_prepped_df, True)"
   ]
  },
  {
   "cell_type": "markdown",
   "metadata": {},
   "source": [
    "### MODEL 2"
   ]
  },
  {
   "cell_type": "code",
   "execution_count": 89,
   "metadata": {},
   "outputs": [],
   "source": [
    "model = LogisticRegression(random_state=75, max_iter=1000)\n",
    "features = ['t2_win_percent_last_10', 't1_losses_alltime', 'winner_label', 't1_odds', 't2_odds']\n"
   ]
  },
  {
   "cell_type": "code",
   "execution_count": 90,
   "metadata": {},
   "outputs": [
    {
     "name": "stdout",
     "output_type": "stream",
     "text": [
      "LogisticRegression(C=1.0, class_weight=None, dual=False, fit_intercept=True,\n",
      "                   intercept_scaling=1, l1_ratio=None, max_iter=1000,\n",
      "                   multi_class='auto', n_jobs=None, penalty='l2',\n",
      "                   random_state=75, solver='lbfgs', tol=0.0001, verbose=0,\n",
      "                   warm_start=False)\n"
     ]
    }
   ],
   "source": [
    "print(model)"
   ]
  },
  {
   "cell_type": "markdown",
   "metadata": {},
   "source": [
    "model"
   ]
  },
  {
   "cell_type": "code",
   "execution_count": 108,
   "metadata": {},
   "outputs": [
    {
     "name": "stdout",
     "output_type": "stream",
     "text": [
      "\n",
      "          Number of matches: 60\n",
      "          Number of bets: 49\n",
      "          Number of winning bets: 15\n",
      "          Number of losing bets: 34\n",
      "          Number of underdog bets: 42\n",
      "          Number of underdog wins: 11\n",
      "          Number of underdog losses: 31\n",
      "          Number of Favorite bets: 7\n",
      "          Number of favorite wins: 4\n",
      "          Number of favorite losses: 3\n",
      "          Number of even bets: 0\n",
      "          Number of even wins: 0\n",
      "          Number of even losses: 0\n",
      "          Profit: -642.5809345637672\n",
      "          Profit per bet: -13.113896623750351\n",
      "          Profit per match: -10.709682242729453\n",
      "          \n",
      "          \n"
     ]
    },
    {
     "data": {
      "text/plain": [
       "-13.113896623750351"
      ]
     },
     "execution_count": 108,
     "metadata": {},
     "output_type": "execute_result"
    }
   ],
   "source": [
    "#SCALER ONLY NEEDED FOR LR\n",
    "\n",
    "##\n",
    "\n",
    "\n",
    "X=df_train_filtered[features].copy()\n",
    "\n",
    "\n",
    "X_test=df_test_filtered[features].copy()\n",
    "y = X['winner_label']\n",
    "y_test=X_test['winner_label']\n",
    "X = X.drop('winner_label', axis=1)\n",
    "X_test = X_test.drop('winner_label', axis=1)\n",
    "X_test_list = np.array(X_test)\n",
    "#SCALER ONLY NEEDED FOR LR\n",
    "sc=StandardScaler()\n",
    "X = sc.fit_transform(X)\n",
    "X_test = sc.transform(X_test)\n",
    "##\n",
    "\n",
    "\n",
    "\n",
    "model.fit(X, y)\n",
    "probs=model.predict_proba(X_test)\n",
    "probs_2=probs\n",
    "X_odds = list(zip(X_test_list[:, -2], X_test_list[:, -1], probs[:, 0], probs[:, 1], y_test))\n",
    "ev_prepped_df = pd.DataFrame(X_odds, columns=['t1_odds', 't2_odds', 't1_prob', 't2_prob', 'winner'])\n",
    "#display(ev_prepped_df)\n",
    "get_ev_from_df(ev_prepped_df, True)"
   ]
  },
  {
   "cell_type": "code",
   "execution_count": 58,
   "metadata": {},
   "outputs": [
    {
     "data": {
      "text/plain": [
       "LogisticRegression(C=1.0, class_weight=None, dual=False, fit_intercept=True,\n",
       "                   intercept_scaling=1, l1_ratio=None, max_iter=1000,\n",
       "                   multi_class='auto', n_jobs=None, penalty='l2',\n",
       "                   random_state=75, solver='lbfgs', tol=0.0001, verbose=0,\n",
       "                   warm_start=False)"
      ]
     },
     "execution_count": 58,
     "metadata": {},
     "output_type": "execute_result"
    }
   ],
   "source": []
  },
  {
   "cell_type": "markdown",
   "metadata": {},
   "source": [
    "### MODEL 3"
   ]
  },
  {
   "cell_type": "code",
   "execution_count": 36,
   "metadata": {},
   "outputs": [],
   "source": [
    "model = RandomForestClassifier(random_state=75)\n",
    "features = ['t2_wins_last_5', 't1_win_percent_season', 't1_losses_season', 't2_losses_last_5', 't1_wins_vs_t2',\n",
    "            'winner_label', 't1_odds', 't2_odds']"
   ]
  },
  {
   "cell_type": "code",
   "execution_count": 37,
   "metadata": {},
   "outputs": [
    {
     "name": "stdout",
     "output_type": "stream",
     "text": [
      "\n",
      "          Number of matches: 60\n",
      "          Number of bets: 54\n",
      "          Number of winning bets: 24\n",
      "          Number of losing bets: 30\n",
      "          Number of underdog bets: 26\n",
      "          Number of underdog wins: 7\n",
      "          Number of underdog losses: 19\n",
      "          Number of Favorite bets: 28\n",
      "          Number of favorite wins: 17\n",
      "          Number of favorite losses: 11\n",
      "          Number of even bets: 0\n",
      "          Number of even wins: 0\n",
      "          Number of even losses: 0\n",
      "          Profit: -963.3016424729295\n",
      "          Profit per bet: -17.83891930505425\n",
      "          Profit per match: -16.055027374548825\n",
      "          \n",
      "          \n"
     ]
    },
    {
     "data": {
      "text/plain": [
       "-17.83891930505425"
      ]
     },
     "execution_count": 37,
     "metadata": {},
     "output_type": "execute_result"
    }
   ],
   "source": [
    "X=df_train_filtered[features].copy()\n",
    "X_test=df_test_filtered[features].copy()\n",
    "y = X['winner_label']\n",
    "y_test=X_test['winner_label']\n",
    "X = X.drop('winner_label', axis=1)\n",
    "X_test = X_test.drop('winner_label', axis=1)\n",
    "model.fit(X, y)\n",
    "probs=model.predict_proba(X_test)\n",
    "X_test_list = np.array(X_test)\n",
    "X_odds = list(zip(X_test_list[:, -2], X_test_list[:, -1], probs[:, 0], probs[:, 1], y_test))\n",
    "ev_prepped_df = pd.DataFrame(X_odds, columns=['t1_odds', 't2_odds', 't1_prob', 't2_prob', 'winner'])\n",
    "#display(ev_prepped_df)\n",
    "get_ev_from_df(ev_prepped_df, True)"
   ]
  },
  {
   "cell_type": "markdown",
   "metadata": {},
   "source": [
    "### MODEL 4"
   ]
  },
  {
   "cell_type": "code",
   "execution_count": 38,
   "metadata": {},
   "outputs": [],
   "source": [
    "model=MLPClassifier(random_state=75) \n",
    "features = ['t1_matches_season', 'winner_label', 't1_odds', 't2_odds']"
   ]
  },
  {
   "cell_type": "code",
   "execution_count": 39,
   "metadata": {},
   "outputs": [
    {
     "name": "stdout",
     "output_type": "stream",
     "text": [
      "\n",
      "          Number of matches: 60\n",
      "          Number of bets: 58\n",
      "          Number of winning bets: 27\n",
      "          Number of losing bets: 31\n",
      "          Number of underdog bets: 23\n",
      "          Number of underdog wins: 5\n",
      "          Number of underdog losses: 18\n",
      "          Number of Favorite bets: 35\n",
      "          Number of favorite wins: 22\n",
      "          Number of favorite losses: 13\n",
      "          Number of even bets: 0\n",
      "          Number of even wins: 0\n",
      "          Number of even losses: 0\n",
      "          Profit: -1889.3424355841478\n",
      "          Profit per bet: -32.57486957903703\n",
      "          Profit per match: -31.48904059306913\n",
      "          \n",
      "          \n"
     ]
    },
    {
     "data": {
      "text/plain": [
       "-32.57486957903703"
      ]
     },
     "execution_count": 39,
     "metadata": {},
     "output_type": "execute_result"
    }
   ],
   "source": [
    "X=df_train_filtered[features].copy()\n",
    "X_test=df_test_filtered[features].copy()\n",
    "y = X['winner_label']\n",
    "y_test=X_test['winner_label']\n",
    "X = X.drop('winner_label', axis=1)\n",
    "X_test = X_test.drop('winner_label', axis=1)\n",
    "model.fit(X, y)\n",
    "probs=model.predict_proba(X_test)\n",
    "X_test_list = np.array(X_test)\n",
    "X_odds = list(zip(X_test_list[:, -2], X_test_list[:, -1], probs[:, 0], probs[:, 1], y_test))\n",
    "ev_prepped_df = pd.DataFrame(X_odds, columns=['t1_odds', 't2_odds', 't1_prob', 't2_prob', 'winner'])\n",
    "#display(ev_prepped_df)\n",
    "get_ev_from_df(ev_prepped_df, True)"
   ]
  },
  {
   "cell_type": "markdown",
   "metadata": {},
   "source": [
    "### MODEL 5"
   ]
  },
  {
   "cell_type": "code",
   "execution_count": 21,
   "metadata": {},
   "outputs": [],
   "source": [
    "model=DecisionTreeClassifier(ccp_alpha=0.0, class_weight=None, criterion='entropy',\n",
    "                       max_depth=12, max_features=None, max_leaf_nodes=None,\n",
    "                       min_impurity_decrease=0.0, min_impurity_split=None,\n",
    "                       min_samples_leaf=4, min_samples_split=2,\n",
    "                       min_weight_fraction_leaf=0.0, presort='deprecated',\n",
    "                       random_state=75, splitter='best')\n",
    "features = ['t1_wins_last_3', 't2_matches_alltime', 'winner_label', 't1_odds', 't2_odds']"
   ]
  },
  {
   "cell_type": "code",
   "execution_count": 22,
   "metadata": {},
   "outputs": [
    {
     "name": "stdout",
     "output_type": "stream",
     "text": [
      "\n",
      "          Number of matches: 60\n",
      "          Number of bets: 52\n",
      "          Number of winning bets: 23\n",
      "          Number of losing bets: 29\n",
      "          Number of underdog bets: 24\n",
      "          Number of underdog wins: 6\n",
      "          Number of underdog losses: 18\n",
      "          Number of Favorite bets: 28\n",
      "          Number of favorite wins: 17\n",
      "          Number of favorite losses: 11\n",
      "          Number of even bets: 0\n",
      "          Number of even wins: 0\n",
      "          Number of even losses: 0\n",
      "          Profit: -1267.6770208695882\n",
      "          Profit per bet: -24.37840424749208\n",
      "          Profit per match: -21.12795034782647\n",
      "          \n",
      "          \n"
     ]
    },
    {
     "data": {
      "text/plain": [
       "-24.37840424749208"
      ]
     },
     "execution_count": 22,
     "metadata": {},
     "output_type": "execute_result"
    }
   ],
   "source": [
    "X=df_train_filtered[features].copy()\n",
    "X_test=df_test_filtered[features].copy()\n",
    "y = X['winner_label']\n",
    "y_test=X_test['winner_label']\n",
    "X = X.drop('winner_label', axis=1)\n",
    "X_test = X_test.drop('winner_label', axis=1)\n",
    "model.fit(X, y)\n",
    "probs=model.predict_proba(X_test)\n",
    "X_test_list = np.array(X_test)\n",
    "X_odds = list(zip(X_test_list[:, -2], X_test_list[:, -1], probs[:, 0], probs[:, 1], y_test))\n",
    "ev_prepped_df = pd.DataFrame(X_odds, columns=['t1_odds', 't2_odds', 't1_prob', 't2_prob', 'winner'])\n",
    "#display(ev_prepped_df)\n",
    "get_ev_from_df(ev_prepped_df, True)"
   ]
  },
  {
   "cell_type": "markdown",
   "metadata": {},
   "source": [
    "### MODEL 6"
   ]
  },
  {
   "cell_type": "code",
   "execution_count": 23,
   "metadata": {},
   "outputs": [],
   "source": [
    "model=RandomForestClassifier(bootstrap=True, ccp_alpha=0.0, class_weight=None,\n",
    "                       criterion='gini', max_depth=6, max_features='auto',\n",
    "                       max_leaf_nodes=None, max_samples=None,\n",
    "                       min_impurity_decrease=0.0, min_impurity_split=None,\n",
    "                       min_samples_leaf=1, min_samples_split=2,\n",
    "                       min_weight_fraction_leaf=0.0, n_estimators=50,\n",
    "                       n_jobs=None, oob_score=False, random_state=75, verbose=0,\n",
    "                       warm_start=False)\n",
    "\n",
    "features = ['t2_wins_last_5', 't1_win_percent_season', 't1_losses_season', 't2_losses_last_5', 't1_wins_vs_t2', 'winner_label', 't1_odds', 't2_odds']\n"
   ]
  },
  {
   "cell_type": "code",
   "execution_count": 24,
   "metadata": {},
   "outputs": [
    {
     "name": "stdout",
     "output_type": "stream",
     "text": [
      "\n",
      "          Number of matches: 60\n",
      "          Number of bets: 52\n",
      "          Number of winning bets: 21\n",
      "          Number of losing bets: 31\n",
      "          Number of underdog bets: 28\n",
      "          Number of underdog wins: 7\n",
      "          Number of underdog losses: 21\n",
      "          Number of Favorite bets: 24\n",
      "          Number of favorite wins: 14\n",
      "          Number of favorite losses: 10\n",
      "          Number of even bets: 0\n",
      "          Number of even wins: 0\n",
      "          Number of even losses: 0\n",
      "          Profit: -908.2604830078825\n",
      "          Profit per bet: -17.466547750151587\n",
      "          Profit per match: -15.137674716798042\n",
      "          \n",
      "          \n"
     ]
    },
    {
     "data": {
      "text/plain": [
       "-17.466547750151587"
      ]
     },
     "execution_count": 24,
     "metadata": {},
     "output_type": "execute_result"
    }
   ],
   "source": [
    "X=df_train_filtered[features].copy()\n",
    "X_test=df_test_filtered[features].copy()\n",
    "y = X['winner_label']\n",
    "y_test=X_test['winner_label']\n",
    "X = X.drop('winner_label', axis=1)\n",
    "X_test = X_test.drop('winner_label', axis=1)\n",
    "model.fit(X, y)\n",
    "probs=model.predict_proba(X_test)\n",
    "X_test_list = np.array(X_test)\n",
    "X_odds = list(zip(X_test_list[:, -2], X_test_list[:, -1], probs[:, 0], probs[:, 1], y_test))\n",
    "ev_prepped_df = pd.DataFrame(X_odds, columns=['t1_odds', 't2_odds', 't1_prob', 't2_prob', 'winner'])\n",
    "#display(ev_prepped_df)\n",
    "get_ev_from_df(ev_prepped_df, True)"
   ]
  },
  {
   "cell_type": "markdown",
   "metadata": {},
   "source": [
    "### MODEL 7"
   ]
  },
  {
   "cell_type": "code",
   "execution_count": 69,
   "metadata": {},
   "outputs": [],
   "source": [
    "model=GradientBoostingClassifier(ccp_alpha=0.0, criterion='friedman_mse', init=None,\n",
    "                           learning_rate=0.2, loss='deviance', max_depth=16,\n",
    "                           max_features=None, max_leaf_nodes=None,\n",
    "                           min_impurity_decrease=0.0, min_impurity_split=None,\n",
    "                           min_samples_leaf=6, min_samples_split=2,\n",
    "                           min_weight_fraction_leaf=0.0, n_estimators=200,\n",
    "                           n_iter_no_change=None, presort='deprecated',\n",
    "                           random_state=75, subsample=1.0, tol=0.0001,\n",
    "                           validation_fraction=0.1, verbose=0,\n",
    "                           warm_start=False)\n",
    "\n",
    "features =['corona_virus_isolation', 't1_wins_season', 't1_losses_season', 't2_wins_season', 't2_losses_season', 't1_matches_season', 't2_matches_season', 't1_win_percent_season', 't2_win_percent_season', 't1_wins_alltime', 't1_losses_alltime', 't2_wins_alltime', 't2_losses_alltime', 't1_matches_alltime', 't2_matches_alltime', 't1_win_percent_alltime', 't2_win_percent_alltime', 't1_wins_last_3', 't1_losses_last_3', 't2_wins_last_3', 't2_losses_last_3', 't1_win_percent_last_3', 't2_win_percent_last_3', 't1_wins_last_5', 't1_losses_last_5', 't2_wins_last_5', 't2_losses_last_5', 't1_win_percent_last_5', 't2_win_percent_last_5', 't1_wins_last_10', 't1_losses_last_10', 't2_wins_last_10', 't2_losses_last_10', 't1_win_percent_last_10', 't2_win_percent_last_10', 't1_wins_vs_t2', 't1_losses_vs_t2', 't1_matches_vs_t2', 'winner_label', 't1_odds', 't2_odds']\n"
   ]
  },
  {
   "cell_type": "code",
   "execution_count": 70,
   "metadata": {},
   "outputs": [
    {
     "name": "stdout",
     "output_type": "stream",
     "text": [
      "\n",
      "          Number of matches: 60\n",
      "          Number of bets: 60\n",
      "          Number of winning bets: 35\n",
      "          Number of losing bets: 25\n",
      "          Number of underdog bets: 14\n",
      "          Number of underdog wins: 4\n",
      "          Number of underdog losses: 10\n",
      "          Number of Favorite bets: 46\n",
      "          Number of favorite wins: 31\n",
      "          Number of favorite losses: 15\n",
      "          Number of even bets: 0\n",
      "          Number of even wins: 0\n",
      "          Number of even losses: 0\n",
      "          Profit: -847.7502781849504\n",
      "          Profit per bet: -14.129171303082506\n",
      "          Profit per match: -14.129171303082506\n",
      "          \n",
      "          \n"
     ]
    },
    {
     "data": {
      "text/plain": [
       "-14.129171303082506"
      ]
     },
     "execution_count": 70,
     "metadata": {},
     "output_type": "execute_result"
    }
   ],
   "source": [
    "X=df_train_filtered[features].copy()\n",
    "X_test=df_test_filtered[features].copy()\n",
    "y = X['winner_label']\n",
    "y_test=X_test['winner_label']\n",
    "X = X.drop('winner_label', axis=1)\n",
    "X_test = X_test.drop('winner_label', axis=1)\n",
    "model.fit(X, y)\n",
    "probs=model.predict_proba(X_test)\n",
    "probs_7=probs\n",
    "X_test_list = np.array(X_test)\n",
    "X_odds = list(zip(X_test_list[:, -2], X_test_list[:, -1], probs[:, 0], probs[:, 1], y_test))\n",
    "ev_prepped_df = pd.DataFrame(X_odds, columns=['t1_odds', 't2_odds', 't1_prob', 't2_prob', 'winner'])\n",
    "#display(ev_prepped_df)\n",
    "get_ev_from_df(ev_prepped_df, True)"
   ]
  },
  {
   "cell_type": "code",
   "execution_count": 54,
   "metadata": {},
   "outputs": [
    {
     "data": {
      "text/plain": [
       "GradientBoostingClassifier(ccp_alpha=0.0, criterion='friedman_mse', init=None,\n",
       "                           learning_rate=0.2, loss='deviance', max_depth=16,\n",
       "                           max_features=None, max_leaf_nodes=None,\n",
       "                           min_impurity_decrease=0.0, min_impurity_split=None,\n",
       "                           min_samples_leaf=6, min_samples_split=2,\n",
       "                           min_weight_fraction_leaf=0.0, n_estimators=200,\n",
       "                           n_iter_no_change=None, presort='deprecated',\n",
       "                           random_state=75, subsample=1.0, tol=0.0001,\n",
       "                           validation_fraction=0.1, verbose=0,\n",
       "                           warm_start=False)"
      ]
     },
     "execution_count": 54,
     "metadata": {},
     "output_type": "execute_result"
    }
   ],
   "source": []
  },
  {
   "cell_type": "code",
   "execution_count": 75,
   "metadata": {},
   "outputs": [
    {
     "data": {
      "text/plain": [
       "array([[0.27501557, 0.72498443],\n",
       "       [0.56008416, 0.43991584],\n",
       "       [0.45985763, 0.54014237],\n",
       "       [0.84328807, 0.15671193],\n",
       "       [0.33307019, 0.66692981],\n",
       "       [0.649914  , 0.350086  ],\n",
       "       [0.40331377, 0.59668623],\n",
       "       [0.74001756, 0.25998244],\n",
       "       [0.02861042, 0.97138958],\n",
       "       [0.36418579, 0.63581421],\n",
       "       [0.48069298, 0.51930702],\n",
       "       [0.61868384, 0.38131616],\n",
       "       [0.53205339, 0.46794661],\n",
       "       [0.63369871, 0.36630129],\n",
       "       [0.27826839, 0.72173161],\n",
       "       [0.36372537, 0.63627463],\n",
       "       [0.61046415, 0.38953585],\n",
       "       [0.12437372, 0.87562628],\n",
       "       [0.2694452 , 0.7305548 ],\n",
       "       [0.58754678, 0.41245322],\n",
       "       [0.18779484, 0.81220516],\n",
       "       [0.39030495, 0.60969505],\n",
       "       [0.4071801 , 0.5928199 ],\n",
       "       [0.55309653, 0.44690347],\n",
       "       [0.32925275, 0.67074725],\n",
       "       [0.41747843, 0.58252157],\n",
       "       [0.55705111, 0.44294889],\n",
       "       [0.33474743, 0.66525257],\n",
       "       [0.54901983, 0.45098017],\n",
       "       [0.27274954, 0.72725046],\n",
       "       [0.35921974, 0.64078026],\n",
       "       [0.56508648, 0.43491352],\n",
       "       [0.46797269, 0.53202731],\n",
       "       [0.66919685, 0.33080315],\n",
       "       [0.50340627, 0.49659373],\n",
       "       [0.46776214, 0.53223786],\n",
       "       [0.41311042, 0.58688958],\n",
       "       [0.44730262, 0.55269738],\n",
       "       [0.32808936, 0.67191064],\n",
       "       [0.49955946, 0.50044054],\n",
       "       [0.50974751, 0.49025249],\n",
       "       [0.74263056, 0.25736944],\n",
       "       [0.5000904 , 0.4999096 ],\n",
       "       [0.2319309 , 0.7680691 ],\n",
       "       [0.29454613, 0.70545387],\n",
       "       [0.09239044, 0.90760956],\n",
       "       [0.42103199, 0.57896801],\n",
       "       [0.47743989, 0.52256011],\n",
       "       [0.45233573, 0.54766427],\n",
       "       [0.34275994, 0.65724006],\n",
       "       [0.58589736, 0.41410264],\n",
       "       [0.31528386, 0.68471614],\n",
       "       [0.59890674, 0.40109326],\n",
       "       [0.43198819, 0.56801181],\n",
       "       [0.64219277, 0.35780723],\n",
       "       [0.56549986, 0.43450014],\n",
       "       [0.38956863, 0.61043137],\n",
       "       [0.36384981, 0.63615019],\n",
       "       [0.44736194, 0.55263806],\n",
       "       [0.32319391, 0.67680609]])"
      ]
     },
     "execution_count": 75,
     "metadata": {},
     "output_type": "execute_result"
    }
   ],
   "source": [
    "probs_2"
   ]
  },
  {
   "cell_type": "code",
   "execution_count": 78,
   "metadata": {},
   "outputs": [
    {
     "data": {
      "text/plain": [
       "array([[0.02653916, 0.97346084],\n",
       "       [0.94746141, 0.05253859],\n",
       "       [0.84887797, 0.15112203],\n",
       "       [0.99914325, 0.00085675],\n",
       "       [0.03792129, 0.96207871],\n",
       "       [0.99977956, 0.00022044],\n",
       "       [0.00138298, 0.99861702],\n",
       "       [0.94534046, 0.05465954],\n",
       "       [0.00067018, 0.99932982],\n",
       "       [0.05055432, 0.94944568],\n",
       "       [0.30841925, 0.69158075],\n",
       "       [0.99940374, 0.00059626],\n",
       "       [0.99603612, 0.00396388],\n",
       "       [0.9978515 , 0.0021485 ],\n",
       "       [0.00004862, 0.99995138],\n",
       "       [0.04428489, 0.95571511],\n",
       "       [0.99591711, 0.00408289],\n",
       "       [0.00017825, 0.99982175],\n",
       "       [0.22344479, 0.77655521],\n",
       "       [0.89242808, 0.10757192],\n",
       "       [0.00027082, 0.99972918],\n",
       "       [0.58508395, 0.41491605],\n",
       "       [0.000372  , 0.999628  ],\n",
       "       [0.94978939, 0.05021061],\n",
       "       [0.00003914, 0.99996086],\n",
       "       [0.51922747, 0.48077253],\n",
       "       [0.942345  , 0.057655  ],\n",
       "       [0.00257369, 0.99742631],\n",
       "       [0.39832041, 0.60167959],\n",
       "       [0.00005992, 0.99994008],\n",
       "       [0.31004109, 0.68995891],\n",
       "       [0.02990547, 0.97009453],\n",
       "       [0.01786218, 0.98213782],\n",
       "       [0.96248783, 0.03751217],\n",
       "       [0.95347587, 0.04652413],\n",
       "       [0.86906045, 0.13093955],\n",
       "       [0.24842799, 0.75157201],\n",
       "       [0.92604276, 0.07395724],\n",
       "       [0.00001728, 0.99998272],\n",
       "       [0.83789416, 0.16210584],\n",
       "       [0.21934701, 0.78065299],\n",
       "       [0.99645145, 0.00354855],\n",
       "       [0.10047568, 0.89952432],\n",
       "       [0.0001912 , 0.9998088 ],\n",
       "       [0.0000277 , 0.9999723 ],\n",
       "       [0.00210242, 0.99789758],\n",
       "       [0.26662204, 0.73337796],\n",
       "       [0.96262073, 0.03737927],\n",
       "       [0.86142413, 0.13857587],\n",
       "       [0.0828645 , 0.9171355 ],\n",
       "       [0.34562909, 0.65437091],\n",
       "       [0.02548199, 0.97451801],\n",
       "       [0.9981498 , 0.0018502 ],\n",
       "       [0.02246983, 0.97753017],\n",
       "       [0.71995961, 0.28004039],\n",
       "       [0.18342338, 0.81657662],\n",
       "       [0.9927353 , 0.0072647 ],\n",
       "       [0.03720748, 0.96279252],\n",
       "       [0.99968401, 0.00031599],\n",
       "       [0.00018913, 0.99981087]])"
      ]
     },
     "execution_count": 78,
     "metadata": {},
     "output_type": "execute_result"
    }
   ],
   "source": [
    "probs_7"
   ]
  },
  {
   "cell_type": "code",
   "execution_count": 86,
   "metadata": {},
   "outputs": [],
   "source": [
    "ensemble_probs=(probs_2 + probs_1) * .5"
   ]
  },
  {
   "cell_type": "code",
   "execution_count": 87,
   "metadata": {},
   "outputs": [
    {
     "name": "stdout",
     "output_type": "stream",
     "text": [
      "[[0.13750779 0.86249221]\n",
      " [0.48004208 0.51995792]\n",
      " [0.39659548 0.60340452]\n",
      " [0.92164404 0.07835596]\n",
      " [0.16653509 0.83346491]\n",
      " [0.524957   0.475043  ]\n",
      " [0.20165689 0.79834311]\n",
      " [0.87000878 0.12999122]\n",
      " [0.13930521 0.86069479]\n",
      " [0.1820929  0.8179071 ]\n",
      " [0.74034649 0.25965351]\n",
      " [0.50934192 0.49065808]\n",
      " [0.7660267  0.2339733 ]\n",
      " [0.81684936 0.18315064]\n",
      " [0.13913419 0.86086581]\n",
      " [0.48186268 0.51813732]\n",
      " [0.80523208 0.19476792]\n",
      " [0.22885353 0.77114647]\n",
      " [0.1347226  0.8652774 ]\n",
      " [0.49377339 0.50622661]\n",
      " [0.09389742 0.90610258]\n",
      " [0.39515248 0.60484752]\n",
      " [0.20359005 0.79640995]\n",
      " [0.77654827 0.22345173]\n",
      " [0.41462638 0.58537362]\n",
      " [0.70873922 0.29126078]\n",
      " [0.34995413 0.65004587]\n",
      " [0.16737371 0.83262629]\n",
      " [0.77450992 0.22549008]\n",
      " [0.13637477 0.86362523]\n",
      " [0.47960987 0.52039013]\n",
      " [0.78254324 0.21745676]\n",
      " [0.23398634 0.76601366]\n",
      " [0.83459843 0.16540157]\n",
      " [0.75170313 0.24829687]\n",
      " [0.43388107 0.56611893]\n",
      " [0.60655521 0.39344479]\n",
      " [0.39031798 0.60968202]\n",
      " [0.16404468 0.83595532]\n",
      " [0.74977973 0.25022027]\n",
      " [0.45487375 0.54512625]\n",
      " [0.87131528 0.12868472]\n",
      " [0.4500452  0.5499548 ]\n",
      " [0.11596545 0.88403455]\n",
      " [0.14727306 0.85272694]\n",
      " [0.04619522 0.95380478]\n",
      " [0.37718266 0.62281734]\n",
      " [0.33871994 0.66128006]\n",
      " [0.60116787 0.39883213]\n",
      " [0.47137997 0.52862003]\n",
      " [0.79294868 0.20705132]\n",
      " [0.15764193 0.84235807]\n",
      " [0.79945337 0.20054663]\n",
      " [0.2159941  0.7840059 ]\n",
      " [0.69609638 0.30390362]\n",
      " [0.78274993 0.21725007]\n",
      " [0.39478431 0.60521569]\n",
      " [0.48192491 0.51807509]\n",
      " [0.72368097 0.27631903]\n",
      " [0.16159696 0.83840304]]\n"
     ]
    }
   ],
   "source": [
    "print(ensemble_probs)"
   ]
  },
  {
   "cell_type": "code",
   "execution_count": 88,
   "metadata": {},
   "outputs": [
    {
     "name": "stdout",
     "output_type": "stream",
     "text": [
      "\n",
      "          Number of matches: 60\n",
      "          Number of bets: 52\n",
      "          Number of winning bets: 24\n",
      "          Number of losing bets: 28\n",
      "          Number of underdog bets: 25\n",
      "          Number of underdog wins: 7\n",
      "          Number of underdog losses: 18\n",
      "          Number of Favorite bets: 27\n",
      "          Number of favorite wins: 17\n",
      "          Number of favorite losses: 10\n",
      "          Number of even bets: 0\n",
      "          Number of even wins: 0\n",
      "          Number of even losses: 0\n",
      "          Profit: -850.0052599466375\n",
      "          Profit per bet: -16.346254998973798\n",
      "          Profit per match: -14.166754332443958\n",
      "          \n",
      "          \n"
     ]
    },
    {
     "data": {
      "text/plain": [
       "-16.346254998973798"
      ]
     },
     "execution_count": 88,
     "metadata": {},
     "output_type": "execute_result"
    }
   ],
   "source": [
    "X_test_list = np.array(X_test)\n",
    "X_odds = list(zip(X_test_list[:, -2], X_test_list[:, -1], ensemble_probs[:, 0], ensemble_probs[:, 1], y_test))\n",
    "ev_prepped_df = pd.DataFrame(X_odds, columns=['t1_odds', 't2_odds', 't1_prob', 't2_prob', 'winner'])\n",
    "#display(ev_prepped_df)\n",
    "get_ev_from_df(ev_prepped_df, True)"
   ]
  },
  {
   "cell_type": "markdown",
   "metadata": {},
   "source": [
    "### MODEL X"
   ]
  },
  {
   "cell_type": "code",
   "execution_count": 111,
   "metadata": {},
   "outputs": [],
   "source": [
    "model = LogisticRegression()"
   ]
  },
  {
   "cell_type": "code",
   "execution_count": null,
   "metadata": {},
   "outputs": [],
   "source": []
  },
  {
   "cell_type": "code",
   "execution_count": 113,
   "metadata": {},
   "outputs": [
    {
     "name": "stdout",
     "output_type": "stream",
     "text": [
      "\n",
      "          Number of matches: 60\n",
      "          Number of bets: 49\n",
      "          Number of winning bets: 15\n",
      "          Number of losing bets: 34\n",
      "          Number of underdog bets: 46\n",
      "          Number of underdog wins: 13\n",
      "          Number of underdog losses: 33\n",
      "          Number of Favorite bets: 3\n",
      "          Number of favorite wins: 2\n",
      "          Number of favorite losses: 1\n",
      "          Number of even bets: 0\n",
      "          Number of even wins: 0\n",
      "          Number of even losses: 0\n",
      "          Profit: -717.978021978022\n",
      "          Profit per bet: -14.65261269342902\n",
      "          Profit per match: -11.966300366300366\n",
      "          \n",
      "          \n"
     ]
    },
    {
     "data": {
      "text/plain": [
       "-14.65261269342902"
      ]
     },
     "execution_count": 113,
     "metadata": {},
     "output_type": "execute_result"
    }
   ],
   "source": [
    "X=df_train_filtered.copy()\n",
    "\n",
    "\n",
    "X_test=df_test_filtered.copy()\n",
    "y = X['winner_label']\n",
    "y_test=X_test['winner_label']\n",
    "X = X.drop('winner_label', axis=1)\n",
    "X_test = X_test.drop('winner_label', axis=1)\n",
    "X_test_list = np.array(X_test)\n",
    "#SCALER ONLY NEEDED FOR LR\n",
    "sc=StandardScaler()\n",
    "X = sc.fit_transform(X)\n",
    "X_test = sc.transform(X_test)\n",
    "##\n",
    "\n",
    "\n",
    "\n",
    "model.fit(X, y)\n",
    "probs=model.predict_proba(X_test)\n",
    "probs_2=probs\n",
    "X_odds = list(zip(X_test_list[:, -2], X_test_list[:, -1], probs[:, 0], probs[:, 1], y_test))\n",
    "ev_prepped_df = pd.DataFrame(X_odds, columns=['t1_odds', 't2_odds', 't1_prob', 't2_prob', 'winner'])\n",
    "#display(ev_prepped_df)\n",
    "get_ev_from_df(ev_prepped_df, True)"
   ]
  },
  {
   "cell_type": "code",
   "execution_count": null,
   "metadata": {},
   "outputs": [],
   "source": []
  }
 ],
 "metadata": {
  "kernelspec": {
   "display_name": "Python 3",
   "language": "python",
   "name": "python3"
  },
  "language_info": {
   "codemirror_mode": {
    "name": "ipython",
    "version": 3
   },
   "file_extension": ".py",
   "mimetype": "text/x-python",
   "name": "python",
   "nbconvert_exporter": "python",
   "pygments_lexer": "ipython3",
   "version": "3.7.6"
  }
 },
 "nbformat": 4,
 "nbformat_minor": 4
}
