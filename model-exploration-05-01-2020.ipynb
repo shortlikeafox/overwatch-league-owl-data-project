{
 "cells": [
  {
   "cell_type": "code",
   "execution_count": 1,
   "metadata": {},
   "outputs": [],
   "source": [
    "import pandas as pd\n",
    "from sklearn.ensemble import RandomForestClassifier\n",
    "from functions import custom_cv_eval, get_best_features, get_ev_from_df\n",
    "from sklearn.tree import DecisionTreeClassifier\n",
    "from sklearn.linear_model import LogisticRegression\n",
    "from sklearn.preprocessing import StandardScaler\n",
    "import numpy as np\n",
    "from sklearn.neural_network import MLPClassifier\n",
    "from sklearn.ensemble import GradientBoostingClassifier\n",
    "np.set_printoptions(suppress=True)  #Suppress Scientific Notation\n",
    "\n"
   ]
  },
  {
   "cell_type": "code",
   "execution_count": 2,
   "metadata": {},
   "outputs": [],
   "source": [
    "df=pd.read_csv(\"data/owl-with-odds.csv\")"
   ]
  },
  {
   "cell_type": "code",
   "execution_count": 3,
   "metadata": {},
   "outputs": [],
   "source": [
    "#The odds need to be changed to numeric...\n",
    "\n",
    "subset = ['t1_odds', 't2_odds']\n",
    "df.dropna(subset=subset ,inplace=True)\n",
    "\n",
    "df['t1_odds'] = pd.to_numeric(df['t1_odds'], errors='coerce')\n",
    "df['t2_odds'] = pd.to_numeric(df['t2_odds'], errors='coerce')\n",
    "df.dropna(subset=subset ,inplace=True)\n"
   ]
  },
  {
   "cell_type": "code",
   "execution_count": 4,
   "metadata": {},
   "outputs": [
    {
     "name": "stdout",
     "output_type": "stream",
     "text": [
      "60\n",
      "486\n"
     ]
    }
   ],
   "source": [
    "#Split the validation set\n",
    "df_train = df[:-60]\n",
    "\n",
    "df_test = df[-60:]\n",
    "print(len(df_test))\n",
    "print(len(df_train))"
   ]
  },
  {
   "cell_type": "code",
   "execution_count": 5,
   "metadata": {},
   "outputs": [],
   "source": [
    "#inclusive features\n",
    "features = ['corona_virus_isolation', 't1_wins_season',\n",
    "       't1_losses_season', 't2_wins_season', 't2_losses_season',\n",
    "       't1_matches_season', 't2_matches_season', 't1_win_percent_season',\n",
    "       't2_win_percent_season', 't1_wins_alltime', 't1_losses_alltime',\n",
    "       't2_wins_alltime', 't2_losses_alltime', 't1_matches_alltime',\n",
    "       't2_matches_alltime', 't1_win_percent_alltime',\n",
    "       't2_win_percent_alltime', 't1_wins_last_3', 't1_losses_last_3',\n",
    "       't2_wins_last_3', 't2_losses_last_3', 't1_win_percent_last_3',\n",
    "       't2_win_percent_last_3', 't1_wins_last_5', 't1_losses_last_5',\n",
    "       't2_wins_last_5', 't2_losses_last_5', 't1_win_percent_last_5',\n",
    "       't2_win_percent_last_5', 't1_wins_last_10', 't1_losses_last_10',\n",
    "       't2_wins_last_10', 't2_losses_last_10', 't1_win_percent_last_10',\n",
    "       't2_win_percent_last_10', \n",
    "        't1_wins_vs_t2', 't1_losses_vs_t2',\n",
    "       't1_matches_vs_t2', 't1_odds', 't2_odds', 'winner_label']"
   ]
  },
  {
   "cell_type": "code",
   "execution_count": 6,
   "metadata": {},
   "outputs": [],
   "source": [
    "#Full list of possible features\n",
    "\n",
    "pos_features = ['corona_virus_isolation', 't1_wins_season',\n",
    "       't1_losses_season', 't2_wins_season', 't2_losses_season',\n",
    "       't1_matches_season', 't2_matches_season', 't1_win_percent_season',\n",
    "       't2_win_percent_season', 't1_wins_alltime', 't1_losses_alltime',\n",
    "       't2_wins_alltime', 't2_losses_alltime', 't1_matches_alltime',\n",
    "       't2_matches_alltime', 't1_win_percent_alltime',\n",
    "       't2_win_percent_alltime', 't1_wins_last_3', 't1_losses_last_3',\n",
    "       't2_wins_last_3', 't2_losses_last_3', 't1_win_percent_last_3',\n",
    "       't2_win_percent_last_3', 't1_wins_last_5', 't1_losses_last_5',\n",
    "       't2_wins_last_5', 't2_losses_last_5', 't1_win_percent_last_5',\n",
    "       't2_win_percent_last_5', 't1_wins_last_10', 't1_losses_last_10',\n",
    "       't2_wins_last_10', 't2_losses_last_10', 't1_win_percent_last_10',\n",
    "       't2_win_percent_last_10', \n",
    "        't1_wins_vs_t2', 't1_losses_vs_t2',\n",
    "       't1_matches_vs_t2']"
   ]
  },
  {
   "cell_type": "code",
   "execution_count": 7,
   "metadata": {},
   "outputs": [],
   "source": [
    "df_test_filtered = df_test[features].copy()\n",
    "df_train_filtered = df_train[features].copy()\n",
    "df_test_filtered.dropna(inplace=True)\n",
    "df_train_filtered.dropna(inplace=True)"
   ]
  },
  {
   "cell_type": "code",
   "execution_count": 8,
   "metadata": {},
   "outputs": [],
   "source": [
    "model_3 = RandomForestClassifier(random_state=75)\n",
    "features_3 = ['t2_wins_last_5', 't1_win_percent_season', 't1_losses_season', 't2_losses_last_5', 't1_wins_vs_t2',\n",
    "            'winner_label', 't1_odds', 't2_odds']\n",
    "df_3 = df_train_filtered[features_3]"
   ]
  },
  {
   "cell_type": "code",
   "execution_count": 9,
   "metadata": {},
   "outputs": [
    {
     "name": "stdout",
     "output_type": "stream",
     "text": [
      "(389, 8)\n"
     ]
    }
   ],
   "source": [
    "print(df_3.shape)"
   ]
  },
  {
   "cell_type": "code",
   "execution_count": 10,
   "metadata": {},
   "outputs": [
    {
     "name": "stdout",
     "output_type": "stream",
     "text": [
      "total: 117.34041809988898\n"
     ]
    }
   ],
   "source": [
    "print(f\"total: {custom_cv_eval(df_3, model_3)}\")"
   ]
  },
  {
   "cell_type": "code",
   "execution_count": 11,
   "metadata": {},
   "outputs": [],
   "source": [
    "model_5 = DecisionTreeClassifier(ccp_alpha=0.0, class_weight=None, criterion='entropy',\n",
    "                       max_depth=12, max_features=None, max_leaf_nodes=None,\n",
    "                       min_impurity_decrease=0.0, min_impurity_split=None,\n",
    "                       min_samples_leaf=4, min_samples_split=2,\n",
    "                       min_weight_fraction_leaf=0.0, presort='deprecated',\n",
    "                       random_state=75, splitter='best')\n",
    "features_5 = ['t1_wins_last_3', 't2_matches_alltime', 'winner_label', 't1_odds', 't2_odds']\n",
    "df_5 = df_train_filtered[features_5]"
   ]
  },
  {
   "cell_type": "code",
   "execution_count": 12,
   "metadata": {},
   "outputs": [
    {
     "name": "stdout",
     "output_type": "stream",
     "text": [
      "total: 2.69412062696951\n"
     ]
    }
   ],
   "source": [
    "print(f\"total: {custom_cv_eval(df_5, model_5)}\")"
   ]
  },
  {
   "cell_type": "code",
   "execution_count": 13,
   "metadata": {},
   "outputs": [
    {
     "name": "stdout",
     "output_type": "stream",
     "text": [
      "\n",
      "          Number of matches: 60\n",
      "          Number of bets: 54\n",
      "          Number of winning bets: 24\n",
      "          Number of losing bets: 30\n",
      "          Number of underdog bets: 26\n",
      "          Number of underdog wins: 7\n",
      "          Number of underdog losses: 19\n",
      "          Number of Favorite bets: 28\n",
      "          Number of favorite wins: 17\n",
      "          Number of favorite losses: 11\n",
      "          Number of even bets: 0\n",
      "          Number of even wins: 0\n",
      "          Number of even losses: 0\n",
      "          Profit: -963.3016424729295\n",
      "          Profit per bet: -17.83891930505425\n",
      "          Profit per match: -16.055027374548825\n",
      "          \n",
      "          \n"
     ]
    }
   ],
   "source": [
    "X=df_train_filtered[features_3].copy()\n",
    "X_test=df_test_filtered[features_3].copy()\n",
    "y = X['winner_label']\n",
    "y_test=X_test['winner_label']\n",
    "X = X.drop('winner_label', axis=1)\n",
    "X_test = X_test.drop('winner_label', axis=1)\n",
    "model_3.fit(X, y)\n",
    "probs=model_3.predict_proba(X_test)\n",
    "X_test_list = np.array(X_test)\n",
    "X_odds = list(zip(X_test_list[:, -2], X_test_list[:, -1], probs[:, 0], probs[:, 1], y_test))\n",
    "ev_prepped_df = pd.DataFrame(X_odds, columns=['t1_odds', 't2_odds', 't1_prob', 't2_prob', 'winner'])\n",
    "#display(ev_prepped_df)\n",
    "get_ev_from_df(ev_prepped_df, True)\n",
    "probs_3 = probs"
   ]
  },
  {
   "cell_type": "code",
   "execution_count": 14,
   "metadata": {},
   "outputs": [
    {
     "name": "stdout",
     "output_type": "stream",
     "text": [
      "\n",
      "          Number of matches: 60\n",
      "          Number of bets: 52\n",
      "          Number of winning bets: 23\n",
      "          Number of losing bets: 29\n",
      "          Number of underdog bets: 24\n",
      "          Number of underdog wins: 6\n",
      "          Number of underdog losses: 18\n",
      "          Number of Favorite bets: 28\n",
      "          Number of favorite wins: 17\n",
      "          Number of favorite losses: 11\n",
      "          Number of even bets: 0\n",
      "          Number of even wins: 0\n",
      "          Number of even losses: 0\n",
      "          Profit: -1267.6770208695882\n",
      "          Profit per bet: -24.37840424749208\n",
      "          Profit per match: -21.12795034782647\n",
      "          \n",
      "          \n"
     ]
    }
   ],
   "source": [
    "X=df_train_filtered[features_5].copy()\n",
    "X_test=df_test_filtered[features_5].copy()\n",
    "y = X['winner_label']\n",
    "y_test=X_test['winner_label']\n",
    "X = X.drop('winner_label', axis=1)\n",
    "X_test = X_test.drop('winner_label', axis=1)\n",
    "model_5.fit(X, y)\n",
    "probs=model_5.predict_proba(X_test)\n",
    "X_test_list = np.array(X_test)\n",
    "X_odds = list(zip(X_test_list[:, -2], X_test_list[:, -1], probs[:, 0], probs[:, 1], y_test))\n",
    "ev_prepped_df = pd.DataFrame(X_odds, columns=['t1_odds', 't2_odds', 't1_prob', 't2_prob', 'winner'])\n",
    "#display(ev_prepped_df)\n",
    "get_ev_from_df(ev_prepped_df, True)\n",
    "probs_5 = probs"
   ]
  },
  {
   "cell_type": "code",
   "execution_count": 15,
   "metadata": {},
   "outputs": [
    {
     "name": "stdout",
     "output_type": "stream",
     "text": [
      "[[0.75       0.25      ]\n",
      " [0.4        0.6       ]\n",
      " [0.57142857 0.42857143]\n",
      " [1.         0.        ]\n",
      " [0.25       0.75      ]\n",
      " [0.5        0.5       ]\n",
      " [0.75       0.25      ]\n",
      " [1.         0.        ]\n",
      " [0.16666667 0.83333333]\n",
      " [0.         1.        ]\n",
      " [0.57142857 0.42857143]\n",
      " [0.5        0.5       ]\n",
      " [1.         0.        ]\n",
      " [1.         0.        ]\n",
      " [0.         1.        ]\n",
      " [0.25       0.75      ]\n",
      " [1.         0.        ]\n",
      " [0.16666667 0.83333333]\n",
      " [0.         1.        ]\n",
      " [0.4        0.6       ]\n",
      " [0.         1.        ]\n",
      " [0.4        0.6       ]\n",
      " [0.         1.        ]\n",
      " [0.5        0.5       ]\n",
      " [0.5        0.5       ]\n",
      " [1.         0.        ]\n",
      " [0.14285714 0.85714286]\n",
      " [0.         1.        ]\n",
      " [1.         0.        ]\n",
      " [0.         1.        ]\n",
      " [0.25       0.75      ]\n",
      " [1.         0.        ]\n",
      " [0.         1.        ]\n",
      " [1.         0.        ]\n",
      " [1.         0.        ]\n",
      " [0.4        0.6       ]\n",
      " [0.33333333 0.66666667]\n",
      " [0.5        0.5       ]\n",
      " [0.         1.        ]\n",
      " [1.         0.        ]\n",
      " [0.4        0.6       ]\n",
      " [0.5        0.5       ]\n",
      " [0.4        0.6       ]\n",
      " [0.5        0.5       ]\n",
      " [0.         1.        ]\n",
      " [0.         1.        ]\n",
      " [0.33333333 0.66666667]\n",
      " [0.25       0.75      ]\n",
      " [0.75       0.25      ]\n",
      " [0.25       0.75      ]\n",
      " [0.5        0.5       ]\n",
      " [0.25       0.75      ]\n",
      " [1.         0.        ]\n",
      " [0.5        0.5       ]\n",
      " [1.         0.        ]\n",
      " [1.         0.        ]\n",
      " [0.4        0.6       ]\n",
      " [0.25       0.75      ]\n",
      " [1.         0.        ]\n",
      " [0.         1.        ]]\n"
     ]
    }
   ],
   "source": [
    "print(probs_5)"
   ]
  },
  {
   "cell_type": "markdown",
   "metadata": {},
   "source": [
    "### #OK THOSE SUCK.  Let's make some new ones.\n",
    "#Let's start from scratch with a random forest"
   ]
  },
  {
   "cell_type": "code",
   "execution_count": 16,
   "metadata": {},
   "outputs": [],
   "source": [
    "model = RandomForestClassifier(random_state=75)"
   ]
  },
  {
   "cell_type": "code",
   "execution_count": 20,
   "metadata": {},
   "outputs": [],
   "source": [
    "current_features = ['winner_label', 't1_odds', 't2_odds']"
   ]
  },
  {
   "cell_type": "code",
   "execution_count": 21,
   "metadata": {},
   "outputs": [
    {
     "name": "stdout",
     "output_type": "stream",
     "text": [
      "Current best score is: -11.263813305589146\n",
      "The best feature was t2_wins_season.  It scored 55.96449534761742\n",
      "Current best score is: 55.96449534761742\n",
      "The best feature was t2_matches_alltime.  It scored 67.98979087453237\n",
      "Current best score is: 67.98979087453237\n",
      "The best feature was t2_wins_last_5.  It scored 86.76923041322587\n",
      "Current best score is: 86.76923041322587\n",
      "The best feature was t1_losses_season.  It scored 114.285777142796\n",
      "Current best score is: 114.285777142796\n",
      "NO IMPROVEMENT\n",
      "FINAL BEST SCORE: 114.285777142796\n"
     ]
    }
   ],
   "source": [
    "f_rf=get_best_features(pos_features, model,  df_train_filtered, current_features)"
   ]
  },
  {
   "cell_type": "code",
   "execution_count": 22,
   "metadata": {},
   "outputs": [
    {
     "name": "stdout",
     "output_type": "stream",
     "text": [
      "['t1_losses_season', 't2_wins_last_5', 't2_matches_alltime', 't2_wins_season', 'winner_label', 't1_odds', 't2_odds']\n"
     ]
    }
   ],
   "source": [
    "print(f_rf)"
   ]
  },
  {
   "cell_type": "code",
   "execution_count": 23,
   "metadata": {},
   "outputs": [],
   "source": [
    "n_estimators_pos=[10,50,100,150]\n",
    "criterion_pos=['gini', 'entropy']\n",
    "max_depth_pos=[None, 2,4,6,8,10]\n",
    "min_samples_leaf_pos=[1,2,3,4,5,6]\n"
   ]
  },
  {
   "cell_type": "code",
   "execution_count": null,
   "metadata": {},
   "outputs": [],
   "source": []
  },
  {
   "cell_type": "code",
   "execution_count": 24,
   "metadata": {},
   "outputs": [
    {
     "name": "stdout",
     "output_type": "stream",
     "text": [
      "51.69191322055357 [10, 'gini', None, 1]\n",
      "51.78891283360663 [10, 'gini', None, 5]\n",
      "54.140479879060514 [10, 'gini', 6, 2]\n",
      "77.5607542723209 [10, 'gini', 6, 5]\n",
      "89.98489202033515 [10, 'entropy', 8, 5]\n",
      "129.62060572024484 [50, 'gini', 4, 1]\n"
     ]
    }
   ],
   "source": [
    "best_score=0\n",
    "best_features=0\n",
    "for ne in n_estimators_pos:\n",
    "    for c in criterion_pos:\n",
    "        for md in max_depth_pos:\n",
    "            for msl in min_samples_leaf_pos:\n",
    "                model = RandomForestClassifier(random_state=75, n_estimators=ne, criterion=c, max_depth=md,\n",
    "                                              min_samples_leaf=msl)\n",
    "                possible_score=custom_cv_eval(df_train_filtered[f_rf], model)\n",
    "                if possible_score > best_score:\n",
    "                    best_score=possible_score\n",
    "                    best_features=[ne, c, md, msl]\n",
    "                    best_model = model\n",
    "                    print(f\"{best_score} {best_features}\")  "
   ]
  },
  {
   "cell_type": "code",
   "execution_count": 25,
   "metadata": {},
   "outputs": [
    {
     "name": "stdout",
     "output_type": "stream",
     "text": [
      "RandomForestClassifier(bootstrap=True, ccp_alpha=0.0, class_weight=None,\n",
      "                       criterion='gini', max_depth=4, max_features='auto',\n",
      "                       max_leaf_nodes=None, max_samples=None,\n",
      "                       min_impurity_decrease=0.0, min_impurity_split=None,\n",
      "                       min_samples_leaf=1, min_samples_split=2,\n",
      "                       min_weight_fraction_leaf=0.0, n_estimators=50,\n",
      "                       n_jobs=None, oob_score=False, random_state=75, verbose=0,\n",
      "                       warm_start=False)\n",
      "['t1_losses_season', 't2_wins_last_5', 't2_matches_alltime', 't2_wins_season', 'winner_label', 't1_odds', 't2_odds']\n"
     ]
    }
   ],
   "source": [
    "print(best_model)\n",
    "print(f_rf)"
   ]
  },
  {
   "cell_type": "code",
   "execution_count": 26,
   "metadata": {},
   "outputs": [
    {
     "name": "stdout",
     "output_type": "stream",
     "text": [
      "\n",
      "          Number of matches: 60\n",
      "          Number of bets: 38\n",
      "          Number of winning bets: 16\n",
      "          Number of losing bets: 22\n",
      "          Number of underdog bets: 17\n",
      "          Number of underdog wins: 5\n",
      "          Number of underdog losses: 12\n",
      "          Number of Favorite bets: 21\n",
      "          Number of favorite wins: 11\n",
      "          Number of favorite losses: 10\n",
      "          Number of even bets: 0\n",
      "          Number of even wins: 0\n",
      "          Number of even losses: 0\n",
      "          Profit: -551.4184081787079\n",
      "          Profit per bet: -14.511010741544943\n",
      "          Profit per match: -9.190306802978464\n",
      "          \n",
      "          \n"
     ]
    },
    {
     "data": {
      "text/plain": [
       "-14.511010741544943"
      ]
     },
     "execution_count": 26,
     "metadata": {},
     "output_type": "execute_result"
    }
   ],
   "source": [
    "X=df_train_filtered[f_rf].copy()\n",
    "X_test=df_test_filtered[f_rf].copy()\n",
    "y = X['winner_label']\n",
    "y_test=X_test['winner_label']\n",
    "X = X.drop('winner_label', axis=1)\n",
    "X_test = X_test.drop('winner_label', axis=1)\n",
    "best_model.fit(X, y)\n",
    "probs=best_model.predict_proba(X_test)\n",
    "X_test_list = np.array(X_test)\n",
    "X_odds = list(zip(X_test_list[:, -2], X_test_list[:, -1], probs[:, 0], probs[:, 1], y_test))\n",
    "ev_prepped_df = pd.DataFrame(X_odds, columns=['t1_odds', 't2_odds', 't1_prob', 't2_prob', 'winner'])\n",
    "#display(ev_prepped_df)\n",
    "get_ev_from_df(ev_prepped_df, True)\n"
   ]
  },
  {
   "cell_type": "code",
   "execution_count": 27,
   "metadata": {},
   "outputs": [],
   "source": [
    "model = DecisionTreeClassifier(random_state=75)\n"
   ]
  },
  {
   "cell_type": "code",
   "execution_count": 29,
   "metadata": {},
   "outputs": [
    {
     "name": "stdout",
     "output_type": "stream",
     "text": [
      "Current best score is: -20.849218958250468\n",
      "The best feature was t1_matches_alltime.  It scored 41.52321180802822\n",
      "Current best score is: 41.52321180802822\n",
      "The best feature was t1_wins_vs_t2.  It scored 42.5031397812096\n",
      "Current best score is: 42.5031397812096\n",
      "The best feature was t1_win_percent_season.  It scored 54.99088559717145\n",
      "Current best score is: 54.99088559717145\n",
      "The best feature was corona_virus_isolation.  It scored 62.6443369501354\n",
      "Current best score is: 62.6443369501354\n",
      "The best feature was t1_win_percent_alltime.  It scored 72.32611056535995\n",
      "Current best score is: 72.32611056535995\n",
      "NO IMPROVEMENT\n",
      "FINAL BEST SCORE: 72.32611056535995\n"
     ]
    }
   ],
   "source": [
    "f_dt=get_best_features(pos_features, model,  df_train_filtered, current_features)"
   ]
  },
  {
   "cell_type": "code",
   "execution_count": 30,
   "metadata": {},
   "outputs": [],
   "source": [
    "criterion_pos = ['gini', 'entropy']\n",
    "max_depth_pos = [3, 6, 9, 12, None, 10]\n",
    "min_samples_leaf_pos = [1,2,3,4,5]\n"
   ]
  },
  {
   "cell_type": "code",
   "execution_count": 31,
   "metadata": {},
   "outputs": [
    {
     "name": "stdout",
     "output_type": "stream",
     "text": [
      "6.163906275382111 ['gini', 3, 1]\n",
      "57.63167774830849 ['gini', 9, 1]\n",
      "61.09941744164337 ['gini', 12, 1]\n",
      "72.32611056535995 ['gini', None, 1]\n"
     ]
    }
   ],
   "source": [
    "best_score = 0\n",
    "best_features = []\n",
    "for c in criterion_pos:\n",
    "    for md in max_depth_pos:\n",
    "        for msl in min_samples_leaf_pos:\n",
    "            model = DecisionTreeClassifier(max_depth=md, min_samples_leaf=msl, criterion=c, random_state=75)\n",
    "            possible_score=custom_cv_eval(df_train_filtered[f_dt], model)\n",
    "            if possible_score > best_score:\n",
    "                best_score=possible_score\n",
    "                best_features=[c, md, msl]\n",
    "                best_model = model\n",
    "                print(f\"{best_score} {best_features}\")\n"
   ]
  },
  {
   "cell_type": "code",
   "execution_count": 32,
   "metadata": {},
   "outputs": [
    {
     "name": "stdout",
     "output_type": "stream",
     "text": [
      "DecisionTreeClassifier(ccp_alpha=0.0, class_weight=None, criterion='gini',\n",
      "                       max_depth=None, max_features=None, max_leaf_nodes=None,\n",
      "                       min_impurity_decrease=0.0, min_impurity_split=None,\n",
      "                       min_samples_leaf=1, min_samples_split=2,\n",
      "                       min_weight_fraction_leaf=0.0, presort='deprecated',\n",
      "                       random_state=75, splitter='best')\n",
      "['t1_win_percent_alltime', 'corona_virus_isolation', 't1_win_percent_season', 't1_wins_vs_t2', 't1_matches_alltime', 'winner_label', 't1_odds', 't2_odds']\n"
     ]
    }
   ],
   "source": [
    "print(best_model)\n",
    "print(f_dt)"
   ]
  },
  {
   "cell_type": "code",
   "execution_count": 33,
   "metadata": {},
   "outputs": [
    {
     "name": "stdout",
     "output_type": "stream",
     "text": [
      "\n",
      "          Number of matches: 60\n",
      "          Number of bets: 60\n",
      "          Number of winning bets: 37\n",
      "          Number of losing bets: 23\n",
      "          Number of underdog bets: 16\n",
      "          Number of underdog wins: 6\n",
      "          Number of underdog losses: 10\n",
      "          Number of Favorite bets: 44\n",
      "          Number of favorite wins: 31\n",
      "          Number of favorite losses: 13\n",
      "          Number of even bets: 0\n",
      "          Number of even wins: 0\n",
      "          Number of even losses: 0\n",
      "          Profit: -236.97780052463577\n",
      "          Profit per bet: -3.9496300087439296\n",
      "          Profit per match: -3.9496300087439296\n",
      "          \n",
      "          \n"
     ]
    },
    {
     "data": {
      "text/plain": [
       "-3.9496300087439296"
      ]
     },
     "execution_count": 33,
     "metadata": {},
     "output_type": "execute_result"
    }
   ],
   "source": [
    "X=df_train_filtered[f_dt].copy()\n",
    "X_test=df_test_filtered[f_dt].copy()\n",
    "y = X['winner_label']\n",
    "y_test=X_test['winner_label']\n",
    "X = X.drop('winner_label', axis=1)\n",
    "X_test = X_test.drop('winner_label', axis=1)\n",
    "best_model.fit(X, y)\n",
    "probs=best_model.predict_proba(X_test)\n",
    "X_test_list = np.array(X_test)\n",
    "X_odds = list(zip(X_test_list[:, -2], X_test_list[:, -1], probs[:, 0], probs[:, 1], y_test))\n",
    "ev_prepped_df = pd.DataFrame(X_odds, columns=['t1_odds', 't2_odds', 't1_prob', 't2_prob', 'winner'])\n",
    "#display(ev_prepped_df)\n",
    "get_ev_from_df(ev_prepped_df, True)"
   ]
  },
  {
   "cell_type": "markdown",
   "metadata": {},
   "source": [
    "### MODEL 1"
   ]
  },
  {
   "cell_type": "code",
   "execution_count": 34,
   "metadata": {},
   "outputs": [],
   "source": [
    "model = DecisionTreeClassifier(max_depth=10, min_samples_leaf=3, random_state=75)\n",
    "features = ['t1_wins_last_3', 't2_matches_alltime', 'winner_label', 't1_odds', 't2_odds']"
   ]
  },
  {
   "cell_type": "code",
   "execution_count": 35,
   "metadata": {},
   "outputs": [
    {
     "name": "stdout",
     "output_type": "stream",
     "text": [
      "\n",
      "          Number of matches: 60\n",
      "          Number of bets: 60\n",
      "          Number of winning bets: 32\n",
      "          Number of losing bets: 28\n",
      "          Number of underdog bets: 23\n",
      "          Number of underdog wins: 7\n",
      "          Number of underdog losses: 16\n",
      "          Number of Favorite bets: 37\n",
      "          Number of favorite wins: 25\n",
      "          Number of favorite losses: 12\n",
      "          Number of even bets: 0\n",
      "          Number of even wins: 0\n",
      "          Number of even losses: 0\n",
      "          Profit: -707.3538644761904\n",
      "          Profit per bet: -11.789231074603174\n",
      "          Profit per match: -11.789231074603174\n",
      "          \n",
      "          \n"
     ]
    },
    {
     "data": {
      "text/plain": [
       "-11.789231074603174"
      ]
     },
     "execution_count": 35,
     "metadata": {},
     "output_type": "execute_result"
    }
   ],
   "source": [
    "X=df_train_filtered[features].copy()\n",
    "X_test=df_test_filtered[features].copy()\n",
    "y = X['winner_label']\n",
    "y_test=X_test['winner_label']\n",
    "X = X.drop('winner_label', axis=1)\n",
    "X_test = X_test.drop('winner_label', axis=1)\n",
    "model.fit(X, y)\n",
    "probs=model.predict_proba(X_test)\n",
    "probs_1 = probs\n",
    "X_test_list = np.array(X_test)\n",
    "X_odds = list(zip(X_test_list[:, -2], X_test_list[:, -1], probs[:, 0], probs[:, 1], y_test))\n",
    "ev_prepped_df = pd.DataFrame(X_odds, columns=['t1_odds', 't2_odds', 't1_prob', 't2_prob', 'winner'])\n",
    "#display(ev_prepped_df)\n",
    "get_ev_from_df(ev_prepped_df, True)"
   ]
  },
  {
   "cell_type": "markdown",
   "metadata": {},
   "source": [
    "### MODEL 2"
   ]
  },
  {
   "cell_type": "code",
   "execution_count": 36,
   "metadata": {},
   "outputs": [],
   "source": [
    "model = LogisticRegression(random_state=75, max_iter=1000)\n",
    "features = ['t2_win_percent_last_10', 't1_losses_alltime', 'winner_label', 't1_odds', 't2_odds']\n"
   ]
  },
  {
   "cell_type": "code",
   "execution_count": 37,
   "metadata": {},
   "outputs": [
    {
     "name": "stdout",
     "output_type": "stream",
     "text": [
      "LogisticRegression(C=1.0, class_weight=None, dual=False, fit_intercept=True,\n",
      "                   intercept_scaling=1, l1_ratio=None, max_iter=1000,\n",
      "                   multi_class='auto', n_jobs=None, penalty='l2',\n",
      "                   random_state=75, solver='lbfgs', tol=0.0001, verbose=0,\n",
      "                   warm_start=False)\n"
     ]
    }
   ],
   "source": [
    "print(model)"
   ]
  },
  {
   "cell_type": "markdown",
   "metadata": {},
   "source": [
    "model"
   ]
  },
  {
   "cell_type": "code",
   "execution_count": 38,
   "metadata": {},
   "outputs": [
    {
     "name": "stdout",
     "output_type": "stream",
     "text": [
      "\n",
      "          Number of matches: 60\n",
      "          Number of bets: 49\n",
      "          Number of winning bets: 15\n",
      "          Number of losing bets: 34\n",
      "          Number of underdog bets: 42\n",
      "          Number of underdog wins: 11\n",
      "          Number of underdog losses: 31\n",
      "          Number of Favorite bets: 7\n",
      "          Number of favorite wins: 4\n",
      "          Number of favorite losses: 3\n",
      "          Number of even bets: 0\n",
      "          Number of even wins: 0\n",
      "          Number of even losses: 0\n",
      "          Profit: -642.5809345637672\n",
      "          Profit per bet: -13.113896623750351\n",
      "          Profit per match: -10.709682242729453\n",
      "          \n",
      "          \n"
     ]
    },
    {
     "data": {
      "text/plain": [
       "-13.113896623750351"
      ]
     },
     "execution_count": 38,
     "metadata": {},
     "output_type": "execute_result"
    }
   ],
   "source": [
    "#SCALER ONLY NEEDED FOR LR\n",
    "\n",
    "##\n",
    "\n",
    "\n",
    "X=df_train_filtered[features].copy()\n",
    "\n",
    "\n",
    "X_test=df_test_filtered[features].copy()\n",
    "y = X['winner_label']\n",
    "y_test=X_test['winner_label']\n",
    "X = X.drop('winner_label', axis=1)\n",
    "X_test = X_test.drop('winner_label', axis=1)\n",
    "X_test_list = np.array(X_test)\n",
    "#SCALER ONLY NEEDED FOR LR\n",
    "sc=StandardScaler()\n",
    "X = sc.fit_transform(X)\n",
    "X_test = sc.transform(X_test)\n",
    "##\n",
    "\n",
    "\n",
    "\n",
    "model.fit(X, y)\n",
    "probs=model.predict_proba(X_test)\n",
    "probs_2=probs\n",
    "X_odds = list(zip(X_test_list[:, -2], X_test_list[:, -1], probs[:, 0], probs[:, 1], y_test))\n",
    "ev_prepped_df = pd.DataFrame(X_odds, columns=['t1_odds', 't2_odds', 't1_prob', 't2_prob', 'winner'])\n",
    "#display(ev_prepped_df)\n",
    "get_ev_from_df(ev_prepped_df, True)"
   ]
  },
  {
   "cell_type": "code",
   "execution_count": null,
   "metadata": {},
   "outputs": [],
   "source": []
  },
  {
   "cell_type": "markdown",
   "metadata": {},
   "source": [
    "### MODEL 3"
   ]
  },
  {
   "cell_type": "code",
   "execution_count": 39,
   "metadata": {},
   "outputs": [],
   "source": [
    "model = RandomForestClassifier(random_state=75)\n",
    "features = ['t2_wins_last_5', 't1_win_percent_season', 't1_losses_season', 't2_losses_last_5', 't1_wins_vs_t2',\n",
    "            'winner_label', 't1_odds', 't2_odds']"
   ]
  },
  {
   "cell_type": "code",
   "execution_count": 40,
   "metadata": {},
   "outputs": [
    {
     "name": "stdout",
     "output_type": "stream",
     "text": [
      "\n",
      "          Number of matches: 60\n",
      "          Number of bets: 54\n",
      "          Number of winning bets: 24\n",
      "          Number of losing bets: 30\n",
      "          Number of underdog bets: 26\n",
      "          Number of underdog wins: 7\n",
      "          Number of underdog losses: 19\n",
      "          Number of Favorite bets: 28\n",
      "          Number of favorite wins: 17\n",
      "          Number of favorite losses: 11\n",
      "          Number of even bets: 0\n",
      "          Number of even wins: 0\n",
      "          Number of even losses: 0\n",
      "          Profit: -963.3016424729295\n",
      "          Profit per bet: -17.83891930505425\n",
      "          Profit per match: -16.055027374548825\n",
      "          \n",
      "          \n"
     ]
    },
    {
     "data": {
      "text/plain": [
       "-17.83891930505425"
      ]
     },
     "execution_count": 40,
     "metadata": {},
     "output_type": "execute_result"
    }
   ],
   "source": [
    "X=df_train_filtered[features].copy()\n",
    "X_test=df_test_filtered[features].copy()\n",
    "y = X['winner_label']\n",
    "y_test=X_test['winner_label']\n",
    "X = X.drop('winner_label', axis=1)\n",
    "X_test = X_test.drop('winner_label', axis=1)\n",
    "model.fit(X, y)\n",
    "probs=model.predict_proba(X_test)\n",
    "X_test_list = np.array(X_test)\n",
    "X_odds = list(zip(X_test_list[:, -2], X_test_list[:, -1], probs[:, 0], probs[:, 1], y_test))\n",
    "ev_prepped_df = pd.DataFrame(X_odds, columns=['t1_odds', 't2_odds', 't1_prob', 't2_prob', 'winner'])\n",
    "#display(ev_prepped_df)\n",
    "get_ev_from_df(ev_prepped_df, True)"
   ]
  },
  {
   "cell_type": "markdown",
   "metadata": {},
   "source": [
    "### MODEL 4"
   ]
  },
  {
   "cell_type": "code",
   "execution_count": 41,
   "metadata": {},
   "outputs": [],
   "source": [
    "model=MLPClassifier(random_state=75) \n",
    "features = ['t1_matches_season', 'winner_label', 't1_odds', 't2_odds']"
   ]
  },
  {
   "cell_type": "code",
   "execution_count": 42,
   "metadata": {},
   "outputs": [
    {
     "name": "stdout",
     "output_type": "stream",
     "text": [
      "\n",
      "          Number of matches: 60\n",
      "          Number of bets: 58\n",
      "          Number of winning bets: 27\n",
      "          Number of losing bets: 31\n",
      "          Number of underdog bets: 23\n",
      "          Number of underdog wins: 5\n",
      "          Number of underdog losses: 18\n",
      "          Number of Favorite bets: 35\n",
      "          Number of favorite wins: 22\n",
      "          Number of favorite losses: 13\n",
      "          Number of even bets: 0\n",
      "          Number of even wins: 0\n",
      "          Number of even losses: 0\n",
      "          Profit: -1889.3424355841478\n",
      "          Profit per bet: -32.57486957903703\n",
      "          Profit per match: -31.48904059306913\n",
      "          \n",
      "          \n"
     ]
    },
    {
     "data": {
      "text/plain": [
       "-32.57486957903703"
      ]
     },
     "execution_count": 42,
     "metadata": {},
     "output_type": "execute_result"
    }
   ],
   "source": [
    "X=df_train_filtered[features].copy()\n",
    "X_test=df_test_filtered[features].copy()\n",
    "y = X['winner_label']\n",
    "y_test=X_test['winner_label']\n",
    "X = X.drop('winner_label', axis=1)\n",
    "X_test = X_test.drop('winner_label', axis=1)\n",
    "model.fit(X, y)\n",
    "probs=model.predict_proba(X_test)\n",
    "X_test_list = np.array(X_test)\n",
    "X_odds = list(zip(X_test_list[:, -2], X_test_list[:, -1], probs[:, 0], probs[:, 1], y_test))\n",
    "ev_prepped_df = pd.DataFrame(X_odds, columns=['t1_odds', 't2_odds', 't1_prob', 't2_prob', 'winner'])\n",
    "#display(ev_prepped_df)\n",
    "get_ev_from_df(ev_prepped_df, True)"
   ]
  },
  {
   "cell_type": "markdown",
   "metadata": {},
   "source": [
    "### MODEL 5"
   ]
  },
  {
   "cell_type": "code",
   "execution_count": 43,
   "metadata": {},
   "outputs": [],
   "source": [
    "model=DecisionTreeClassifier(ccp_alpha=0.0, class_weight=None, criterion='entropy',\n",
    "                       max_depth=12, max_features=None, max_leaf_nodes=None,\n",
    "                       min_impurity_decrease=0.0, min_impurity_split=None,\n",
    "                       min_samples_leaf=4, min_samples_split=2,\n",
    "                       min_weight_fraction_leaf=0.0, presort='deprecated',\n",
    "                       random_state=75, splitter='best')\n",
    "features = ['t1_wins_last_3', 't2_matches_alltime', 'winner_label', 't1_odds', 't2_odds']"
   ]
  },
  {
   "cell_type": "code",
   "execution_count": 44,
   "metadata": {},
   "outputs": [
    {
     "name": "stdout",
     "output_type": "stream",
     "text": [
      "\n",
      "          Number of matches: 60\n",
      "          Number of bets: 52\n",
      "          Number of winning bets: 23\n",
      "          Number of losing bets: 29\n",
      "          Number of underdog bets: 24\n",
      "          Number of underdog wins: 6\n",
      "          Number of underdog losses: 18\n",
      "          Number of Favorite bets: 28\n",
      "          Number of favorite wins: 17\n",
      "          Number of favorite losses: 11\n",
      "          Number of even bets: 0\n",
      "          Number of even wins: 0\n",
      "          Number of even losses: 0\n",
      "          Profit: -1267.6770208695882\n",
      "          Profit per bet: -24.37840424749208\n",
      "          Profit per match: -21.12795034782647\n",
      "          \n",
      "          \n"
     ]
    },
    {
     "data": {
      "text/plain": [
       "-24.37840424749208"
      ]
     },
     "execution_count": 44,
     "metadata": {},
     "output_type": "execute_result"
    }
   ],
   "source": [
    "X=df_train_filtered[features].copy()\n",
    "X_test=df_test_filtered[features].copy()\n",
    "y = X['winner_label']\n",
    "y_test=X_test['winner_label']\n",
    "X = X.drop('winner_label', axis=1)\n",
    "X_test = X_test.drop('winner_label', axis=1)\n",
    "model.fit(X, y)\n",
    "probs=model.predict_proba(X_test)\n",
    "X_test_list = np.array(X_test)\n",
    "X_odds = list(zip(X_test_list[:, -2], X_test_list[:, -1], probs[:, 0], probs[:, 1], y_test))\n",
    "ev_prepped_df = pd.DataFrame(X_odds, columns=['t1_odds', 't2_odds', 't1_prob', 't2_prob', 'winner'])\n",
    "#display(ev_prepped_df)\n",
    "get_ev_from_df(ev_prepped_df, True)"
   ]
  },
  {
   "cell_type": "markdown",
   "metadata": {},
   "source": [
    "### MODEL 6"
   ]
  },
  {
   "cell_type": "code",
   "execution_count": 45,
   "metadata": {},
   "outputs": [],
   "source": [
    "model=RandomForestClassifier(bootstrap=True, ccp_alpha=0.0, class_weight=None,\n",
    "                       criterion='gini', max_depth=6, max_features='auto',\n",
    "                       max_leaf_nodes=None, max_samples=None,\n",
    "                       min_impurity_decrease=0.0, min_impurity_split=None,\n",
    "                       min_samples_leaf=1, min_samples_split=2,\n",
    "                       min_weight_fraction_leaf=0.0, n_estimators=50,\n",
    "                       n_jobs=None, oob_score=False, random_state=75, verbose=0,\n",
    "                       warm_start=False)\n",
    "\n",
    "features = ['t2_wins_last_5', 't1_win_percent_season', 't1_losses_season', 't2_losses_last_5', 't1_wins_vs_t2', 'winner_label', 't1_odds', 't2_odds']\n"
   ]
  },
  {
   "cell_type": "code",
   "execution_count": 46,
   "metadata": {},
   "outputs": [
    {
     "name": "stdout",
     "output_type": "stream",
     "text": [
      "\n",
      "          Number of matches: 60\n",
      "          Number of bets: 52\n",
      "          Number of winning bets: 21\n",
      "          Number of losing bets: 31\n",
      "          Number of underdog bets: 28\n",
      "          Number of underdog wins: 7\n",
      "          Number of underdog losses: 21\n",
      "          Number of Favorite bets: 24\n",
      "          Number of favorite wins: 14\n",
      "          Number of favorite losses: 10\n",
      "          Number of even bets: 0\n",
      "          Number of even wins: 0\n",
      "          Number of even losses: 0\n",
      "          Profit: -908.2604830078825\n",
      "          Profit per bet: -17.466547750151587\n",
      "          Profit per match: -15.137674716798042\n",
      "          \n",
      "          \n"
     ]
    },
    {
     "data": {
      "text/plain": [
       "-17.466547750151587"
      ]
     },
     "execution_count": 46,
     "metadata": {},
     "output_type": "execute_result"
    }
   ],
   "source": [
    "X=df_train_filtered[features].copy()\n",
    "X_test=df_test_filtered[features].copy()\n",
    "y = X['winner_label']\n",
    "y_test=X_test['winner_label']\n",
    "X = X.drop('winner_label', axis=1)\n",
    "X_test = X_test.drop('winner_label', axis=1)\n",
    "model.fit(X, y)\n",
    "probs=model.predict_proba(X_test)\n",
    "X_test_list = np.array(X_test)\n",
    "X_odds = list(zip(X_test_list[:, -2], X_test_list[:, -1], probs[:, 0], probs[:, 1], y_test))\n",
    "ev_prepped_df = pd.DataFrame(X_odds, columns=['t1_odds', 't2_odds', 't1_prob', 't2_prob', 'winner'])\n",
    "#display(ev_prepped_df)\n",
    "get_ev_from_df(ev_prepped_df, True)"
   ]
  },
  {
   "cell_type": "markdown",
   "metadata": {},
   "source": [
    "### MODEL 7"
   ]
  },
  {
   "cell_type": "code",
   "execution_count": 47,
   "metadata": {},
   "outputs": [],
   "source": [
    "model=GradientBoostingClassifier(ccp_alpha=0.0, criterion='friedman_mse', init=None,\n",
    "                           learning_rate=0.2, loss='deviance', max_depth=16,\n",
    "                           max_features=None, max_leaf_nodes=None,\n",
    "                           min_impurity_decrease=0.0, min_impurity_split=None,\n",
    "                           min_samples_leaf=6, min_samples_split=2,\n",
    "                           min_weight_fraction_leaf=0.0, n_estimators=200,\n",
    "                           n_iter_no_change=None, presort='deprecated',\n",
    "                           random_state=75, subsample=1.0, tol=0.0001,\n",
    "                           validation_fraction=0.1, verbose=0,\n",
    "                           warm_start=False)\n",
    "\n",
    "features =['corona_virus_isolation', 't1_wins_season', 't1_losses_season', 't2_wins_season', 't2_losses_season', 't1_matches_season', 't2_matches_season', 't1_win_percent_season', 't2_win_percent_season', 't1_wins_alltime', 't1_losses_alltime', 't2_wins_alltime', 't2_losses_alltime', 't1_matches_alltime', 't2_matches_alltime', 't1_win_percent_alltime', 't2_win_percent_alltime', 't1_wins_last_3', 't1_losses_last_3', 't2_wins_last_3', 't2_losses_last_3', 't1_win_percent_last_3', 't2_win_percent_last_3', 't1_wins_last_5', 't1_losses_last_5', 't2_wins_last_5', 't2_losses_last_5', 't1_win_percent_last_5', 't2_win_percent_last_5', 't1_wins_last_10', 't1_losses_last_10', 't2_wins_last_10', 't2_losses_last_10', 't1_win_percent_last_10', 't2_win_percent_last_10', 't1_wins_vs_t2', 't1_losses_vs_t2', 't1_matches_vs_t2', 'winner_label', 't1_odds', 't2_odds']\n"
   ]
  },
  {
   "cell_type": "code",
   "execution_count": 48,
   "metadata": {},
   "outputs": [
    {
     "name": "stdout",
     "output_type": "stream",
     "text": [
      "\n",
      "          Number of matches: 60\n",
      "          Number of bets: 60\n",
      "          Number of winning bets: 35\n",
      "          Number of losing bets: 25\n",
      "          Number of underdog bets: 14\n",
      "          Number of underdog wins: 4\n",
      "          Number of underdog losses: 10\n",
      "          Number of Favorite bets: 46\n",
      "          Number of favorite wins: 31\n",
      "          Number of favorite losses: 15\n",
      "          Number of even bets: 0\n",
      "          Number of even wins: 0\n",
      "          Number of even losses: 0\n",
      "          Profit: -847.7502781849504\n",
      "          Profit per bet: -14.129171303082506\n",
      "          Profit per match: -14.129171303082506\n",
      "          \n",
      "          \n"
     ]
    },
    {
     "data": {
      "text/plain": [
       "-14.129171303082506"
      ]
     },
     "execution_count": 48,
     "metadata": {},
     "output_type": "execute_result"
    }
   ],
   "source": [
    "X=df_train_filtered[features].copy()\n",
    "X_test=df_test_filtered[features].copy()\n",
    "y = X['winner_label']\n",
    "y_test=X_test['winner_label']\n",
    "X = X.drop('winner_label', axis=1)\n",
    "X_test = X_test.drop('winner_label', axis=1)\n",
    "model.fit(X, y)\n",
    "probs=model.predict_proba(X_test)\n",
    "probs_7=probs\n",
    "X_test_list = np.array(X_test)\n",
    "X_odds = list(zip(X_test_list[:, -2], X_test_list[:, -1], probs[:, 0], probs[:, 1], y_test))\n",
    "ev_prepped_df = pd.DataFrame(X_odds, columns=['t1_odds', 't2_odds', 't1_prob', 't2_prob', 'winner'])\n",
    "#display(ev_prepped_df)\n",
    "get_ev_from_df(ev_prepped_df, True)"
   ]
  },
  {
   "cell_type": "code",
   "execution_count": null,
   "metadata": {},
   "outputs": [],
   "source": []
  },
  {
   "cell_type": "code",
   "execution_count": 49,
   "metadata": {},
   "outputs": [
    {
     "data": {
      "text/plain": [
       "array([[0.27610539, 0.72389461],\n",
       "       [0.54607136, 0.45392864],\n",
       "       [0.4951614 , 0.5048386 ],\n",
       "       [0.85051513, 0.14948487],\n",
       "       [0.33822625, 0.66177375],\n",
       "       [0.62486496, 0.37513504],\n",
       "       [0.36920528, 0.63079472],\n",
       "       [0.73904478, 0.26095522],\n",
       "       [0.03910704, 0.96089296],\n",
       "       [0.34300503, 0.65699497],\n",
       "       [0.46039917, 0.53960083],\n",
       "       [0.66314031, 0.33685969],\n",
       "       [0.51804212, 0.48195788],\n",
       "       [0.66867317, 0.33132683],\n",
       "       [0.2711652 , 0.7288348 ],\n",
       "       [0.3545319 , 0.6454681 ],\n",
       "       [0.57523073, 0.42476927],\n",
       "       [0.1310039 , 0.8689961 ],\n",
       "       [0.32425872, 0.67574128],\n",
       "       [0.54990968, 0.45009032],\n",
       "       [0.17206136, 0.82793864],\n",
       "       [0.38536866, 0.61463134],\n",
       "       [0.40993573, 0.59006427],\n",
       "       [0.59465472, 0.40534528],\n",
       "       [0.3068234 , 0.6931766 ],\n",
       "       [0.35268315, 0.64731685],\n",
       "       [0.51945784, 0.48054216],\n",
       "       [0.31363934, 0.68636066],\n",
       "       [0.53294434, 0.46705566],\n",
       "       [0.26682848, 0.73317152],\n",
       "       [0.40479191, 0.59520809],\n",
       "       [0.54328837, 0.45671163],\n",
       "       [0.50387829, 0.49612171],\n",
       "       [0.63264635, 0.36735365],\n",
       "       [0.44999416, 0.55000584],\n",
       "       [0.49479782, 0.50520218],\n",
       "       [0.39333333, 0.60666667],\n",
       "       [0.37712622, 0.62287378],\n",
       "       [0.34505687, 0.65494313],\n",
       "       [0.44666423, 0.55333577],\n",
       "       [0.48783908, 0.51216092],\n",
       "       [0.73869554, 0.26130446],\n",
       "       [0.49031844, 0.50968156],\n",
       "       [0.21529803, 0.78470197],\n",
       "       [0.31680605, 0.68319395],\n",
       "       [0.09253873, 0.90746127],\n",
       "       [0.41388452, 0.58611548],\n",
       "       [0.4163103 , 0.5836897 ],\n",
       "       [0.45713608, 0.54286392],\n",
       "       [0.34756322, 0.65243678],\n",
       "       [0.55108596, 0.44891404],\n",
       "       [0.31321864, 0.68678136],\n",
       "       [0.59249935, 0.40750065],\n",
       "       [0.39876398, 0.60123602],\n",
       "       [0.63182908, 0.36817092],\n",
       "       [0.58123932, 0.41876068],\n",
       "       [0.34301755, 0.65698245],\n",
       "       [0.35353475, 0.64646525],\n",
       "       [0.46035275, 0.53964725],\n",
       "       [0.35396606, 0.64603394]])"
      ]
     },
     "execution_count": 49,
     "metadata": {},
     "output_type": "execute_result"
    }
   ],
   "source": [
    "probs_2"
   ]
  },
  {
   "cell_type": "code",
   "execution_count": 50,
   "metadata": {},
   "outputs": [
    {
     "data": {
      "text/plain": [
       "array([[0.02653916, 0.97346084],\n",
       "       [0.94746141, 0.05253859],\n",
       "       [0.84887797, 0.15112203],\n",
       "       [0.99914325, 0.00085675],\n",
       "       [0.03792129, 0.96207871],\n",
       "       [0.99977956, 0.00022044],\n",
       "       [0.00138298, 0.99861702],\n",
       "       [0.94534046, 0.05465954],\n",
       "       [0.00067018, 0.99932982],\n",
       "       [0.05055432, 0.94944568],\n",
       "       [0.30841925, 0.69158075],\n",
       "       [0.99940374, 0.00059626],\n",
       "       [0.99603612, 0.00396388],\n",
       "       [0.9978515 , 0.0021485 ],\n",
       "       [0.00004862, 0.99995138],\n",
       "       [0.04428489, 0.95571511],\n",
       "       [0.99591711, 0.00408289],\n",
       "       [0.00017825, 0.99982175],\n",
       "       [0.22344479, 0.77655521],\n",
       "       [0.89242808, 0.10757192],\n",
       "       [0.00027082, 0.99972918],\n",
       "       [0.58508395, 0.41491605],\n",
       "       [0.000372  , 0.999628  ],\n",
       "       [0.94978939, 0.05021061],\n",
       "       [0.00003914, 0.99996086],\n",
       "       [0.51922747, 0.48077253],\n",
       "       [0.942345  , 0.057655  ],\n",
       "       [0.00257369, 0.99742631],\n",
       "       [0.39832041, 0.60167959],\n",
       "       [0.00005992, 0.99994008],\n",
       "       [0.31004109, 0.68995891],\n",
       "       [0.02990547, 0.97009453],\n",
       "       [0.01786218, 0.98213782],\n",
       "       [0.96248783, 0.03751217],\n",
       "       [0.95347587, 0.04652413],\n",
       "       [0.86906045, 0.13093955],\n",
       "       [0.24842799, 0.75157201],\n",
       "       [0.92604276, 0.07395724],\n",
       "       [0.00001728, 0.99998272],\n",
       "       [0.83789416, 0.16210584],\n",
       "       [0.21934701, 0.78065299],\n",
       "       [0.99645145, 0.00354855],\n",
       "       [0.10047568, 0.89952432],\n",
       "       [0.0001912 , 0.9998088 ],\n",
       "       [0.0000277 , 0.9999723 ],\n",
       "       [0.00210242, 0.99789758],\n",
       "       [0.26662204, 0.73337796],\n",
       "       [0.96262073, 0.03737927],\n",
       "       [0.86142413, 0.13857587],\n",
       "       [0.0828645 , 0.9171355 ],\n",
       "       [0.34562909, 0.65437091],\n",
       "       [0.02548199, 0.97451801],\n",
       "       [0.9981498 , 0.0018502 ],\n",
       "       [0.02246983, 0.97753017],\n",
       "       [0.71995961, 0.28004039],\n",
       "       [0.18342338, 0.81657662],\n",
       "       [0.9927353 , 0.0072647 ],\n",
       "       [0.03720748, 0.96279252],\n",
       "       [0.99968401, 0.00031599],\n",
       "       [0.00018913, 0.99981087]])"
      ]
     },
     "execution_count": 50,
     "metadata": {},
     "output_type": "execute_result"
    }
   ],
   "source": [
    "probs_7"
   ]
  },
  {
   "cell_type": "code",
   "execution_count": 51,
   "metadata": {},
   "outputs": [],
   "source": [
    "ensemble_probs=(probs_2 + probs_1) * .5"
   ]
  },
  {
   "cell_type": "code",
   "execution_count": 52,
   "metadata": {},
   "outputs": [
    {
     "name": "stdout",
     "output_type": "stream",
     "text": [
      "[[0.13805269 0.86194731]\n",
      " [0.47303568 0.52696432]\n",
      " [0.41424736 0.58575264]\n",
      " [0.92525757 0.07474243]\n",
      " [0.16911312 0.83088688]\n",
      " [0.51243248 0.48756752]\n",
      " [0.18460264 0.81539736]\n",
      " [0.86952239 0.13047761]\n",
      " [0.14455352 0.85544648]\n",
      " [0.17150252 0.82849748]\n",
      " [0.73019958 0.26980042]\n",
      " [0.53157016 0.46842984]\n",
      " [0.75902106 0.24097894]\n",
      " [0.83433659 0.16566341]\n",
      " [0.1355826  0.8644174 ]\n",
      " [0.47726595 0.52273405]\n",
      " [0.78761536 0.21238464]\n",
      " [0.23216862 0.76783138]\n",
      " [0.16212936 0.83787064]\n",
      " [0.47495484 0.52504516]\n",
      " [0.08603068 0.91396932]\n",
      " [0.39268433 0.60731567]\n",
      " [0.20496786 0.79503214]\n",
      " [0.79732736 0.20267264]\n",
      " [0.4034117  0.5965883 ]\n",
      " [0.67634158 0.32365842]\n",
      " [0.33115749 0.66884251]\n",
      " [0.15681967 0.84318033]\n",
      " [0.76647217 0.23352783]\n",
      " [0.13341424 0.86658576]\n",
      " [0.50239595 0.49760405]\n",
      " [0.77164419 0.22835581]\n",
      " [0.25193914 0.74806086]\n",
      " [0.81632318 0.18367682]\n",
      " [0.72499708 0.27500292]\n",
      " [0.44739891 0.55260109]\n",
      " [0.59666667 0.40333333]\n",
      " [0.35522978 0.64477022]\n",
      " [0.17252843 0.82747157]\n",
      " [0.72333212 0.27666788]\n",
      " [0.44391954 0.55608046]\n",
      " [0.86934777 0.13065223]\n",
      " [0.44515922 0.55484078]\n",
      " [0.10764902 0.89235098]\n",
      " [0.15840302 0.84159698]\n",
      " [0.04626937 0.95373063]\n",
      " [0.37360892 0.62639108]\n",
      " [0.30815515 0.69184485]\n",
      " [0.60356804 0.39643196]\n",
      " [0.47378161 0.52621839]\n",
      " [0.77554298 0.22445702]\n",
      " [0.15660932 0.84339068]\n",
      " [0.79624967 0.20375033]\n",
      " [0.19938199 0.80061801]\n",
      " [0.69091454 0.30908546]\n",
      " [0.79061966 0.20938034]\n",
      " [0.37150877 0.62849123]\n",
      " [0.47676737 0.52323263]\n",
      " [0.73017637 0.26982363]\n",
      " [0.17698303 0.82301697]]\n"
     ]
    }
   ],
   "source": [
    "print(ensemble_probs)"
   ]
  },
  {
   "cell_type": "code",
   "execution_count": 53,
   "metadata": {},
   "outputs": [
    {
     "name": "stdout",
     "output_type": "stream",
     "text": [
      "\n",
      "          Number of matches: 60\n",
      "          Number of bets: 52\n",
      "          Number of winning bets: 23\n",
      "          Number of losing bets: 29\n",
      "          Number of underdog bets: 26\n",
      "          Number of underdog wins: 7\n",
      "          Number of underdog losses: 19\n",
      "          Number of Favorite bets: 26\n",
      "          Number of favorite wins: 16\n",
      "          Number of favorite losses: 10\n",
      "          Number of even bets: 0\n",
      "          Number of even wins: 0\n",
      "          Number of even losses: 0\n",
      "          Profit: -996.0882092553933\n",
      "          Profit per bet: -19.15554248568064\n",
      "          Profit per match: -16.601470154256553\n",
      "          \n",
      "          \n"
     ]
    },
    {
     "data": {
      "text/plain": [
       "-19.15554248568064"
      ]
     },
     "execution_count": 53,
     "metadata": {},
     "output_type": "execute_result"
    }
   ],
   "source": [
    "X_test_list = np.array(X_test)\n",
    "X_odds = list(zip(X_test_list[:, -2], X_test_list[:, -1], ensemble_probs[:, 0], ensemble_probs[:, 1], y_test))\n",
    "ev_prepped_df = pd.DataFrame(X_odds, columns=['t1_odds', 't2_odds', 't1_prob', 't2_prob', 'winner'])\n",
    "#display(ev_prepped_df)\n",
    "get_ev_from_df(ev_prepped_df, True)"
   ]
  },
  {
   "cell_type": "markdown",
   "metadata": {},
   "source": [
    "### MODEL X"
   ]
  },
  {
   "cell_type": "code",
   "execution_count": 54,
   "metadata": {},
   "outputs": [],
   "source": [
    "model = LogisticRegression()"
   ]
  },
  {
   "cell_type": "code",
   "execution_count": null,
   "metadata": {},
   "outputs": [],
   "source": []
  },
  {
   "cell_type": "code",
   "execution_count": 55,
   "metadata": {},
   "outputs": [
    {
     "name": "stdout",
     "output_type": "stream",
     "text": [
      "\n",
      "          Number of matches: 60\n",
      "          Number of bets: 49\n",
      "          Number of winning bets: 15\n",
      "          Number of losing bets: 34\n",
      "          Number of underdog bets: 46\n",
      "          Number of underdog wins: 13\n",
      "          Number of underdog losses: 33\n",
      "          Number of Favorite bets: 3\n",
      "          Number of favorite wins: 2\n",
      "          Number of favorite losses: 1\n",
      "          Number of even bets: 0\n",
      "          Number of even wins: 0\n",
      "          Number of even losses: 0\n",
      "          Profit: -717.978021978022\n",
      "          Profit per bet: -14.65261269342902\n",
      "          Profit per match: -11.966300366300366\n",
      "          \n",
      "          \n"
     ]
    },
    {
     "data": {
      "text/plain": [
       "-14.65261269342902"
      ]
     },
     "execution_count": 55,
     "metadata": {},
     "output_type": "execute_result"
    }
   ],
   "source": [
    "X=df_train_filtered.copy()\n",
    "\n",
    "\n",
    "X_test=df_test_filtered.copy()\n",
    "y = X['winner_label']\n",
    "y_test=X_test['winner_label']\n",
    "X = X.drop('winner_label', axis=1)\n",
    "X_test = X_test.drop('winner_label', axis=1)\n",
    "X_test_list = np.array(X_test)\n",
    "#SCALER ONLY NEEDED FOR LR\n",
    "sc=StandardScaler()\n",
    "X = sc.fit_transform(X)\n",
    "X_test = sc.transform(X_test)\n",
    "##\n",
    "\n",
    "\n",
    "\n",
    "model.fit(X, y)\n",
    "probs=model.predict_proba(X_test)\n",
    "probs_2=probs\n",
    "X_odds = list(zip(X_test_list[:, -2], X_test_list[:, -1], probs[:, 0], probs[:, 1], y_test))\n",
    "ev_prepped_df = pd.DataFrame(X_odds, columns=['t1_odds', 't2_odds', 't1_prob', 't2_prob', 'winner'])\n",
    "#display(ev_prepped_df)\n",
    "get_ev_from_df(ev_prepped_df, True)"
   ]
  },
  {
   "cell_type": "code",
   "execution_count": null,
   "metadata": {},
   "outputs": [],
   "source": []
  }
 ],
 "metadata": {
  "kernelspec": {
   "display_name": "Python 3",
   "language": "python",
   "name": "python3"
  },
  "language_info": {
   "codemirror_mode": {
    "name": "ipython",
    "version": 3
   },
   "file_extension": ".py",
   "mimetype": "text/x-python",
   "name": "python",
   "nbconvert_exporter": "python",
   "pygments_lexer": "ipython3",
   "version": "3.7.6"
  }
 },
 "nbformat": 4,
 "nbformat_minor": 4
}
