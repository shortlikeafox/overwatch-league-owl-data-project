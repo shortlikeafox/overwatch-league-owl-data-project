{
 "cells": [
  {
   "cell_type": "code",
   "execution_count": 1,
   "metadata": {},
   "outputs": [],
   "source": [
    "import pandas as pd\n",
    "from functions import custom_cv_eval_v2\n",
    "import random\n",
    "import json\n"
   ]
  },
  {
   "cell_type": "code",
   "execution_count": 2,
   "metadata": {},
   "outputs": [],
   "source": [
    "%run MODEL_LIST.ipynb            #Load the models"
   ]
  },
  {
   "cell_type": "code",
   "execution_count": 3,
   "metadata": {},
   "outputs": [],
   "source": [
    "df=pd.read_csv(\"data/owl-with-odds.csv\")"
   ]
  },
  {
   "cell_type": "code",
   "execution_count": 4,
   "metadata": {},
   "outputs": [],
   "source": [
    "#The odds need to be changed to numeric...\n",
    "\n",
    "subset = ['t1_odds', 't2_odds']\n",
    "df.dropna(subset=subset ,inplace=True)\n",
    "df['t1_odds'] = pd.to_numeric(df['t1_odds'], errors='coerce')\n",
    "df['t2_odds'] = pd.to_numeric(df['t2_odds'], errors='coerce')\n",
    "df.dropna(subset=subset ,inplace=True)\n",
    "#Create the odds df\n",
    "odds_df = df[subset]\n",
    "\n",
    "#Create a label df\n",
    "label_df = df['winner_label']"
   ]
  },
  {
   "cell_type": "code",
   "execution_count": 5,
   "metadata": {},
   "outputs": [
    {
     "name": "stdout",
     "output_type": "stream",
     "text": [
      "60\n",
      "60\n",
      "60\n",
      "508\n",
      "508\n",
      "508\n"
     ]
    }
   ],
   "source": [
    "#Split the test set.  We are always(?) going to use the last 60 matches as the test set, so we don't want those around\n",
    "#as we pick models\n",
    "df_train = df[:-60]\n",
    "odds_train = odds_df[:-60]\n",
    "label_train = label_df[:-60]\n",
    "\n",
    "df_test = df[-60:]\n",
    "odds_test = odds_df[-60:]\n",
    "label_test = label_df[-60:]\n",
    "\n",
    "print(len(df_test))\n",
    "print(len(odds_test))\n",
    "print(len(label_test))\n",
    "\n",
    "print(len(df_train))\n",
    "print(len(odds_train))\n",
    "print(len(label_train))"
   ]
  },
  {
   "cell_type": "code",
   "execution_count": 8,
   "metadata": {},
   "outputs": [],
   "source": [
    "def evaluate_model(input_model, input_features, input_ev, train_df, train_labels, train_odds, test_df, test_labels,\n",
    "                  test_odds, verbose=True):\n",
    "    model_score = 0\n",
    "    \n",
    "    df_train = train_df[input_features].copy()\n",
    "    df_test = test_df[input_features].copy()\n",
    "    df_train = df_train.dropna()\n",
    "    df_test = df_test.dropna()\n",
    "        \n",
    "    df_train = pd.get_dummies(df_train)\n",
    "    df_test = pd.get_dummies(df_test)\n",
    "    df_train, df_test = df_train.align(df_test, join='left', axis=1)    #Ensures both sets are dummified the same\n",
    "    df_test = df_test.fillna(0)\n",
    "\n",
    "    #LOOK AT get_ev and prepare the labels and odds\n",
    "    \n",
    "    labels_train = train_labels[train_labels.index.isin(df_train.index)]\n",
    "    odds_train = train_odds[train_odds.index.isin(df_train.index)] \n",
    "    labels_test = test_labels[test_labels.index.isin(df_test.index)]\n",
    "    odds_test = test_odds[test_odds.index.isin(df_test.index)] \n",
    "    \n",
    "    \n",
    "    \n",
    "    display(df_train.shape)\n",
    "    display(labels_train.shape)\n",
    "    display(odds_train.shape)\n",
    "    display(df_test.shape)\n",
    "    display(labels_test.shape)\n",
    "    display(odds_test.shape)\n",
    "    \n",
    "    input_model.fit(df_train, labels_train)\n",
    "\n",
    "    \n",
    "    \n",
    "    probs = input_model.predict_proba(df_test)\n",
    "\n",
    "    \n",
    "    odds_test = np.array(odds_test)    \n",
    "    \n",
    "    \n",
    "    prepped_test = list(zip(odds_test[:, -2], odds_test[:, -1], probs[:, 0], probs[:, 1], labels_test))\n",
    "    ev_prepped_df = pd.DataFrame(prepped_test, columns=['t1_odds', 't2_odds', 't1_prob', 't2_prob', 'winner'])\n",
    "    \n",
    "    display(ev_prepped_df)\n",
    "    \n",
    "    #display(df_test)\n",
    "    #display(df_test)\n",
    "    model_score = get_ev_from_df(ev_prepped_df, print_stats = True, min_ev = input_ev, get_total=True)\n",
    "    \n",
    "    return(model_score)"
   ]
  },
  {
   "cell_type": "code",
   "execution_count": null,
   "metadata": {},
   "outputs": [],
   "source": [
    "#m1_score = evaluate_model(model_1, features_1, min_ev_1, df_train, label_train, odds_train, df_test, label_test,\n",
    "#                         odds_test, verbose = True)"
   ]
  }
 ],
 "metadata": {
  "kernelspec": {
   "display_name": "Python 3",
   "language": "python",
   "name": "python3"
  },
  "language_info": {
   "codemirror_mode": {
    "name": "ipython",
    "version": 3
   },
   "file_extension": ".py",
   "mimetype": "text/x-python",
   "name": "python",
   "nbconvert_exporter": "python",
   "pygments_lexer": "ipython3",
   "version": "3.7.6"
  }
 },
 "nbformat": 4,
 "nbformat_minor": 4
}
