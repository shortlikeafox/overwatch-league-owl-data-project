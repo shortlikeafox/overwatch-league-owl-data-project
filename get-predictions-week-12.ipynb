{
 "cells": [
  {
   "cell_type": "code",
   "execution_count": 2,
   "metadata": {},
   "outputs": [],
   "source": [
    "#We have to take a file like 'week-12-complete.csv' from the load-upcoming-matches notebook and add odds.  It ends up like\n",
    "#'owl-with-odds-week-12.csv'.  Now just load and predict!"
   ]
  },
  {
   "cell_type": "code",
   "execution_count": 31,
   "metadata": {},
   "outputs": [],
   "source": [
    "import pandas as pd\n",
    "from sklearn.tree import DecisionTreeClassifier\n",
    "from sklearn import tree\n",
    "from sklearn.model_selection import KFold\n",
    "import numpy as np\n",
    "from sklearn.preprocessing import StandardScaler\n",
    "from sklearn.linear_model import LogisticRegression\n",
    "from sklearn import svm\n",
    "from sklearn.ensemble import RandomForestClassifier\n",
    "from sklearn.neural_network import MLPClassifier\n",
    "from sklearn.ensemble import GradientBoostingClassifier\n",
    "np.set_printoptions(suppress=True)  #Suppress Scientific Notation"
   ]
  },
  {
   "cell_type": "code",
   "execution_count": 4,
   "metadata": {},
   "outputs": [],
   "source": [
    "df_upcoming = pd.read_csv('owl-with-odds-week-12.csv')"
   ]
  },
  {
   "cell_type": "code",
   "execution_count": 5,
   "metadata": {},
   "outputs": [
    {
     "data": {
      "text/plain": [
       "(10, 58)"
      ]
     },
     "execution_count": 5,
     "metadata": {},
     "output_type": "execute_result"
    }
   ],
   "source": [
    "df_upcoming.shape"
   ]
  },
  {
   "cell_type": "code",
   "execution_count": 6,
   "metadata": {},
   "outputs": [
    {
     "data": {
      "text/html": [
       "<div>\n",
       "<style scoped>\n",
       "    .dataframe tbody tr th:only-of-type {\n",
       "        vertical-align: middle;\n",
       "    }\n",
       "\n",
       "    .dataframe tbody tr th {\n",
       "        vertical-align: top;\n",
       "    }\n",
       "\n",
       "    .dataframe thead th {\n",
       "        text-align: right;\n",
       "    }\n",
       "</style>\n",
       "<table border=\"1\" class=\"dataframe\">\n",
       "  <thead>\n",
       "    <tr style=\"text-align: right;\">\n",
       "      <th></th>\n",
       "      <th>Unnamed: 0</th>\n",
       "      <th>t1_odds</th>\n",
       "      <th>t2_odds</th>\n",
       "      <th>t1_prob</th>\n",
       "      <th>t2_prob</th>\n",
       "      <th>winner</th>\n",
       "    </tr>\n",
       "  </thead>\n",
       "  <tbody>\n",
       "    <tr>\n",
       "      <th>0</th>\n",
       "      <td>0</td>\n",
       "      <td>459.0</td>\n",
       "      <td>-833.0</td>\n",
       "      <td>0.285714</td>\n",
       "      <td>0.714286</td>\n",
       "      <td>1.0</td>\n",
       "    </tr>\n",
       "    <tr>\n",
       "      <th>1</th>\n",
       "      <td>1</td>\n",
       "      <td>-110.0</td>\n",
       "      <td>-110.0</td>\n",
       "      <td>0.500000</td>\n",
       "      <td>0.500000</td>\n",
       "      <td>0.0</td>\n",
       "    </tr>\n",
       "    <tr>\n",
       "      <th>2</th>\n",
       "      <td>2</td>\n",
       "      <td>-385.0</td>\n",
       "      <td>299.0</td>\n",
       "      <td>0.416667</td>\n",
       "      <td>0.583333</td>\n",
       "      <td>1.0</td>\n",
       "    </tr>\n",
       "    <tr>\n",
       "      <th>3</th>\n",
       "      <td>3</td>\n",
       "      <td>-137.0</td>\n",
       "      <td>112.0</td>\n",
       "      <td>0.416667</td>\n",
       "      <td>0.583333</td>\n",
       "      <td>0.0</td>\n",
       "    </tr>\n",
       "    <tr>\n",
       "      <th>4</th>\n",
       "      <td>4</td>\n",
       "      <td>-139.0</td>\n",
       "      <td>106.0</td>\n",
       "      <td>0.779412</td>\n",
       "      <td>0.220588</td>\n",
       "      <td>1.0</td>\n",
       "    </tr>\n",
       "    <tr>\n",
       "      <th>...</th>\n",
       "      <td>...</td>\n",
       "      <td>...</td>\n",
       "      <td>...</td>\n",
       "      <td>...</td>\n",
       "      <td>...</td>\n",
       "      <td>...</td>\n",
       "    </tr>\n",
       "    <tr>\n",
       "      <th>90</th>\n",
       "      <td>90</td>\n",
       "      <td>135.0</td>\n",
       "      <td>-179.0</td>\n",
       "      <td>0.176471</td>\n",
       "      <td>0.823529</td>\n",
       "      <td>1.0</td>\n",
       "    </tr>\n",
       "    <tr>\n",
       "      <th>91</th>\n",
       "      <td>91</td>\n",
       "      <td>-323.0</td>\n",
       "      <td>252.0</td>\n",
       "      <td>0.779412</td>\n",
       "      <td>0.220588</td>\n",
       "      <td>0.0</td>\n",
       "    </tr>\n",
       "    <tr>\n",
       "      <th>92</th>\n",
       "      <td>92</td>\n",
       "      <td>-227.0</td>\n",
       "      <td>170.0</td>\n",
       "      <td>0.779412</td>\n",
       "      <td>0.220588</td>\n",
       "      <td>0.0</td>\n",
       "    </tr>\n",
       "    <tr>\n",
       "      <th>93</th>\n",
       "      <td>93</td>\n",
       "      <td>-141.0</td>\n",
       "      <td>106.0</td>\n",
       "      <td>0.833333</td>\n",
       "      <td>0.166667</td>\n",
       "      <td>1.0</td>\n",
       "    </tr>\n",
       "    <tr>\n",
       "      <th>94</th>\n",
       "      <td>94</td>\n",
       "      <td>1169.0</td>\n",
       "      <td>-3333.0</td>\n",
       "      <td>0.051282</td>\n",
       "      <td>0.948718</td>\n",
       "      <td>1.0</td>\n",
       "    </tr>\n",
       "  </tbody>\n",
       "</table>\n",
       "<p>95 rows × 6 columns</p>\n",
       "</div>"
      ],
      "text/plain": [
       "    Unnamed: 0  t1_odds  t2_odds   t1_prob   t2_prob  winner\n",
       "0            0    459.0   -833.0  0.285714  0.714286     1.0\n",
       "1            1   -110.0   -110.0  0.500000  0.500000     0.0\n",
       "2            2   -385.0    299.0  0.416667  0.583333     1.0\n",
       "3            3   -137.0    112.0  0.416667  0.583333     0.0\n",
       "4            4   -139.0    106.0  0.779412  0.220588     1.0\n",
       "..         ...      ...      ...       ...       ...     ...\n",
       "90          90    135.0   -179.0  0.176471  0.823529     1.0\n",
       "91          91   -323.0    252.0  0.779412  0.220588     0.0\n",
       "92          92   -227.0    170.0  0.779412  0.220588     0.0\n",
       "93          93   -141.0    106.0  0.833333  0.166667     1.0\n",
       "94          94   1169.0  -3333.0  0.051282  0.948718     1.0\n",
       "\n",
       "[95 rows x 6 columns]"
      ]
     },
     "metadata": {},
     "output_type": "display_data"
    },
    {
     "name": "stdout",
     "output_type": "stream",
     "text": [
      "\n",
      "          Number of matches: 95\n",
      "          Number of bets: 81\n",
      "          Number of winning bets: 44\n",
      "          Number of losing bets: 37\n",
      "          Number of underdog bets: 26\n",
      "          Number of underdog wins: 8\n",
      "          Number of underdog losses: 18\n",
      "          Number of Favorite bets: 55\n",
      "          Number of favorite wins: 36\n",
      "          Number of favorite losses: 19\n",
      "          Number of even bets: 0\n",
      "          Number of even wins: 0\n",
      "          Number of even losses: 0\n",
      "          Profit: -438.9048172864855\n",
      "          Profit per bet: -5.418577991191179\n",
      "          Profit per match: -4.620050708278795\n",
      "          \n",
      "          \n"
     ]
    }
   ],
   "source": [
    "%run get-ev-scratch-paper.ipynb"
   ]
  },
  {
   "cell_type": "code",
   "execution_count": 7,
   "metadata": {},
   "outputs": [],
   "source": [
    "df=pd.read_csv(\"owl-with-odds.csv\")"
   ]
  },
  {
   "cell_type": "code",
   "execution_count": 8,
   "metadata": {},
   "outputs": [],
   "source": [
    "#We need to create the ensemble we agreed on"
   ]
  },
  {
   "cell_type": "code",
   "execution_count": 9,
   "metadata": {},
   "outputs": [
    {
     "name": "stdout",
     "output_type": "stream",
     "text": [
      "651\n",
      "538\n",
      "536\n"
     ]
    }
   ],
   "source": [
    "subset = ['t1_odds', 't2_odds']\n",
    "print(len(df))\n",
    "df.dropna(subset=subset ,inplace=True)\n",
    "print(len(df))\n",
    "\n",
    "df['t1_odds'] = pd.to_numeric(df['t1_odds'], errors='coerce')\n",
    "df['t2_odds'] = pd.to_numeric(df['t2_odds'], errors='coerce')\n",
    "df.dropna(subset=subset ,inplace=True)\n",
    "print(len(df))"
   ]
  },
  {
   "cell_type": "code",
   "execution_count": 16,
   "metadata": {},
   "outputs": [],
   "source": [
    "df_train = df.copy() #Don't need to split since we are predicting...\n",
    "df_test = df_upcoming.copy()"
   ]
  },
  {
   "cell_type": "code",
   "execution_count": 14,
   "metadata": {},
   "outputs": [],
   "source": [
    "#inclusive features\n",
    "features = ['corona_virus_isolation', 't1_wins_season',\n",
    "       't1_losses_season', 't2_wins_season', 't2_losses_season',\n",
    "       't1_matches_season', 't2_matches_season', 't1_win_percent_season',\n",
    "       't2_win_percent_season', 't1_wins_alltime', 't1_losses_alltime',\n",
    "       't2_wins_alltime', 't2_losses_alltime', 't1_matches_alltime',\n",
    "       't2_matches_alltime', 't1_win_percent_alltime',\n",
    "       't2_win_percent_alltime', 't1_wins_last_3', 't1_losses_last_3',\n",
    "       't2_wins_last_3', 't2_losses_last_3', 't1_win_percent_last_3',\n",
    "       't2_win_percent_last_3', 't1_wins_last_5', 't1_losses_last_5',\n",
    "       't2_wins_last_5', 't2_losses_last_5', 't1_win_percent_last_5',\n",
    "       't2_win_percent_last_5', 't1_wins_last_10', 't1_losses_last_10',\n",
    "       't2_wins_last_10', 't2_losses_last_10', 't1_win_percent_last_10',\n",
    "       't2_win_percent_last_10', \n",
    "        't1_wins_vs_t2', 't1_losses_vs_t2',\n",
    "       't1_matches_vs_t2', 't1_odds', 't2_odds', 'winner_label']"
   ]
  },
  {
   "cell_type": "code",
   "execution_count": 17,
   "metadata": {},
   "outputs": [],
   "source": [
    "df_train_filtered = df_train[features].copy()\n",
    "df_test_filtered = df_test[features].copy()"
   ]
  },
  {
   "cell_type": "code",
   "execution_count": 18,
   "metadata": {},
   "outputs": [
    {
     "name": "stdout",
     "output_type": "stream",
     "text": [
      "(10, 41)\n",
      "(439, 41)\n"
     ]
    }
   ],
   "source": [
    "df_test_filtered.dropna(inplace=True)\n",
    "df_train_filtered.dropna(inplace=True)\n",
    "\n",
    "print(df_test_filtered.shape)\n",
    "print(df_train_filtered.shape)"
   ]
  },
  {
   "cell_type": "code",
   "execution_count": 21,
   "metadata": {},
   "outputs": [
    {
     "name": "stdout",
     "output_type": "stream",
     "text": [
      "\n",
      "          Number of matches: 10\n",
      "          Number of bets: 9\n",
      "          Number of winning bets: 5\n",
      "          Number of losing bets: 4\n",
      "          Number of underdog bets: 3\n",
      "          Number of underdog wins: 2\n",
      "          Number of underdog losses: 1\n",
      "          Number of Favorite bets: 6\n",
      "          Number of favorite wins: 3\n",
      "          Number of favorite losses: 3\n",
      "          Number of even bets: 0\n",
      "          Number of even wins: 0\n",
      "          Number of even losses: 0\n",
      "          Profit: 161.25603864734302\n",
      "          Profit per bet: 17.917337627482556\n",
      "          Profit per match: 16.125603864734302\n",
      "          \n",
      "          \n"
     ]
    }
   ],
   "source": [
    "#model 3\n",
    "model_3 = DecisionTreeClassifier(ccp_alpha=0.0, class_weight=None, criterion='entropy',\n",
    "                       max_depth=12, max_features=None, max_leaf_nodes=None,\n",
    "                       min_impurity_decrease=0.0, min_impurity_split=None,\n",
    "                       min_samples_leaf=4, min_samples_split=2,\n",
    "                       min_weight_fraction_leaf=0.0, presort='deprecated',\n",
    "                       random_state=75, splitter='best')\n",
    "\n",
    "features_3 = ['t1_wins_last_3', 't2_matches_alltime', 'winner_label', 't1_odds', 't2_odds']\n",
    "\n",
    "X=df_train_filtered[features_3].copy()\n",
    "X_test=df_test_filtered[features_3].copy()\n",
    "y = X['winner_label']\n",
    "y_test=X_test['winner_label']\n",
    "X = X.drop('winner_label', axis=1)\n",
    "X_test = X_test.drop('winner_label', axis=1)\n",
    "model_3.fit(X, y)\n",
    "probs=model_3.predict_proba(X_test)\n",
    "X_test_list = np.array(X_test)\n",
    "X_odds = list(zip(X_test_list[:, -2], X_test_list[:, -1], probs[:, 0], probs[:, 1], y_test))\n",
    "ev_prepped_df = pd.DataFrame(X_odds, columns=['t1_odds', 't2_odds', 't1_prob', 't2_prob', 'winner'])\n",
    "#display(ev_prepped_df)\n",
    "get_ev_from_df(ev_prepped_df, True)\n",
    "probs_3 = probs"
   ]
  },
  {
   "cell_type": "code",
   "execution_count": 23,
   "metadata": {},
   "outputs": [
    {
     "name": "stdout",
     "output_type": "stream",
     "text": [
      "\n",
      "          Number of matches: 10\n",
      "          Number of bets: 10\n",
      "          Number of winning bets: 2\n",
      "          Number of losing bets: 8\n",
      "          Number of underdog bets: 2\n",
      "          Number of underdog wins: 0\n",
      "          Number of underdog losses: 2\n",
      "          Number of Favorite bets: 8\n",
      "          Number of favorite wins: 2\n",
      "          Number of favorite losses: 6\n",
      "          Number of even bets: 0\n",
      "          Number of even wins: 0\n",
      "          Number of even losses: 0\n",
      "          Profit: -752.2222222222222\n",
      "          Profit per bet: -75.22222222222221\n",
      "          Profit per match: -75.22222222222221\n",
      "          \n",
      "          \n"
     ]
    }
   ],
   "source": [
    "#model_5\n",
    "#model_5 \n",
    "\n",
    "model_5 = GradientBoostingClassifier(ccp_alpha=0.0, criterion='friedman_mse', init=None,\n",
    "                           learning_rate=0.2, loss='deviance', max_depth=16,\n",
    "                           max_features=None, max_leaf_nodes=None,\n",
    "                           min_impurity_decrease=0.0, min_impurity_split=None,\n",
    "                           min_samples_leaf=6, min_samples_split=2,\n",
    "                           min_weight_fraction_leaf=0.0, n_estimators=200,\n",
    "                           n_iter_no_change=None, presort='deprecated',\n",
    "                           random_state=75, subsample=1.0, tol=0.0001,\n",
    "                           validation_fraction=0.1, verbose=0,\n",
    "                           warm_start=False)\n",
    "\n",
    "features_5 = ['corona_virus_isolation', 't1_wins_season', 't1_losses_season', 't2_wins_season', 't2_losses_season', 't1_matches_season', 't2_matches_season', 't1_win_percent_season', 't2_win_percent_season', 't1_wins_alltime', 't1_losses_alltime', 't2_wins_alltime', 't2_losses_alltime', 't1_matches_alltime', 't2_matches_alltime', 't1_win_percent_alltime', 't2_win_percent_alltime', 't1_wins_last_3', 't1_losses_last_3', 't2_wins_last_3', 't2_losses_last_3', 't1_win_percent_last_3', 't2_win_percent_last_3', 't1_wins_last_5', 't1_losses_last_5', 't2_wins_last_5', 't2_losses_last_5', 't1_win_percent_last_5', 't2_win_percent_last_5', 't1_wins_last_10', 't1_losses_last_10', 't2_wins_last_10', 't2_losses_last_10', 't1_win_percent_last_10', 't2_win_percent_last_10', 't1_wins_vs_t2', 't1_losses_vs_t2', 't1_matches_vs_t2', 'winner_label', 't1_odds', 't2_odds']\n",
    "\n",
    "X=df_train_filtered[features_5].copy()\n",
    "X_test=df_test_filtered[features_5].copy()\n",
    "y = X['winner_label']\n",
    "y_test=X_test['winner_label']\n",
    "X = X.drop('winner_label', axis=1)\n",
    "X_test = X_test.drop('winner_label', axis=1)\n",
    "model_5.fit(X, y)\n",
    "probs=model_5.predict_proba(X_test)\n",
    "X_test_list = np.array(X_test)\n",
    "X_odds = list(zip(X_test_list[:, -2], X_test_list[:, -1], probs[:, 0], probs[:, 1], y_test))\n",
    "ev_prepped_df = pd.DataFrame(X_odds, columns=['t1_odds', 't2_odds', 't1_prob', 't2_prob', 'winner'])\n",
    "#display(ev_prepped_df)\n",
    "get_ev_from_df(ev_prepped_df, True)\n",
    "probs_5 = probs"
   ]
  },
  {
   "cell_type": "code",
   "execution_count": 32,
   "metadata": {},
   "outputs": [
    {
     "name": "stdout",
     "output_type": "stream",
     "text": [
      "[[0.57142857 0.42857143]\n",
      " [0.16666667 0.83333333]\n",
      " [0.75       0.25      ]\n",
      " [0.24137931 0.75862069]\n",
      " [1.         0.        ]\n",
      " [1.         0.        ]\n",
      " [0.33333333 0.66666667]\n",
      " [0.         1.        ]\n",
      " [1.         0.        ]\n",
      " [0.75       0.25      ]]\n"
     ]
    }
   ],
   "source": [
    "print(probs_3)"
   ]
  },
  {
   "cell_type": "code",
   "execution_count": 33,
   "metadata": {},
   "outputs": [
    {
     "name": "stdout",
     "output_type": "stream",
     "text": [
      "[[0.95543857 0.04456143]\n",
      " [0.03726252 0.96273748]\n",
      " [0.99947251 0.00052749]\n",
      " [0.88466574 0.11533426]\n",
      " [0.99985943 0.00014057]\n",
      " [0.9952812  0.0047188 ]\n",
      " [0.99822466 0.00177534]\n",
      " [0.07216555 0.92783445]\n",
      " [0.99893982 0.00106018]\n",
      " [0.99393876 0.00606124]]\n"
     ]
    }
   ],
   "source": [
    "print(probs_5)"
   ]
  },
  {
   "cell_type": "code",
   "execution_count": 34,
   "metadata": {},
   "outputs": [],
   "source": [
    "ensemble_probs=(probs_3 + probs_5) * .5"
   ]
  },
  {
   "cell_type": "code",
   "execution_count": 35,
   "metadata": {},
   "outputs": [
    {
     "name": "stdout",
     "output_type": "stream",
     "text": [
      "[[0.76343357 0.23656643]\n",
      " [0.10196459 0.89803541]\n",
      " [0.87473626 0.12526374]\n",
      " [0.56302253 0.43697747]\n",
      " [0.99992972 0.00007028]\n",
      " [0.9976406  0.0023594 ]\n",
      " [0.665779   0.334221  ]\n",
      " [0.03608278 0.96391722]\n",
      " [0.99946991 0.00053009]\n",
      " [0.87196938 0.12803062]]\n"
     ]
    }
   ],
   "source": [
    "print(ensemble_probs)"
   ]
  },
  {
   "cell_type": "code",
   "execution_count": 69,
   "metadata": {},
   "outputs": [],
   "source": [
    "def print_upcoming_predictions(df, probs):\n",
    "    count=0\n",
    "    bet_list = []\n",
    "    for index, row in df.iterrows():\n",
    "        t1 = row['team_one']\n",
    "        t2=row['team_two']\n",
    "        t1_prob = probs[count][0]\n",
    "        t2_prob = probs[count][1]\n",
    "        t1_bet_ev = get_bet_ev(row['t1_odds'], t1_prob)\n",
    "        t2_bet_ev = get_bet_ev(row['t2_odds'], t2_prob)\n",
    "        \n",
    "        if t1_bet_ev > 0:\n",
    "            bet_list.append(f\"{t1} at {row['t1_odds']} has EV of {t1_bet_ev}\")\n",
    "        if t2_bet_ev > 0:\n",
    "            bet_list.append(f\"{t2} at {row['t2_odds']} has EV of {t2_bet_ev}\")\n",
    "        \n",
    "        \n",
    "        print(f\"{t1} ({t1_prob:.2f}) vs {t2} ({t2_prob:.2f})\")\n",
    "        print(f\"{t1} has odds of {row['t1_odds']}\")\n",
    "        print(f\"{t1} has a bet EV of {t1_bet_ev:.2f}\")\n",
    "        print(f\"{t2} has odds of {row['t2_odds']}\")\n",
    "        print(f\"{t2} has a bet EV of {t2_bet_ev:.2f}\")\n",
    "        \n",
    "        print()\n",
    "        count=count+1\n",
    "    return(bet_list)"
   ]
  },
  {
   "cell_type": "code",
   "execution_count": 70,
   "metadata": {},
   "outputs": [
    {
     "name": "stdout",
     "output_type": "stream",
     "text": [
      "Seoul Dynasty (0.76) vs Hangzhou Spark (0.24)\n",
      "Seoul Dynasty has odds of -450\n",
      "Seoul Dynasty has a bet EV of -6.69\n",
      "Hangzhou Spark has odds of 360\n",
      "Hangzhou Spark has a bet EV of 8.82\n",
      "\n",
      "Guangzhou Charge (0.10) vs Shanghai Dragons (0.90)\n",
      "Guangzhou Charge has odds of 400\n",
      "Guangzhou Charge has a bet EV of -49.02\n",
      "Shanghai Dragons has odds of -500\n",
      "Shanghai Dragons has a bet EV of 7.76\n",
      "\n",
      "New York Excelsior (0.87) vs Chengdu Hunters (0.13)\n",
      "New York Excelsior has odds of -330\n",
      "New York Excelsior has a bet EV of 13.98\n",
      "Chengdu Hunters has odds of 270\n",
      "Chengdu Hunters has a bet EV of -53.65\n",
      "\n",
      "Atlanta Reign (0.56) vs Philadelphia Fusion (0.44)\n",
      "Atlanta Reign has odds of 190\n",
      "Atlanta Reign has a bet EV of 63.28\n",
      "Philadelphia Fusion has odds of -230\n",
      "Philadelphia Fusion has a bet EV of -37.30\n",
      "\n",
      "San Francisco Shock (1.00) vs Los Angeles Valiant (0.00)\n",
      "San Francisco Shock has odds of -680\n",
      "San Francisco Shock has a bet EV of 14.70\n",
      "Los Angeles Valiant has odds of 490\n",
      "Los Angeles Valiant has a bet EV of -99.96\n",
      "\n",
      "Hangzhou Spark (1.00) vs Chengdu Hunters (0.00)\n",
      "Hangzhou Spark has odds of -190\n",
      "Hangzhou Spark has a bet EV of 52.27\n",
      "Chengdu Hunters has odds of 165\n",
      "Chengdu Hunters has a bet EV of -99.37\n",
      "\n",
      "Shanghai Dragons (0.67) vs Seoul Dynasty (0.33)\n",
      "Shanghai Dragons has odds of -130\n",
      "Shanghai Dragons has a bet EV of 17.79\n",
      "Seoul Dynasty has odds of 110\n",
      "Seoul Dynasty has a bet EV of -29.81\n",
      "\n",
      "Guangzhou Charge (0.04) vs New York Excelsior (0.96)\n",
      "Guangzhou Charge has odds of 300\n",
      "Guangzhou Charge has a bet EV of -85.57\n",
      "New York Excelsior has odds of -360\n",
      "New York Excelsior has a bet EV of 23.17\n",
      "\n",
      "Florida Mayhem (1.00) vs Boston Uprising (0.00)\n",
      "Florida Mayhem has odds of -210\n",
      "Florida Mayhem has a bet EV of 47.54\n",
      "Boston Uprising has odds of 175\n",
      "Boston Uprising has a bet EV of -99.85\n",
      "\n",
      "Houston Outlaws (0.87) vs Dallas Fuel (0.13)\n",
      "Houston Outlaws has odds of 120\n",
      "Houston Outlaws has a bet EV of 91.83\n",
      "Dallas Fuel has odds of -140\n",
      "Dallas Fuel has a bet EV of -78.05\n",
      "\n"
     ]
    }
   ],
   "source": [
    "bet_list = print_upcoming_predictions(df_upcoming, ensemble_probs)"
   ]
  },
  {
   "cell_type": "code",
   "execution_count": 72,
   "metadata": {},
   "outputs": [
    {
     "name": "stdout",
     "output_type": "stream",
     "text": [
      "Hangzhou Spark at 360 has EV of 8.820556353960356\n",
      "Shanghai Dragons at -500 has EV of 7.764249002655324\n",
      "New York Excelsior at -330 has EV of 13.98078487156368\n",
      "Atlanta Reign at 190 has EV of 63.276532663804986\n",
      "San Francisco Shock at -680 has EV of 14.697820485850066\n",
      "Hangzhou Spark at -190 has EV of 52.27145993427966\n",
      "Shanghai Dragons at -130 has EV of 17.791668537885855\n",
      "New York Excelsior at -360 has EV of 23.167200827490245\n",
      "Florida Mayhem at -210 has EV of 47.54079644130842\n",
      "Houston Outlaws at 120 has EV of 91.83326387124168\n"
     ]
    }
   ],
   "source": [
    "for b in bet_list:\n",
    "    print(b)"
   ]
  },
  {
   "cell_type": "code",
   "execution_count": null,
   "metadata": {},
   "outputs": [],
   "source": []
  }
 ],
 "metadata": {
  "kernelspec": {
   "display_name": "Python 3",
   "language": "python",
   "name": "python3"
  },
  "language_info": {
   "codemirror_mode": {
    "name": "ipython",
    "version": 3
   },
   "file_extension": ".py",
   "mimetype": "text/x-python",
   "name": "python",
   "nbconvert_exporter": "python",
   "pygments_lexer": "ipython3",
   "version": "3.7.6"
  }
 },
 "nbformat": 4,
 "nbformat_minor": 4
}
