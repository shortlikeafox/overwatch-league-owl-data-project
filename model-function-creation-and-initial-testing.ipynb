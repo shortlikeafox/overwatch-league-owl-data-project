{
 "cells": [
  {
   "cell_type": "code",
   "execution_count": 76,
   "metadata": {},
   "outputs": [],
   "source": [
    "import pandas as pd\n",
    "from sklearn.model_selection import train_test_split\n",
    "from sklearn.tree import DecisionTreeClassifier\n",
    "from sklearn import tree\n",
    "import graphviz\n",
    "from sklearn.metrics import plot_confusion_matrix\n",
    "from sklearn.metrics import confusion_matrix\n",
    "import matplotlib.pyplot as plt\n",
    "import numpy as np"
   ]
  },
  {
   "cell_type": "code",
   "execution_count": 2,
   "metadata": {},
   "outputs": [],
   "source": [
    "df = pd.read_csv(\"owl-with-odds.csv\")"
   ]
  },
  {
   "cell_type": "code",
   "execution_count": 3,
   "metadata": {},
   "outputs": [
    {
     "name": "stdout",
     "output_type": "stream",
     "text": [
      "651\n",
      "538\n",
      "536\n"
     ]
    }
   ],
   "source": [
    "#We need to do a tiny bit of cleaning.  Remove t1_odds and t2_odds NaN's and then convert to numeric.\n",
    "#It isn't a concern that we do this early, because without odds the row cannot be put through the evaluator,\n",
    "#so it is of no good to us.\n",
    "subset = ['t1_odds', 't2_odds']\n",
    "print(len(df))\n",
    "df.dropna(subset=subset ,inplace=True)\n",
    "print(len(df))\n",
    "\n",
    "df['t1_odds'] = pd.to_numeric(df['t1_odds'], errors='coerce')\n",
    "df['t2_odds'] = pd.to_numeric(df['t2_odds'], errors='coerce')\n",
    "df.dropna(subset=subset ,inplace=True)\n",
    "print(len(df))"
   ]
  },
  {
   "cell_type": "code",
   "execution_count": null,
   "metadata": {},
   "outputs": [],
   "source": []
  },
  {
   "cell_type": "code",
   "execution_count": 4,
   "metadata": {},
   "outputs": [],
   "source": [
    "#1. Split\n",
    "\n",
    "#2. Create a simple model\n",
    "\n",
    "#3. Create custom evaluator\n",
    "\n",
    "#4. Create custom cross-validation"
   ]
  },
  {
   "cell_type": "code",
   "execution_count": 5,
   "metadata": {},
   "outputs": [],
   "source": [
    "df_train = df[:-60]"
   ]
  },
  {
   "cell_type": "code",
   "execution_count": 6,
   "metadata": {},
   "outputs": [],
   "source": [
    "df_test = df[-60:]"
   ]
  },
  {
   "cell_type": "code",
   "execution_count": 7,
   "metadata": {},
   "outputs": [
    {
     "name": "stdout",
     "output_type": "stream",
     "text": [
      "60\n",
      "476\n"
     ]
    }
   ],
   "source": [
    "print(len(df_test))\n",
    "print(len(df_train))\n"
   ]
  },
  {
   "cell_type": "code",
   "execution_count": 8,
   "metadata": {},
   "outputs": [
    {
     "data": {
      "text/plain": [
       "Index(['Unnamed: 0', 'Unnamed: 0.1', 'id', 'team_one', 'team_two', 'stage',\n",
       "       'winner', 'date', 'corona_virus_isolation', 't1_wins_season',\n",
       "       't1_losses_season', 't2_wins_season', 't2_losses_season',\n",
       "       't1_matches_season', 't2_matches_season', 't1_win_percent_season',\n",
       "       't2_win_percent_season', 't1_wins_alltime', 't1_losses_alltime',\n",
       "       't2_wins_alltime', 't2_losses_alltime', 't1_matches_alltime',\n",
       "       't2_matches_alltime', 't1_win_percent_alltime',\n",
       "       't2_win_percent_alltime', 't1_wins_last_3', 't1_losses_last_3',\n",
       "       't2_wins_last_3', 't2_losses_last_3', 't1_win_percent_last_3',\n",
       "       't2_win_percent_last_3', 't1_wins_last_5', 't1_losses_last_5',\n",
       "       't2_wins_last_5', 't2_losses_last_5', 't1_win_percent_last_5',\n",
       "       't2_win_percent_last_5', 't1_wins_last_10', 't1_losses_last_10',\n",
       "       't2_wins_last_10', 't2_losses_last_10', 't1_win_percent_last_10',\n",
       "       't2_win_percent_last_10', 't1_wins_last_20', 't1_losses_last_20',\n",
       "       't2_wins_last_20', 't2_losses_last_20', 't1_win_percent_last_20',\n",
       "       't2_win_percent_last_20', 't1_place_last_season',\n",
       "       't2_place_last_season', 't1_wins_vs_t2', 't1_losses_vs_t2',\n",
       "       't1_matches_vs_t2', 't1_win_percent_vs_t2', 'winner_label', 't1_odds',\n",
       "       't2_odds'],\n",
       "      dtype='object')"
      ]
     },
     "execution_count": 8,
     "metadata": {},
     "output_type": "execute_result"
    }
   ],
   "source": [
    "df_test.columns"
   ]
  },
  {
   "cell_type": "code",
   "execution_count": 9,
   "metadata": {},
   "outputs": [],
   "source": [
    "#I want features to be inclusive to start....\n",
    "features = ['corona_virus_isolation', 't1_wins_season',\n",
    "       't1_losses_season', 't2_wins_season', 't2_losses_season',\n",
    "       't1_matches_season', 't2_matches_season', 't1_win_percent_season',\n",
    "       't2_win_percent_season', 't1_wins_alltime', 't1_losses_alltime',\n",
    "       't2_wins_alltime', 't2_losses_alltime', 't1_matches_alltime',\n",
    "       't2_matches_alltime', 't1_win_percent_alltime',\n",
    "       't2_win_percent_alltime', 't1_wins_last_3', 't1_losses_last_3',\n",
    "       't2_wins_last_3', 't2_losses_last_3', 't1_win_percent_last_3',\n",
    "       't2_win_percent_last_3', 't1_wins_last_5', 't1_losses_last_5',\n",
    "       't2_wins_last_5', 't2_losses_last_5', 't1_win_percent_last_5',\n",
    "       't2_win_percent_last_5', 't1_wins_last_10', 't1_losses_last_10',\n",
    "       't2_wins_last_10', 't2_losses_last_10', 't1_win_percent_last_10',\n",
    "       't2_win_percent_last_10', \n",
    "        't1_wins_vs_t2', 't1_losses_vs_t2',\n",
    "       't1_matches_vs_t2', 't1_odds', 't2_odds', 'winner_label']\n"
   ]
  },
  {
   "cell_type": "code",
   "execution_count": 10,
   "metadata": {},
   "outputs": [],
   "source": [
    "df_test_filtered = df_test[features]\n",
    "df_train_filtered = df_train[features]"
   ]
  },
  {
   "cell_type": "code",
   "execution_count": 11,
   "metadata": {},
   "outputs": [
    {
     "data": {
      "text/plain": [
       "corona_virus_isolation       bool\n",
       "t1_wins_season            float64\n",
       "t1_losses_season          float64\n",
       "t2_wins_season            float64\n",
       "t2_losses_season          float64\n",
       "t1_matches_season         float64\n",
       "t2_matches_season         float64\n",
       "t1_win_percent_season     float64\n",
       "t2_win_percent_season     float64\n",
       "t1_wins_alltime           float64\n",
       "t1_losses_alltime         float64\n",
       "t2_wins_alltime           float64\n",
       "t2_losses_alltime         float64\n",
       "t1_matches_alltime        float64\n",
       "t2_matches_alltime        float64\n",
       "t1_win_percent_alltime    float64\n",
       "t2_win_percent_alltime    float64\n",
       "t1_wins_last_3            float64\n",
       "t1_losses_last_3          float64\n",
       "t2_wins_last_3            float64\n",
       "t2_losses_last_3          float64\n",
       "t1_win_percent_last_3     float64\n",
       "t2_win_percent_last_3     float64\n",
       "t1_wins_last_5            float64\n",
       "t1_losses_last_5          float64\n",
       "t2_wins_last_5            float64\n",
       "t2_losses_last_5          float64\n",
       "t1_win_percent_last_5     float64\n",
       "t2_win_percent_last_5     float64\n",
       "t1_wins_last_10           float64\n",
       "t1_losses_last_10         float64\n",
       "t2_wins_last_10           float64\n",
       "t2_losses_last_10         float64\n",
       "t1_win_percent_last_10    float64\n",
       "t2_win_percent_last_10    float64\n",
       "t1_wins_vs_t2               int64\n",
       "t1_losses_vs_t2             int64\n",
       "t1_matches_vs_t2            int64\n",
       "t1_odds                   float64\n",
       "t2_odds                   float64\n",
       "winner_label                int64\n",
       "dtype: object"
      ]
     },
     "execution_count": 11,
     "metadata": {},
     "output_type": "execute_result"
    }
   ],
   "source": [
    "df_test_filtered.dtypes"
   ]
  },
  {
   "cell_type": "code",
   "execution_count": 12,
   "metadata": {},
   "outputs": [],
   "source": [
    "df_train_filtered.to_csv('test.csv')"
   ]
  },
  {
   "cell_type": "code",
   "execution_count": 13,
   "metadata": {},
   "outputs": [
    {
     "data": {
      "text/html": [
       "<div>\n",
       "<style scoped>\n",
       "    .dataframe tbody tr th:only-of-type {\n",
       "        vertical-align: middle;\n",
       "    }\n",
       "\n",
       "    .dataframe tbody tr th {\n",
       "        vertical-align: top;\n",
       "    }\n",
       "\n",
       "    .dataframe thead th {\n",
       "        text-align: right;\n",
       "    }\n",
       "</style>\n",
       "<table border=\"1\" class=\"dataframe\">\n",
       "  <thead>\n",
       "    <tr style=\"text-align: right;\">\n",
       "      <th></th>\n",
       "      <th>Missing Ratio</th>\n",
       "    </tr>\n",
       "  </thead>\n",
       "  <tbody>\n",
       "    <tr>\n",
       "      <th>t2_win_percent_last_10</th>\n",
       "      <td>16.386555</td>\n",
       "    </tr>\n",
       "    <tr>\n",
       "      <th>t2_losses_last_10</th>\n",
       "      <td>16.386555</td>\n",
       "    </tr>\n",
       "    <tr>\n",
       "      <th>t2_wins_last_10</th>\n",
       "      <td>16.386555</td>\n",
       "    </tr>\n",
       "    <tr>\n",
       "      <th>t1_losses_last_10</th>\n",
       "      <td>15.126050</td>\n",
       "    </tr>\n",
       "    <tr>\n",
       "      <th>t1_wins_last_10</th>\n",
       "      <td>15.126050</td>\n",
       "    </tr>\n",
       "    <tr>\n",
       "      <th>t1_win_percent_last_10</th>\n",
       "      <td>15.126050</td>\n",
       "    </tr>\n",
       "    <tr>\n",
       "      <th>t2_losses_last_5</th>\n",
       "      <td>8.823529</td>\n",
       "    </tr>\n",
       "    <tr>\n",
       "      <th>t2_wins_last_5</th>\n",
       "      <td>8.823529</td>\n",
       "    </tr>\n",
       "    <tr>\n",
       "      <th>t2_win_percent_last_5</th>\n",
       "      <td>8.823529</td>\n",
       "    </tr>\n",
       "    <tr>\n",
       "      <th>t1_win_percent_last_5</th>\n",
       "      <td>7.142857</td>\n",
       "    </tr>\n",
       "    <tr>\n",
       "      <th>t1_losses_last_5</th>\n",
       "      <td>7.142857</td>\n",
       "    </tr>\n",
       "    <tr>\n",
       "      <th>t1_wins_last_5</th>\n",
       "      <td>7.142857</td>\n",
       "    </tr>\n",
       "    <tr>\n",
       "      <th>t2_win_percent_last_3</th>\n",
       "      <td>5.042017</td>\n",
       "    </tr>\n",
       "    <tr>\n",
       "      <th>t2_losses_last_3</th>\n",
       "      <td>5.042017</td>\n",
       "    </tr>\n",
       "    <tr>\n",
       "      <th>t2_wins_last_3</th>\n",
       "      <td>5.042017</td>\n",
       "    </tr>\n",
       "    <tr>\n",
       "      <th>t1_win_percent_last_3</th>\n",
       "      <td>4.621849</td>\n",
       "    </tr>\n",
       "    <tr>\n",
       "      <th>t1_losses_last_3</th>\n",
       "      <td>4.621849</td>\n",
       "    </tr>\n",
       "    <tr>\n",
       "      <th>t1_wins_last_3</th>\n",
       "      <td>4.621849</td>\n",
       "    </tr>\n",
       "  </tbody>\n",
       "</table>\n",
       "</div>"
      ],
      "text/plain": [
       "                        Missing Ratio\n",
       "t2_win_percent_last_10      16.386555\n",
       "t2_losses_last_10           16.386555\n",
       "t2_wins_last_10             16.386555\n",
       "t1_losses_last_10           15.126050\n",
       "t1_wins_last_10             15.126050\n",
       "t1_win_percent_last_10      15.126050\n",
       "t2_losses_last_5             8.823529\n",
       "t2_wins_last_5               8.823529\n",
       "t2_win_percent_last_5        8.823529\n",
       "t1_win_percent_last_5        7.142857\n",
       "t1_losses_last_5             7.142857\n",
       "t1_wins_last_5               7.142857\n",
       "t2_win_percent_last_3        5.042017\n",
       "t2_losses_last_3             5.042017\n",
       "t2_wins_last_3               5.042017\n",
       "t1_win_percent_last_3        4.621849\n",
       "t1_losses_last_3             4.621849\n",
       "t1_wins_last_3               4.621849"
      ]
     },
     "execution_count": 13,
     "metadata": {},
     "output_type": "execute_result"
    }
   ],
   "source": [
    "missing=(df_train_filtered.isnull().sum() / len(df_train_filtered)) *100\n",
    "missing=missing.drop(missing[missing==0].index).sort_values(ascending=False)\n",
    "missing=pd.DataFrame({'Missing Ratio' :missing})\n",
    "missing.head(40)"
   ]
  },
  {
   "cell_type": "code",
   "execution_count": 14,
   "metadata": {},
   "outputs": [
    {
     "name": "stderr",
     "output_type": "stream",
     "text": [
      "D:\\Anaconda3\\lib\\site-packages\\ipykernel_launcher.py:1: SettingWithCopyWarning: \n",
      "A value is trying to be set on a copy of a slice from a DataFrame\n",
      "\n",
      "See the caveats in the documentation: https://pandas.pydata.org/pandas-docs/stable/user_guide/indexing.html#returning-a-view-versus-a-copy\n",
      "  \"\"\"Entry point for launching an IPython kernel.\n"
     ]
    }
   ],
   "source": [
    "df_test_filtered.dropna(inplace=True)"
   ]
  },
  {
   "cell_type": "code",
   "execution_count": 15,
   "metadata": {},
   "outputs": [
    {
     "data": {
      "text/plain": [
       "(60, 41)"
      ]
     },
     "execution_count": 15,
     "metadata": {},
     "output_type": "execute_result"
    }
   ],
   "source": [
    "df_test_filtered.shape"
   ]
  },
  {
   "cell_type": "code",
   "execution_count": 16,
   "metadata": {},
   "outputs": [
    {
     "name": "stderr",
     "output_type": "stream",
     "text": [
      "D:\\Anaconda3\\lib\\site-packages\\ipykernel_launcher.py:1: SettingWithCopyWarning: \n",
      "A value is trying to be set on a copy of a slice from a DataFrame\n",
      "\n",
      "See the caveats in the documentation: https://pandas.pydata.org/pandas-docs/stable/user_guide/indexing.html#returning-a-view-versus-a-copy\n",
      "  \"\"\"Entry point for launching an IPython kernel.\n"
     ]
    },
    {
     "data": {
      "text/plain": [
       "(379, 41)"
      ]
     },
     "execution_count": 16,
     "metadata": {},
     "output_type": "execute_result"
    }
   ],
   "source": [
    "df_train_filtered.dropna(inplace=True)\n",
    "df_train_filtered.shape"
   ]
  },
  {
   "cell_type": "code",
   "execution_count": 17,
   "metadata": {},
   "outputs": [],
   "source": [
    "X = df_train_filtered.copy()"
   ]
  },
  {
   "cell_type": "code",
   "execution_count": 18,
   "metadata": {},
   "outputs": [],
   "source": [
    "X_validation = df_test_filtered.copy()"
   ]
  },
  {
   "cell_type": "code",
   "execution_count": 19,
   "metadata": {},
   "outputs": [],
   "source": [
    "y = X['winner_label']"
   ]
  },
  {
   "cell_type": "code",
   "execution_count": 20,
   "metadata": {},
   "outputs": [],
   "source": [
    "y_validation = X_validation['winner_label']"
   ]
  },
  {
   "cell_type": "code",
   "execution_count": 21,
   "metadata": {},
   "outputs": [],
   "source": [
    "X = X.drop('winner_label', axis=1)\n",
    "X_validation = X_validation.drop('winner_label', axis=1)"
   ]
  },
  {
   "cell_type": "code",
   "execution_count": 100,
   "metadata": {},
   "outputs": [],
   "source": [
    "X_train, X_test, y_train, y_test = train_test_split(X, y, test_size=0.25)"
   ]
  },
  {
   "cell_type": "code",
   "execution_count": 101,
   "metadata": {},
   "outputs": [
    {
     "name": "stdout",
     "output_type": "stream",
     "text": [
      "(284, 40)\n",
      "(95, 40)\n",
      "(284,)\n",
      "(95,)\n"
     ]
    }
   ],
   "source": [
    "print(X_train.shape)\n",
    "print(X_test.shape)\n",
    "print(y_train.shape)\n",
    "print(y_test.shape)"
   ]
  },
  {
   "cell_type": "code",
   "execution_count": 102,
   "metadata": {},
   "outputs": [],
   "source": [
    "model = tree.DecisionTreeClassifier(max_depth=4, min_samples_leaf=5)"
   ]
  },
  {
   "cell_type": "code",
   "execution_count": 103,
   "metadata": {},
   "outputs": [],
   "source": [
    "model.fit(X_train, y_train)\n",
    "probs = model.predict_proba(X_test)\n",
    "preds = model.predict(X_test)\n"
   ]
  },
  {
   "cell_type": "code",
   "execution_count": 109,
   "metadata": {},
   "outputs": [
    {
     "name": "stdout",
     "output_type": "stream",
     "text": [
      "(95, 1)\n",
      "(95, 4)\n"
     ]
    }
   ],
   "source": [
    "#Let's add the predictions to the dataframe....\n",
    "#We need to add the winner too\n",
    "\n",
    "X_odds = X_test[['t1_odds', 't2_odds']]\n",
    "df_with_probs = np.append(X_odds, probs, 1)\n",
    "\n",
    "y_test_reshaped = y_test.values.reshape(len(y_test),1)\n",
    "\n",
    "df_with_winner = np.append(df_with_probs, y_test_reshaped, 1)\n",
    "print(y_test_reshaped.shape)\n",
    "print(df_with_probs.shape)"
   ]
  },
  {
   "cell_type": "code",
   "execution_count": 118,
   "metadata": {},
   "outputs": [
    {
     "data": {
      "text/html": [
       "<div>\n",
       "<style scoped>\n",
       "    .dataframe tbody tr th:only-of-type {\n",
       "        vertical-align: middle;\n",
       "    }\n",
       "\n",
       "    .dataframe tbody tr th {\n",
       "        vertical-align: top;\n",
       "    }\n",
       "\n",
       "    .dataframe thead th {\n",
       "        text-align: right;\n",
       "    }\n",
       "</style>\n",
       "<table border=\"1\" class=\"dataframe\">\n",
       "  <thead>\n",
       "    <tr style=\"text-align: right;\">\n",
       "      <th></th>\n",
       "      <th>t1_odds</th>\n",
       "      <th>t2_odds</th>\n",
       "      <th>t1_prob</th>\n",
       "      <th>t2_prob</th>\n",
       "      <th>winner</th>\n",
       "    </tr>\n",
       "  </thead>\n",
       "  <tbody>\n",
       "    <tr>\n",
       "      <th>0</th>\n",
       "      <td>459.0</td>\n",
       "      <td>-833.0</td>\n",
       "      <td>0.285714</td>\n",
       "      <td>0.714286</td>\n",
       "      <td>1.0</td>\n",
       "    </tr>\n",
       "    <tr>\n",
       "      <th>1</th>\n",
       "      <td>-110.0</td>\n",
       "      <td>-110.0</td>\n",
       "      <td>0.500000</td>\n",
       "      <td>0.500000</td>\n",
       "      <td>0.0</td>\n",
       "    </tr>\n",
       "    <tr>\n",
       "      <th>2</th>\n",
       "      <td>-385.0</td>\n",
       "      <td>299.0</td>\n",
       "      <td>0.416667</td>\n",
       "      <td>0.583333</td>\n",
       "      <td>1.0</td>\n",
       "    </tr>\n",
       "    <tr>\n",
       "      <th>3</th>\n",
       "      <td>-137.0</td>\n",
       "      <td>112.0</td>\n",
       "      <td>0.416667</td>\n",
       "      <td>0.583333</td>\n",
       "      <td>0.0</td>\n",
       "    </tr>\n",
       "    <tr>\n",
       "      <th>4</th>\n",
       "      <td>-139.0</td>\n",
       "      <td>106.0</td>\n",
       "      <td>0.779412</td>\n",
       "      <td>0.220588</td>\n",
       "      <td>1.0</td>\n",
       "    </tr>\n",
       "    <tr>\n",
       "      <th>...</th>\n",
       "      <td>...</td>\n",
       "      <td>...</td>\n",
       "      <td>...</td>\n",
       "      <td>...</td>\n",
       "      <td>...</td>\n",
       "    </tr>\n",
       "    <tr>\n",
       "      <th>90</th>\n",
       "      <td>135.0</td>\n",
       "      <td>-179.0</td>\n",
       "      <td>0.176471</td>\n",
       "      <td>0.823529</td>\n",
       "      <td>1.0</td>\n",
       "    </tr>\n",
       "    <tr>\n",
       "      <th>91</th>\n",
       "      <td>-323.0</td>\n",
       "      <td>252.0</td>\n",
       "      <td>0.779412</td>\n",
       "      <td>0.220588</td>\n",
       "      <td>0.0</td>\n",
       "    </tr>\n",
       "    <tr>\n",
       "      <th>92</th>\n",
       "      <td>-227.0</td>\n",
       "      <td>170.0</td>\n",
       "      <td>0.779412</td>\n",
       "      <td>0.220588</td>\n",
       "      <td>0.0</td>\n",
       "    </tr>\n",
       "    <tr>\n",
       "      <th>93</th>\n",
       "      <td>-141.0</td>\n",
       "      <td>106.0</td>\n",
       "      <td>0.833333</td>\n",
       "      <td>0.166667</td>\n",
       "      <td>1.0</td>\n",
       "    </tr>\n",
       "    <tr>\n",
       "      <th>94</th>\n",
       "      <td>1169.0</td>\n",
       "      <td>-3333.0</td>\n",
       "      <td>0.051282</td>\n",
       "      <td>0.948718</td>\n",
       "      <td>1.0</td>\n",
       "    </tr>\n",
       "  </tbody>\n",
       "</table>\n",
       "<p>95 rows × 5 columns</p>\n",
       "</div>"
      ],
      "text/plain": [
       "    t1_odds  t2_odds   t1_prob   t2_prob  winner\n",
       "0     459.0   -833.0  0.285714  0.714286     1.0\n",
       "1    -110.0   -110.0  0.500000  0.500000     0.0\n",
       "2    -385.0    299.0  0.416667  0.583333     1.0\n",
       "3    -137.0    112.0  0.416667  0.583333     0.0\n",
       "4    -139.0    106.0  0.779412  0.220588     1.0\n",
       "..      ...      ...       ...       ...     ...\n",
       "90    135.0   -179.0  0.176471  0.823529     1.0\n",
       "91   -323.0    252.0  0.779412  0.220588     0.0\n",
       "92   -227.0    170.0  0.779412  0.220588     0.0\n",
       "93   -141.0    106.0  0.833333  0.166667     1.0\n",
       "94   1169.0  -3333.0  0.051282  0.948718     1.0\n",
       "\n",
       "[95 rows x 5 columns]"
      ]
     },
     "metadata": {},
     "output_type": "display_data"
    }
   ],
   "source": [
    "temp_df = pd.DataFrame(df_with_winner, columns=['t1_odds', 't2_odds', 't1_prob', 't2_prob', 'winner'])\n",
    "display(temp_df)\n",
    "temp_df.to_csv('ev_test.csv')"
   ]
  },
  {
   "cell_type": "code",
   "execution_count": null,
   "metadata": {},
   "outputs": [],
   "source": []
  },
  {
   "cell_type": "code",
   "execution_count": null,
   "metadata": {},
   "outputs": [],
   "source": []
  },
  {
   "cell_type": "code",
   "execution_count": 71,
   "metadata": {},
   "outputs": [
    {
     "data": {
      "text/plain": [
       "array([0, 0, 0, 0, 0, 0, 1, 1, 1, 1, 0, 1, 0, 1, 1, 0, 1, 0, 0, 1, 1, 0,\n",
       "       0, 1, 1, 0, 0, 0, 1, 1, 1, 1, 1, 1, 0, 1, 1, 1, 0, 0, 0, 1, 1, 0,\n",
       "       1, 1, 1, 0, 0, 0, 0, 0, 0, 1, 0, 0, 0, 1, 0, 0, 1, 0, 1, 0, 0, 0,\n",
       "       1, 0, 0, 0, 1, 0, 0, 0, 0, 0, 1, 0, 0, 1, 0, 1, 1, 1, 1, 1, 1, 0,\n",
       "       1, 0, 0, 0, 0, 0, 1], dtype=int64)"
      ]
     },
     "execution_count": 71,
     "metadata": {},
     "output_type": "execute_result"
    }
   ],
   "source": [
    "preds"
   ]
  },
  {
   "cell_type": "code",
   "execution_count": 72,
   "metadata": {},
   "outputs": [
    {
     "data": {
      "text/plain": [
       "'image1.pdf'"
      ]
     },
     "execution_count": 72,
     "metadata": {},
     "output_type": "execute_result"
    }
   ],
   "source": [
    "columns=list(X.columns)\n",
    "dot_data = tree.export_graphviz(model,out_file=None,feature_names=columns,class_names=True)\n",
    "graph = graphviz.Source(dot_data)\n",
    "graph.render(\"image1\",view=True)"
   ]
  },
  {
   "cell_type": "code",
   "execution_count": 75,
   "metadata": {},
   "outputs": [
    {
     "name": "stdout",
     "output_type": "stream",
     "text": [
      "Confusion matrix\n",
      "[[31 15]\n",
      " [22 27]]\n"
     ]
    },
    {
     "data": {
      "image/png": "[encoded data removed]",
      "text/plain": [
       "<Figure size 432x288 with 2 Axes>"
      ]
     },
     "metadata": {
      "needs_background": "light"
     },
     "output_type": "display_data"
    },
    {
     "name": "stdout",
     "output_type": "stream",
     "text": [
      "tp for total: 31\n",
      "tn: 27\n",
      "fp: 22\n",
      "fn: 15\n",
      "The precision is: 0.5849056603773585\n",
      "The accuracy is 0.6105263157894737\n",
      "The prevalence of blue is 0.4842105263157895\n",
      "The true_positive rate for total is 0.6739130434782609\n"
     ]
    }
   ],
   "source": [
    "%matplotlib inline\n",
    "\n",
    "class_names = ['Team 1', 'Team 2']\n",
    "\n",
    "titles_options= [(f\"Total Confusion matrix\", None),\n",
    "                 (\"Normalized confusion matrix\", 'true')]\n",
    "\n",
    "title = f\"Confusion matrix\"\n",
    "normalize=None\n",
    "\n",
    "\n",
    "disp = plot_confusion_matrix(model, X_test, y_test,\n",
    "                             display_labels=class_names,\n",
    "                             cmap=plt.cm.Blues,\n",
    "                             normalize=normalize,\n",
    "                             values_format='.5g'\n",
    "                             )\n",
    "disp.ax_.set_title(title)\n",
    "plt.rcParams.update({'font.size': 16})\n",
    "print(title)\n",
    "print(disp.confusion_matrix)\n",
    "plt.grid(False)\n",
    "plt.show()    \n",
    "\n",
    "cm = confusion_matrix(preds, y_test)\n",
    "tp = cm[0][0] \n",
    "tn = cm[1][1]\n",
    "fp = cm[0][1]\n",
    "fn = cm[1][0]\n",
    "total = tp + tn + fp + fn\n",
    "print(f\"tp for total: {tp}\")\n",
    "print(f\"tn: {tn}\")\n",
    "print(f\"fp: {fp}\")\n",
    "print(f\"fn: {fn}\")\n",
    "accuracy = (tp + tn) / total\n",
    "precision = tp / (tp + fp)\n",
    "\n",
    "true_positive = tp / (tp + fn)\n",
    "print(f\"The precision is: {precision}\")\n",
    "print(f\"The accuracy is {accuracy}\")\n",
    "print(f\"The prevalence of blue is {(tp + fn) / total}\")\n",
    "print(f\"The true_positive rate for total is {true_positive}\")"
   ]
  },
  {
   "cell_type": "code",
   "execution_count": null,
   "metadata": {},
   "outputs": [],
   "source": [
    "def get"
   ]
  }
 ],
 "metadata": {
  "kernelspec": {
   "display_name": "Python 3",
   "language": "python",
   "name": "python3"
  },
  "language_info": {
   "codemirror_mode": {
    "name": "ipython",
    "version": 3
   },
   "file_extension": ".py",
   "mimetype": "text/x-python",
   "name": "python",
   "nbconvert_exporter": "python",
   "pygments_lexer": "ipython3",
   "version": "3.7.6"
  }
 },
 "nbformat": 4,
 "nbformat_minor": 4
}
