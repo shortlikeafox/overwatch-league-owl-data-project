{
 "cells": [
  {
   "cell_type": "code",
   "execution_count": 144,
   "metadata": {},
   "outputs": [],
   "source": [
    "import pandas as pd\n",
    "from sklearn.tree import DecisionTreeClassifier\n",
    "from sklearn import tree\n",
    "from sklearn.model_selection import KFold\n",
    "import numpy as np\n",
    "from sklearn.preprocessing import StandardScaler\n",
    "from sklearn.linear_model import LogisticRegression\n",
    "from sklearn import svm\n",
    "from sklearn.ensemble import RandomForestClassifier\n",
    "from sklearn.neural_network import MLPClassifier\n",
    "from sklearn.ensemble import GradientBoostingClassifier\n",
    "np.set_printoptions(suppress=True)  #Suppress Scientific Notation"
   ]
  },
  {
   "cell_type": "code",
   "execution_count": 84,
   "metadata": {},
   "outputs": [
    {
     "data": {
      "text/html": [
       "<div>\n",
       "<style scoped>\n",
       "    .dataframe tbody tr th:only-of-type {\n",
       "        vertical-align: middle;\n",
       "    }\n",
       "\n",
       "    .dataframe tbody tr th {\n",
       "        vertical-align: top;\n",
       "    }\n",
       "\n",
       "    .dataframe thead th {\n",
       "        text-align: right;\n",
       "    }\n",
       "</style>\n",
       "<table border=\"1\" class=\"dataframe\">\n",
       "  <thead>\n",
       "    <tr style=\"text-align: right;\">\n",
       "      <th></th>\n",
       "      <th>Unnamed: 0</th>\n",
       "      <th>t1_odds</th>\n",
       "      <th>t2_odds</th>\n",
       "      <th>t1_prob</th>\n",
       "      <th>t2_prob</th>\n",
       "      <th>winner</th>\n",
       "    </tr>\n",
       "  </thead>\n",
       "  <tbody>\n",
       "    <tr>\n",
       "      <th>0</th>\n",
       "      <td>0</td>\n",
       "      <td>459.0</td>\n",
       "      <td>-833.0</td>\n",
       "      <td>0.285714</td>\n",
       "      <td>0.714286</td>\n",
       "      <td>1.0</td>\n",
       "    </tr>\n",
       "    <tr>\n",
       "      <th>1</th>\n",
       "      <td>1</td>\n",
       "      <td>-110.0</td>\n",
       "      <td>-110.0</td>\n",
       "      <td>0.500000</td>\n",
       "      <td>0.500000</td>\n",
       "      <td>0.0</td>\n",
       "    </tr>\n",
       "    <tr>\n",
       "      <th>2</th>\n",
       "      <td>2</td>\n",
       "      <td>-385.0</td>\n",
       "      <td>299.0</td>\n",
       "      <td>0.416667</td>\n",
       "      <td>0.583333</td>\n",
       "      <td>1.0</td>\n",
       "    </tr>\n",
       "    <tr>\n",
       "      <th>3</th>\n",
       "      <td>3</td>\n",
       "      <td>-137.0</td>\n",
       "      <td>112.0</td>\n",
       "      <td>0.416667</td>\n",
       "      <td>0.583333</td>\n",
       "      <td>0.0</td>\n",
       "    </tr>\n",
       "    <tr>\n",
       "      <th>4</th>\n",
       "      <td>4</td>\n",
       "      <td>-139.0</td>\n",
       "      <td>106.0</td>\n",
       "      <td>0.779412</td>\n",
       "      <td>0.220588</td>\n",
       "      <td>1.0</td>\n",
       "    </tr>\n",
       "    <tr>\n",
       "      <th>...</th>\n",
       "      <td>...</td>\n",
       "      <td>...</td>\n",
       "      <td>...</td>\n",
       "      <td>...</td>\n",
       "      <td>...</td>\n",
       "      <td>...</td>\n",
       "    </tr>\n",
       "    <tr>\n",
       "      <th>90</th>\n",
       "      <td>90</td>\n",
       "      <td>135.0</td>\n",
       "      <td>-179.0</td>\n",
       "      <td>0.176471</td>\n",
       "      <td>0.823529</td>\n",
       "      <td>1.0</td>\n",
       "    </tr>\n",
       "    <tr>\n",
       "      <th>91</th>\n",
       "      <td>91</td>\n",
       "      <td>-323.0</td>\n",
       "      <td>252.0</td>\n",
       "      <td>0.779412</td>\n",
       "      <td>0.220588</td>\n",
       "      <td>0.0</td>\n",
       "    </tr>\n",
       "    <tr>\n",
       "      <th>92</th>\n",
       "      <td>92</td>\n",
       "      <td>-227.0</td>\n",
       "      <td>170.0</td>\n",
       "      <td>0.779412</td>\n",
       "      <td>0.220588</td>\n",
       "      <td>0.0</td>\n",
       "    </tr>\n",
       "    <tr>\n",
       "      <th>93</th>\n",
       "      <td>93</td>\n",
       "      <td>-141.0</td>\n",
       "      <td>106.0</td>\n",
       "      <td>0.833333</td>\n",
       "      <td>0.166667</td>\n",
       "      <td>1.0</td>\n",
       "    </tr>\n",
       "    <tr>\n",
       "      <th>94</th>\n",
       "      <td>94</td>\n",
       "      <td>1169.0</td>\n",
       "      <td>-3333.0</td>\n",
       "      <td>0.051282</td>\n",
       "      <td>0.948718</td>\n",
       "      <td>1.0</td>\n",
       "    </tr>\n",
       "  </tbody>\n",
       "</table>\n",
       "<p>95 rows × 6 columns</p>\n",
       "</div>"
      ],
      "text/plain": [
       "    Unnamed: 0  t1_odds  t2_odds   t1_prob   t2_prob  winner\n",
       "0            0    459.0   -833.0  0.285714  0.714286     1.0\n",
       "1            1   -110.0   -110.0  0.500000  0.500000     0.0\n",
       "2            2   -385.0    299.0  0.416667  0.583333     1.0\n",
       "3            3   -137.0    112.0  0.416667  0.583333     0.0\n",
       "4            4   -139.0    106.0  0.779412  0.220588     1.0\n",
       "..         ...      ...      ...       ...       ...     ...\n",
       "90          90    135.0   -179.0  0.176471  0.823529     1.0\n",
       "91          91   -323.0    252.0  0.779412  0.220588     0.0\n",
       "92          92   -227.0    170.0  0.779412  0.220588     0.0\n",
       "93          93   -141.0    106.0  0.833333  0.166667     1.0\n",
       "94          94   1169.0  -3333.0  0.051282  0.948718     1.0\n",
       "\n",
       "[95 rows x 6 columns]"
      ]
     },
     "metadata": {},
     "output_type": "display_data"
    },
    {
     "name": "stdout",
     "output_type": "stream",
     "text": [
      "\n",
      "          Number of matches: 95\n",
      "          Number of bets: 81\n",
      "          Number of winning bets: 44\n",
      "          Number of losing bets: 37\n",
      "          Number of underdog bets: 26\n",
      "          Number of underdog wins: 8\n",
      "          Number of underdog losses: 18\n",
      "          Number of Favorite bets: 55\n",
      "          Number of favorite wins: 36\n",
      "          Number of favorite losses: 19\n",
      "          Number of even bets: 0\n",
      "          Number of even wins: 0\n",
      "          Number of even losses: 0\n",
      "          Profit: -438.9048172864855\n",
      "          Profit per bet: -5.418577991191179\n",
      "          Profit per match: -4.620050708278795\n",
      "          \n",
      "          \n"
     ]
    }
   ],
   "source": [
    "%run get-ev-scratch-paper.ipynb"
   ]
  },
  {
   "cell_type": "code",
   "execution_count": 85,
   "metadata": {},
   "outputs": [],
   "source": [
    "df=pd.read_csv(\"owl-with-odds.csv\")"
   ]
  },
  {
   "cell_type": "code",
   "execution_count": 86,
   "metadata": {},
   "outputs": [
    {
     "name": "stdout",
     "output_type": "stream",
     "text": [
      "651\n",
      "538\n",
      "536\n"
     ]
    }
   ],
   "source": [
    "subset = ['t1_odds', 't2_odds']\n",
    "print(len(df))\n",
    "df.dropna(subset=subset ,inplace=True)\n",
    "print(len(df))\n",
    "\n",
    "df['t1_odds'] = pd.to_numeric(df['t1_odds'], errors='coerce')\n",
    "df['t2_odds'] = pd.to_numeric(df['t2_odds'], errors='coerce')\n",
    "df.dropna(subset=subset ,inplace=True)\n",
    "print(len(df))"
   ]
  },
  {
   "cell_type": "code",
   "execution_count": 87,
   "metadata": {},
   "outputs": [
    {
     "name": "stdout",
     "output_type": "stream",
     "text": [
      "60\n",
      "476\n"
     ]
    }
   ],
   "source": [
    "#Split the validation set\n",
    "df_train = df[:-60]\n",
    "\n",
    "df_test = df[-60:]\n",
    "print(len(df_test))\n",
    "print(len(df_train))"
   ]
  },
  {
   "cell_type": "code",
   "execution_count": 88,
   "metadata": {},
   "outputs": [],
   "source": [
    "#inclusive features\n",
    "features = ['corona_virus_isolation', 't1_wins_season',\n",
    "       't1_losses_season', 't2_wins_season', 't2_losses_season',\n",
    "       't1_matches_season', 't2_matches_season', 't1_win_percent_season',\n",
    "       't2_win_percent_season', 't1_wins_alltime', 't1_losses_alltime',\n",
    "       't2_wins_alltime', 't2_losses_alltime', 't1_matches_alltime',\n",
    "       't2_matches_alltime', 't1_win_percent_alltime',\n",
    "       't2_win_percent_alltime', 't1_wins_last_3', 't1_losses_last_3',\n",
    "       't2_wins_last_3', 't2_losses_last_3', 't1_win_percent_last_3',\n",
    "       't2_win_percent_last_3', 't1_wins_last_5', 't1_losses_last_5',\n",
    "       't2_wins_last_5', 't2_losses_last_5', 't1_win_percent_last_5',\n",
    "       't2_win_percent_last_5', 't1_wins_last_10', 't1_losses_last_10',\n",
    "       't2_wins_last_10', 't2_losses_last_10', 't1_win_percent_last_10',\n",
    "       't2_win_percent_last_10', \n",
    "        't1_wins_vs_t2', 't1_losses_vs_t2',\n",
    "       't1_matches_vs_t2', 't1_odds', 't2_odds', 'winner_label']"
   ]
  },
  {
   "cell_type": "code",
   "execution_count": 89,
   "metadata": {},
   "outputs": [],
   "source": [
    "df_test_filtered = df_test[features].copy()\n",
    "df_train_filtered = df_train[features].copy()"
   ]
  },
  {
   "cell_type": "code",
   "execution_count": 90,
   "metadata": {},
   "outputs": [
    {
     "name": "stdout",
     "output_type": "stream",
     "text": [
      "(60, 41)\n",
      "(379, 41)\n"
     ]
    }
   ],
   "source": [
    "df_test_filtered.dropna(inplace=True)\n",
    "df_train_filtered.dropna(inplace=True)\n",
    "\n",
    "print(df_test_filtered.shape)\n",
    "print(df_train_filtered.shape)"
   ]
  },
  {
   "cell_type": "markdown",
   "metadata": {},
   "source": [
    "### CANDIDATE 1\n"
   ]
  },
  {
   "cell_type": "code",
   "execution_count": 91,
   "metadata": {},
   "outputs": [],
   "source": [
    "\n",
    "model_1 = tree.DecisionTreeClassifier(max_depth=10, min_samples_leaf=3, random_state=75)\n",
    "features_1 = ['t1_wins_last_3', 't2_matches_alltime', 'winner_label', 't1_odds', 't2_odds']\n",
    "#FINAL BEST SCORE: 74.52979394547228"
   ]
  },
  {
   "cell_type": "code",
   "execution_count": null,
   "metadata": {},
   "outputs": [],
   "source": [
    "model_2 = RandomForestClassifier(random_state=75)\n",
    "features_2 = ['t2_wins_last_5', 't1_win_percent_season', 't1_losses_season', 't2_losses_last_5', 't1_wins_vs_t2',\n",
    "            'winner_label', 't1_odds', 't2_odds']"
   ]
  },
  {
   "cell_type": "code",
   "execution_count": null,
   "metadata": {},
   "outputs": [],
   "source": []
  },
  {
   "cell_type": "code",
   "execution_count": null,
   "metadata": {},
   "outputs": [],
   "source": []
  },
  {
   "cell_type": "code",
   "execution_count": null,
   "metadata": {},
   "outputs": [],
   "source": []
  },
  {
   "cell_type": "code",
   "execution_count": null,
   "metadata": {},
   "outputs": [],
   "source": []
  },
  {
   "cell_type": "code",
   "execution_count": 118,
   "metadata": {},
   "outputs": [],
   "source": [
    "X=df_train_filtered[features_1].copy()\n",
    "X_test=df_test_filtered[features_1].copy()\n",
    "y = X['winner_label']\n",
    "y_test=X_test['winner_label']"
   ]
  },
  {
   "cell_type": "code",
   "execution_count": 119,
   "metadata": {},
   "outputs": [],
   "source": [
    "X = X.drop('winner_label', axis=1)\n",
    "X_test = X_test.drop('winner_label', axis=1)"
   ]
  },
  {
   "cell_type": "code",
   "execution_count": 120,
   "metadata": {},
   "outputs": [
    {
     "data": {
      "text/plain": [
       "DecisionTreeClassifier(ccp_alpha=0.0, class_weight=None, criterion='gini',\n",
       "                       max_depth=10, max_features=None, max_leaf_nodes=None,\n",
       "                       min_impurity_decrease=0.0, min_impurity_split=None,\n",
       "                       min_samples_leaf=3, min_samples_split=2,\n",
       "                       min_weight_fraction_leaf=0.0, presort='deprecated',\n",
       "                       random_state=75, splitter='best')"
      ]
     },
     "execution_count": 120,
     "metadata": {},
     "output_type": "execute_result"
    }
   ],
   "source": [
    "model_1.fit(X, y)"
   ]
  },
  {
   "cell_type": "code",
   "execution_count": 121,
   "metadata": {},
   "outputs": [],
   "source": [
    "probs=model_1.predict_proba(X_test)"
   ]
  },
  {
   "cell_type": "code",
   "execution_count": 122,
   "metadata": {},
   "outputs": [
    {
     "name": "stdout",
     "output_type": "stream",
     "text": [
      "\n",
      "          Number of matches: 60\n",
      "          Number of bets: 56\n",
      "          Number of winning bets: 29\n",
      "          Number of losing bets: 27\n",
      "          Number of underdog bets: 25\n",
      "          Number of underdog wins: 9\n",
      "          Number of underdog losses: 16\n",
      "          Number of Favorite bets: 31\n",
      "          Number of favorite wins: 20\n",
      "          Number of favorite losses: 11\n",
      "          Number of even bets: 0\n",
      "          Number of even wins: 0\n",
      "          Number of even losses: 0\n",
      "          Profit: -634.6256471651691\n",
      "          Profit per bet: -11.332600842235163\n",
      "          Profit per match: -10.577094119419485\n",
      "          \n",
      "          \n"
     ]
    },
    {
     "data": {
      "text/plain": [
       "0"
      ]
     },
     "execution_count": 122,
     "metadata": {},
     "output_type": "execute_result"
    }
   ],
   "source": [
    "\n",
    "X_test_list = np.array(X_test)\n",
    "\n",
    "X_odds = list(zip(X_test_list[:, -2], X_test_list[:, -1], probs[:, 0], probs[:, 1], y_test))\n",
    "\n",
    "\n",
    "\n",
    "ev_prepped_df = pd.DataFrame(X_odds, columns=['t1_odds', 't2_odds', 't1_prob', 't2_prob', 'winner'])\n",
    "\n",
    "#display(ev_prepped_df)\n",
    "\n",
    "\n",
    "get_ev_from_df(ev_prepped_df, True)"
   ]
  },
  {
   "cell_type": "code",
   "execution_count": 123,
   "metadata": {},
   "outputs": [],
   "source": [
    "model_2 = RandomForestClassifier(random_state=75)\n",
    "features_2 = ['t2_wins_last_5', 't1_win_percent_season', 't1_losses_season', 't2_losses_last_5', 't1_wins_vs_t2',\n",
    "            'winner_label', 't1_odds', 't2_odds']"
   ]
  },
  {
   "cell_type": "code",
   "execution_count": 124,
   "metadata": {},
   "outputs": [
    {
     "name": "stdout",
     "output_type": "stream",
     "text": [
      "\n",
      "          Number of matches: 60\n",
      "          Number of bets: 53\n",
      "          Number of winning bets: 18\n",
      "          Number of losing bets: 35\n",
      "          Number of underdog bets: 33\n",
      "          Number of underdog wins: 7\n",
      "          Number of underdog losses: 26\n",
      "          Number of Favorite bets: 20\n",
      "          Number of favorite wins: 11\n",
      "          Number of favorite losses: 9\n",
      "          Number of even bets: 0\n",
      "          Number of even wins: 0\n",
      "          Number of even losses: 0\n",
      "          Profit: -1455.9719218957919\n",
      "          Profit per bet: -27.47116833765645\n",
      "          Profit per match: -24.2661986982632\n",
      "          \n",
      "          \n"
     ]
    },
    {
     "data": {
      "text/plain": [
       "0"
      ]
     },
     "execution_count": 124,
     "metadata": {},
     "output_type": "execute_result"
    }
   ],
   "source": [
    "X=df_train_filtered[features_2].copy()\n",
    "X_test=df_test_filtered[features_2].copy()\n",
    "y = X['winner_label']\n",
    "y_test=X_test['winner_label']\n",
    "X = X.drop('winner_label', axis=1)\n",
    "X_test = X_test.drop('winner_label', axis=1)\n",
    "model_2.fit(X, y)\n",
    "probs=model_2.predict_proba(X_test)\n",
    "X_test_list = np.array(X_test)\n",
    "X_odds = list(zip(X_test_list[:, -2], X_test_list[:, -1], probs[:, 0], probs[:, 1], y_test))\n",
    "ev_prepped_df = pd.DataFrame(X_odds, columns=['t1_odds', 't2_odds', 't1_prob', 't2_prob', 'winner'])\n",
    "#display(ev_prepped_df)\n",
    "get_ev_from_df(ev_prepped_df, True)"
   ]
  },
  {
   "cell_type": "code",
   "execution_count": 125,
   "metadata": {},
   "outputs": [],
   "source": [
    "#Model 3\n",
    "model_3 = DecisionTreeClassifier(ccp_alpha=0.0, class_weight=None, criterion='entropy',\n",
    "                       max_depth=12, max_features=None, max_leaf_nodes=None,\n",
    "                       min_impurity_decrease=0.0, min_impurity_split=None,\n",
    "                       min_samples_leaf=4, min_samples_split=2,\n",
    "                       min_weight_fraction_leaf=0.0, presort='deprecated',\n",
    "                       random_state=75, splitter='best')\n",
    "\n",
    "features_3 = ['t1_wins_last_3', 't2_matches_alltime', 'winner_label', 't1_odds', 't2_odds']"
   ]
  },
  {
   "cell_type": "code",
   "execution_count": 136,
   "metadata": {},
   "outputs": [
    {
     "name": "stdout",
     "output_type": "stream",
     "text": [
      "\n",
      "          Number of matches: 60\n",
      "          Number of bets: 57\n",
      "          Number of winning bets: 34\n",
      "          Number of losing bets: 23\n",
      "          Number of underdog bets: 26\n",
      "          Number of underdog wins: 11\n",
      "          Number of underdog losses: 15\n",
      "          Number of Favorite bets: 31\n",
      "          Number of favorite wins: 23\n",
      "          Number of favorite losses: 8\n",
      "          Number of even bets: 0\n",
      "          Number of even wins: 0\n",
      "          Number of even losses: 0\n",
      "          Profit: 559.41199353654\n",
      "          Profit per bet: 9.814245500641052\n",
      "          Profit per match: 9.323533225609\n",
      "          \n",
      "          \n"
     ]
    }
   ],
   "source": [
    "X=df_train_filtered[features_3].copy()\n",
    "X_test=df_test_filtered[features_3].copy()\n",
    "y = X['winner_label']\n",
    "y_test=X_test['winner_label']\n",
    "X = X.drop('winner_label', axis=1)\n",
    "X_test = X_test.drop('winner_label', axis=1)\n",
    "model_3.fit(X, y)\n",
    "probs=model_3.predict_proba(X_test)\n",
    "X_test_list = np.array(X_test)\n",
    "X_odds = list(zip(X_test_list[:, -2], X_test_list[:, -1], probs[:, 0], probs[:, 1], y_test))\n",
    "ev_prepped_df = pd.DataFrame(X_odds, columns=['t1_odds', 't2_odds', 't1_prob', 't2_prob', 'winner'])\n",
    "#display(ev_prepped_df)\n",
    "get_ev_from_df(ev_prepped_df, True)\n",
    "probs_3 = probs"
   ]
  },
  {
   "cell_type": "code",
   "execution_count": 128,
   "metadata": {},
   "outputs": [],
   "source": [
    "#Model 4\n",
    "model_4 = RandomForestClassifier(bootstrap=True, ccp_alpha=0.0, class_weight=None,\n",
    "                       criterion='gini', max_depth=6, max_features='auto',\n",
    "                       max_leaf_nodes=None, max_samples=None,\n",
    "                       min_impurity_decrease=0.0, min_impurity_split=None,\n",
    "                       min_samples_leaf=1, min_samples_split=2,\n",
    "                       min_weight_fraction_leaf=0.0, n_estimators=50,\n",
    "                       n_jobs=None, oob_score=False, random_state=75, verbose=0,\n",
    "                       warm_start=False)\n",
    "\n",
    "features_4=['t2_wins_last_5', 't1_win_percent_season', 't1_losses_season', 't2_losses_last_5', 't1_wins_vs_t2', 'winner_label', 't1_odds', 't2_odds']"
   ]
  },
  {
   "cell_type": "code",
   "execution_count": 129,
   "metadata": {},
   "outputs": [
    {
     "name": "stdout",
     "output_type": "stream",
     "text": [
      "\n",
      "          Number of matches: 60\n",
      "          Number of bets: 50\n",
      "          Number of winning bets: 17\n",
      "          Number of losing bets: 33\n",
      "          Number of underdog bets: 32\n",
      "          Number of underdog wins: 7\n",
      "          Number of underdog losses: 25\n",
      "          Number of Favorite bets: 18\n",
      "          Number of favorite wins: 10\n",
      "          Number of favorite losses: 8\n",
      "          Number of even bets: 0\n",
      "          Number of even wins: 0\n",
      "          Number of even losses: 0\n",
      "          Profit: -1457.8400890870064\n",
      "          Profit per bet: -29.15680178174013\n",
      "          Profit per match: -24.297334818116774\n",
      "          \n",
      "          \n"
     ]
    },
    {
     "data": {
      "text/plain": [
       "0"
      ]
     },
     "execution_count": 129,
     "metadata": {},
     "output_type": "execute_result"
    }
   ],
   "source": [
    "X=df_train_filtered[features_4].copy()\n",
    "X_test=df_test_filtered[features_4].copy()\n",
    "y = X['winner_label']\n",
    "y_test=X_test['winner_label']\n",
    "X = X.drop('winner_label', axis=1)\n",
    "X_test = X_test.drop('winner_label', axis=1)\n",
    "model_4.fit(X, y)\n",
    "probs=model_4.predict_proba(X_test)\n",
    "X_test_list = np.array(X_test)\n",
    "X_odds = list(zip(X_test_list[:, -2], X_test_list[:, -1], probs[:, 0], probs[:, 1], y_test))\n",
    "ev_prepped_df = pd.DataFrame(X_odds, columns=['t1_odds', 't2_odds', 't1_prob', 't2_prob', 'winner'])\n",
    "#display(ev_prepped_df)\n",
    "get_ev_from_df(ev_prepped_df, True)"
   ]
  },
  {
   "cell_type": "code",
   "execution_count": 133,
   "metadata": {},
   "outputs": [],
   "source": [
    "#model_5 \n",
    "\n",
    "model_5 = GradientBoostingClassifier(ccp_alpha=0.0, criterion='friedman_mse', init=None,\n",
    "                           learning_rate=0.2, loss='deviance', max_depth=16,\n",
    "                           max_features=None, max_leaf_nodes=None,\n",
    "                           min_impurity_decrease=0.0, min_impurity_split=None,\n",
    "                           min_samples_leaf=6, min_samples_split=2,\n",
    "                           min_weight_fraction_leaf=0.0, n_estimators=200,\n",
    "                           n_iter_no_change=None, presort='deprecated',\n",
    "                           random_state=75, subsample=1.0, tol=0.0001,\n",
    "                           validation_fraction=0.1, verbose=0,\n",
    "                           warm_start=False)\n",
    "\n",
    "features_5 = ['corona_virus_isolation', 't1_wins_season', 't1_losses_season', 't2_wins_season', 't2_losses_season', 't1_matches_season', 't2_matches_season', 't1_win_percent_season', 't2_win_percent_season', 't1_wins_alltime', 't1_losses_alltime', 't2_wins_alltime', 't2_losses_alltime', 't1_matches_alltime', 't2_matches_alltime', 't1_win_percent_alltime', 't2_win_percent_alltime', 't1_wins_last_3', 't1_losses_last_3', 't2_wins_last_3', 't2_losses_last_3', 't1_win_percent_last_3', 't2_win_percent_last_3', 't1_wins_last_5', 't1_losses_last_5', 't2_wins_last_5', 't2_losses_last_5', 't1_win_percent_last_5', 't2_win_percent_last_5', 't1_wins_last_10', 't1_losses_last_10', 't2_wins_last_10', 't2_losses_last_10', 't1_win_percent_last_10', 't2_win_percent_last_10', 't1_wins_vs_t2', 't1_losses_vs_t2', 't1_matches_vs_t2', 'winner_label', 't1_odds', 't2_odds']"
   ]
  },
  {
   "cell_type": "code",
   "execution_count": 137,
   "metadata": {},
   "outputs": [
    {
     "name": "stdout",
     "output_type": "stream",
     "text": [
      "\n",
      "          Number of matches: 60\n",
      "          Number of bets: 54\n",
      "          Number of winning bets: 34\n",
      "          Number of losing bets: 20\n",
      "          Number of underdog bets: 17\n",
      "          Number of underdog wins: 8\n",
      "          Number of underdog losses: 9\n",
      "          Number of Favorite bets: 37\n",
      "          Number of favorite wins: 26\n",
      "          Number of favorite losses: 11\n",
      "          Number of even bets: 0\n",
      "          Number of even wins: 0\n",
      "          Number of even losses: 0\n",
      "          Profit: 168.08688556683018\n",
      "          Profit per bet: 3.1127201030894476\n",
      "          Profit per match: 2.801448092780503\n",
      "          \n",
      "          \n"
     ]
    }
   ],
   "source": [
    "X=df_train_filtered[features_5].copy()\n",
    "X_test=df_test_filtered[features_5].copy()\n",
    "y = X['winner_label']\n",
    "y_test=X_test['winner_label']\n",
    "X = X.drop('winner_label', axis=1)\n",
    "X_test = X_test.drop('winner_label', axis=1)\n",
    "model_5.fit(X, y)\n",
    "probs=model_5.predict_proba(X_test)\n",
    "X_test_list = np.array(X_test)\n",
    "X_odds = list(zip(X_test_list[:, -2], X_test_list[:, -1], probs[:, 0], probs[:, 1], y_test))\n",
    "ev_prepped_df = pd.DataFrame(X_odds, columns=['t1_odds', 't2_odds', 't1_prob', 't2_prob', 'winner'])\n",
    "#display(ev_prepped_df)\n",
    "get_ev_from_df(ev_prepped_df, True)\n",
    "probs_5 = probs"
   ]
  },
  {
   "cell_type": "code",
   "execution_count": 138,
   "metadata": {},
   "outputs": [
    {
     "name": "stdout",
     "output_type": "stream",
     "text": [
      "[[0.83333333 0.16666667]\n",
      " [0.         1.        ]\n",
      " [0.16666667 0.83333333]\n",
      " [0.75       0.25      ]\n",
      " [0.         1.        ]\n",
      " [0.         1.        ]\n",
      " [0.         1.        ]\n",
      " [0.28571429 0.71428571]\n",
      " [0.25       0.75      ]\n",
      " [0.83333333 0.16666667]\n",
      " [0.75       0.25      ]\n",
      " [0.83333333 0.16666667]\n",
      " [0.28571429 0.71428571]\n",
      " [1.         0.        ]\n",
      " [0.16666667 0.83333333]\n",
      " [1.         0.        ]\n",
      " [0.75       0.25      ]\n",
      " [1.         0.        ]\n",
      " [0.5        0.5       ]\n",
      " [0.         1.        ]\n",
      " [0.28571429 0.71428571]\n",
      " [0.25       0.75      ]\n",
      " [0.28571429 0.71428571]\n",
      " [0.5        0.5       ]\n",
      " [0.         1.        ]\n",
      " [0.16666667 0.83333333]\n",
      " [1.         0.        ]\n",
      " [0.66666667 0.33333333]\n",
      " [0.4        0.6       ]\n",
      " [0.4        0.6       ]\n",
      " [0.         1.        ]\n",
      " [0.83333333 0.16666667]\n",
      " [0.         1.        ]\n",
      " [0.5        0.5       ]\n",
      " [0.5        0.5       ]\n",
      " [0.83333333 0.16666667]\n",
      " [0.         1.        ]\n",
      " [0.         1.        ]\n",
      " [1.         0.        ]\n",
      " [0.         1.        ]\n",
      " [0.16666667 0.83333333]\n",
      " [0.83333333 0.16666667]\n",
      " [0.         1.        ]\n",
      " [1.         0.        ]\n",
      " [0.83333333 0.16666667]\n",
      " [0.83333333 0.16666667]\n",
      " [0.75       0.25      ]\n",
      " [0.4        0.6       ]\n",
      " [0.         1.        ]\n",
      " [0.83333333 0.16666667]\n",
      " [0.83333333 0.16666667]\n",
      " [0.5        0.5       ]\n",
      " [0.83333333 0.16666667]\n",
      " [0.5        0.5       ]\n",
      " [0.         1.        ]\n",
      " [0.         1.        ]\n",
      " [0.4        0.6       ]\n",
      " [0.5        0.5       ]\n",
      " [0.75       0.25      ]\n",
      " [0.16666667 0.83333333]]\n",
      "[[9.96769612e-01 3.23038841e-03]\n",
      " [4.03209395e-03 9.95967906e-01]\n",
      " [4.22960166e-03 9.95770398e-01]\n",
      " [9.81100271e-01 1.88997292e-02]\n",
      " [4.72023094e-02 9.52797691e-01]\n",
      " [9.79492994e-02 9.02050701e-01]\n",
      " [6.79454828e-01 3.20545172e-01]\n",
      " [7.78109823e-01 2.21890177e-01]\n",
      " [4.34560561e-03 9.95654394e-01]\n",
      " [8.99549125e-01 1.00450875e-01]\n",
      " [1.07076075e-01 8.92923925e-01]\n",
      " [9.83084447e-01 1.69155528e-02]\n",
      " [3.08122132e-01 6.91877868e-01]\n",
      " [9.87442578e-01 1.25574222e-02]\n",
      " [2.57024647e-01 7.42975353e-01]\n",
      " [9.99444236e-01 5.55764369e-04]\n",
      " [1.07200114e-02 9.89279989e-01]\n",
      " [9.77209471e-01 2.27905286e-02]\n",
      " [9.04195553e-03 9.90958044e-01]\n",
      " [5.95391628e-03 9.94046084e-01]\n",
      " [5.31213759e-01 4.68786241e-01]\n",
      " [9.58680699e-01 4.13193010e-02]\n",
      " [9.90541380e-02 9.00945862e-01]\n",
      " [9.87303973e-01 1.26960272e-02]\n",
      " [3.52864464e-04 9.99647136e-01]\n",
      " [8.30922163e-01 1.69077837e-01]\n",
      " [9.90414176e-01 9.58582351e-03]\n",
      " [8.19728118e-03 9.91802719e-01]\n",
      " [5.49239411e-01 4.50760589e-01]\n",
      " [7.48294845e-01 2.51705155e-01]\n",
      " [6.91574695e-04 9.99308425e-01]\n",
      " [9.11249832e-01 8.87501680e-02]\n",
      " [1.00075675e-04 9.99899924e-01]\n",
      " [9.86479366e-01 1.35206341e-02]\n",
      " [1.57112180e-03 9.98428878e-01]\n",
      " [6.42777660e-01 3.57222340e-01]\n",
      " [6.45385486e-01 3.54614514e-01]\n",
      " [4.89741102e-03 9.95102589e-01]\n",
      " [9.48278188e-01 5.17218118e-02]\n",
      " [3.78078682e-03 9.96219213e-01]\n",
      " [1.32282624e-01 8.67717376e-01]\n",
      " [1.13443480e-01 8.86556520e-01]\n",
      " [2.89268463e-01 7.10731537e-01]\n",
      " [9.69433108e-01 3.05668918e-02]\n",
      " [9.98942667e-01 1.05733324e-03]\n",
      " [6.97279795e-01 3.02720205e-01]\n",
      " [8.60511892e-01 1.39488108e-01]\n",
      " [9.85333063e-01 1.46669370e-02]\n",
      " [2.94077539e-04 9.99705922e-01]\n",
      " [9.93645080e-01 6.35492032e-03]\n",
      " [5.93907407e-01 4.06092593e-01]\n",
      " [9.93540028e-01 6.45997238e-03]\n",
      " [1.69484592e-01 8.30515408e-01]\n",
      " [2.82815851e-04 9.99717184e-01]\n",
      " [1.20503713e-04 9.99879496e-01]\n",
      " [3.14025814e-01 6.85974186e-01]\n",
      " [4.48383640e-01 5.51616360e-01]\n",
      " [9.85566930e-01 1.44330701e-02]\n",
      " [4.94832319e-01 5.05167681e-01]\n",
      " [8.36230398e-01 1.63769602e-01]]\n"
     ]
    }
   ],
   "source": [
    "##We have 2 models returning a profit.  Let's see how an ensemble works....\n",
    "print(probs_3)\n",
    "print(probs_5)"
   ]
  },
  {
   "cell_type": "code",
   "execution_count": 145,
   "metadata": {},
   "outputs": [
    {
     "name": "stdout",
     "output_type": "stream",
     "text": [
      "[[0.99676961 0.00323039]\n",
      " [0.00403209 0.99596791]\n",
      " [0.0042296  0.9957704 ]\n",
      " [0.98110027 0.01889973]\n",
      " [0.04720231 0.95279769]\n",
      " [0.0979493  0.9020507 ]\n",
      " [0.67945483 0.32054517]\n",
      " [0.77810982 0.22189018]\n",
      " [0.00434561 0.99565439]\n",
      " [0.89954912 0.10045088]\n",
      " [0.10707607 0.89292393]\n",
      " [0.98308445 0.01691555]\n",
      " [0.30812213 0.69187787]\n",
      " [0.98744258 0.01255742]\n",
      " [0.25702465 0.74297535]\n",
      " [0.99944424 0.00055576]\n",
      " [0.01072001 0.98927999]\n",
      " [0.97720947 0.02279053]\n",
      " [0.00904196 0.99095804]\n",
      " [0.00595392 0.99404608]\n",
      " [0.53121376 0.46878624]\n",
      " [0.9586807  0.0413193 ]\n",
      " [0.09905414 0.90094586]\n",
      " [0.98730397 0.01269603]\n",
      " [0.00035286 0.99964714]\n",
      " [0.83092216 0.16907784]\n",
      " [0.99041418 0.00958582]\n",
      " [0.00819728 0.99180272]\n",
      " [0.54923941 0.45076059]\n",
      " [0.74829485 0.25170515]\n",
      " [0.00069157 0.99930843]\n",
      " [0.91124983 0.08875017]\n",
      " [0.00010008 0.99989992]\n",
      " [0.98647937 0.01352063]\n",
      " [0.00157112 0.99842888]\n",
      " [0.64277766 0.35722234]\n",
      " [0.64538549 0.35461451]\n",
      " [0.00489741 0.99510259]\n",
      " [0.94827819 0.05172181]\n",
      " [0.00378079 0.99621921]\n",
      " [0.13228262 0.86771738]\n",
      " [0.11344348 0.88655652]\n",
      " [0.28926846 0.71073154]\n",
      " [0.96943311 0.03056689]\n",
      " [0.99894267 0.00105733]\n",
      " [0.69727979 0.30272021]\n",
      " [0.86051189 0.13948811]\n",
      " [0.98533306 0.01466694]\n",
      " [0.00029408 0.99970592]\n",
      " [0.99364508 0.00635492]\n",
      " [0.59390741 0.40609259]\n",
      " [0.99354003 0.00645997]\n",
      " [0.16948459 0.83051541]\n",
      " [0.00028282 0.99971718]\n",
      " [0.0001205  0.9998795 ]\n",
      " [0.31402581 0.68597419]\n",
      " [0.44838364 0.55161636]\n",
      " [0.98556693 0.01443307]\n",
      " [0.49483232 0.50516768]\n",
      " [0.8362304  0.1637696 ]]\n"
     ]
    }
   ],
   "source": [
    "print(probs_5)"
   ]
  },
  {
   "cell_type": "code",
   "execution_count": 140,
   "metadata": {},
   "outputs": [],
   "source": [
    "ensemble_probs=(probs_3 + probs_5) * .5"
   ]
  },
  {
   "cell_type": "code",
   "execution_count": 141,
   "metadata": {},
   "outputs": [
    {
     "data": {
      "text/plain": [
       "array([[9.15051472e-01, 8.49485275e-02],\n",
       "       [2.01604697e-03, 9.97983953e-01],\n",
       "       [8.54481342e-02, 9.14551866e-01],\n",
       "       [8.65550135e-01, 1.34449865e-01],\n",
       "       [2.36011547e-02, 9.76398845e-01],\n",
       "       [4.89746497e-02, 9.51025350e-01],\n",
       "       [3.39727414e-01, 6.60272586e-01],\n",
       "       [5.31912054e-01, 4.68087946e-01],\n",
       "       [1.27172803e-01, 8.72827197e-01],\n",
       "       [8.66441229e-01, 1.33558771e-01],\n",
       "       [4.28538037e-01, 5.71461963e-01],\n",
       "       [9.08208890e-01, 9.17911097e-02],\n",
       "       [2.96918209e-01, 7.03081791e-01],\n",
       "       [9.93721289e-01, 6.27871111e-03],\n",
       "       [2.11845657e-01, 7.88154343e-01],\n",
       "       [9.99722118e-01, 2.77882185e-04],\n",
       "       [3.80360006e-01, 6.19639994e-01],\n",
       "       [9.88604736e-01, 1.13952643e-02],\n",
       "       [2.54520978e-01, 7.45479022e-01],\n",
       "       [2.97695814e-03, 9.97023042e-01],\n",
       "       [4.08464022e-01, 5.91535978e-01],\n",
       "       [6.04340350e-01, 3.95659650e-01],\n",
       "       [1.92384212e-01, 8.07615788e-01],\n",
       "       [7.43651986e-01, 2.56348014e-01],\n",
       "       [1.76432232e-04, 9.99823568e-01],\n",
       "       [4.98794415e-01, 5.01205585e-01],\n",
       "       [9.95207088e-01, 4.79291175e-03],\n",
       "       [3.37431974e-01, 6.62568026e-01],\n",
       "       [4.74619705e-01, 5.25380295e-01],\n",
       "       [5.74147423e-01, 4.25852577e-01],\n",
       "       [3.45787348e-04, 9.99654213e-01],\n",
       "       [8.72291583e-01, 1.27708417e-01],\n",
       "       [5.00378375e-05, 9.99949962e-01],\n",
       "       [7.43239683e-01, 2.56760317e-01],\n",
       "       [2.50785561e-01, 7.49214439e-01],\n",
       "       [7.38055497e-01, 2.61944503e-01],\n",
       "       [3.22692743e-01, 6.77307257e-01],\n",
       "       [2.44870551e-03, 9.97551294e-01],\n",
       "       [9.74139094e-01, 2.58609059e-02],\n",
       "       [1.89039341e-03, 9.98109607e-01],\n",
       "       [1.49474645e-01, 8.50525355e-01],\n",
       "       [4.73388407e-01, 5.26611593e-01],\n",
       "       [1.44634232e-01, 8.55365768e-01],\n",
       "       [9.84716554e-01, 1.52834459e-02],\n",
       "       [9.16138000e-01, 8.38620000e-02],\n",
       "       [7.65306564e-01, 2.34693436e-01],\n",
       "       [8.05255946e-01, 1.94744054e-01],\n",
       "       [6.92666532e-01, 3.07333468e-01],\n",
       "       [1.47038769e-04, 9.99852961e-01],\n",
       "       [9.13489207e-01, 8.65107935e-02],\n",
       "       [7.13620370e-01, 2.86379630e-01],\n",
       "       [7.46770014e-01, 2.53229986e-01],\n",
       "       [5.01408963e-01, 4.98591037e-01],\n",
       "       [2.50141408e-01, 7.49858592e-01],\n",
       "       [6.02518567e-05, 9.99939748e-01],\n",
       "       [1.57012907e-01, 8.42987093e-01],\n",
       "       [4.24191820e-01, 5.75808180e-01],\n",
       "       [7.42783465e-01, 2.57216535e-01],\n",
       "       [6.22416159e-01, 3.77583841e-01],\n",
       "       [5.01448532e-01, 4.98551468e-01]])"
      ]
     },
     "execution_count": 141,
     "metadata": {},
     "output_type": "execute_result"
    }
   ],
   "source": [
    "ensemble_probs"
   ]
  },
  {
   "cell_type": "code",
   "execution_count": 143,
   "metadata": {},
   "outputs": [
    {
     "name": "stdout",
     "output_type": "stream",
     "text": [
      "\n",
      "          Number of matches: 60\n",
      "          Number of bets: 58\n",
      "          Number of winning bets: 34\n",
      "          Number of losing bets: 24\n",
      "          Number of underdog bets: 31\n",
      "          Number of underdog wins: 13\n",
      "          Number of underdog losses: 18\n",
      "          Number of Favorite bets: 27\n",
      "          Number of favorite wins: 21\n",
      "          Number of favorite losses: 6\n",
      "          Number of even bets: 0\n",
      "          Number of even wins: 0\n",
      "          Number of even losses: 0\n",
      "          Profit: 676.3539866949042\n",
      "          Profit per bet: 11.661275632670762\n",
      "          Profit per match: 11.27256644491507\n",
      "          \n",
      "          \n"
     ]
    },
    {
     "data": {
      "text/plain": [
       "0"
      ]
     },
     "execution_count": 143,
     "metadata": {},
     "output_type": "execute_result"
    }
   ],
   "source": [
    "#Ensemble results....\n",
    "\n",
    "X_test_list = np.array(X_test)\n",
    "X_odds = list(zip(X_test_list[:, -2], X_test_list[:, -1], ensemble_probs[:, 0], ensemble_probs[:, 1], y_test))\n",
    "ev_prepped_df = pd.DataFrame(X_odds, columns=['t1_odds', 't2_odds', 't1_prob', 't2_prob', 'winner'])\n",
    "#display(ev_prepped_df)\n",
    "get_ev_from_df(ev_prepped_df, True)"
   ]
  },
  {
   "cell_type": "code",
   "execution_count": null,
   "metadata": {},
   "outputs": [],
   "source": []
  }
 ],
 "metadata": {
  "kernelspec": {
   "display_name": "Python 3",
   "language": "python",
   "name": "python3"
  },
  "language_info": {
   "codemirror_mode": {
    "name": "ipython",
    "version": 3
   },
   "file_extension": ".py",
   "mimetype": "text/x-python",
   "name": "python",
   "nbconvert_exporter": "python",
   "pygments_lexer": "ipython3",
   "version": "3.7.6"
  }
 },
 "nbformat": 4,
 "nbformat_minor": 4
}
