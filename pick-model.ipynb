{
 "cells": [
  {
   "cell_type": "code",
   "execution_count": 1,
   "metadata": {},
   "outputs": [],
   "source": [
    "import pandas as pd\n",
    "from sklearn.tree import DecisionTreeClassifier\n",
    "from sklearn import tree\n",
    "from sklearn.model_selection import KFold\n",
    "import numpy as np\n",
    "from sklearn.preprocessing import StandardScaler\n",
    "from sklearn.linear_model import LogisticRegression\n",
    "from sklearn import svm\n",
    "from sklearn.ensemble import RandomForestClassifier\n",
    "from sklearn.neural_network import MLPClassifier\n",
    "from sklearn.ensemble import GradientBoostingClassifier\n",
    "np.set_printoptions(suppress=True)  #Suppress Scientific Notation"
   ]
  },
  {
   "cell_type": "code",
   "execution_count": 2,
   "metadata": {},
   "outputs": [
    {
     "data": {
      "text/html": [
       "<div>\n",
       "<style scoped>\n",
       "    .dataframe tbody tr th:only-of-type {\n",
       "        vertical-align: middle;\n",
       "    }\n",
       "\n",
       "    .dataframe tbody tr th {\n",
       "        vertical-align: top;\n",
       "    }\n",
       "\n",
       "    .dataframe thead th {\n",
       "        text-align: right;\n",
       "    }\n",
       "</style>\n",
       "<table border=\"1\" class=\"dataframe\">\n",
       "  <thead>\n",
       "    <tr style=\"text-align: right;\">\n",
       "      <th></th>\n",
       "      <th>Unnamed: 0</th>\n",
       "      <th>t1_odds</th>\n",
       "      <th>t2_odds</th>\n",
       "      <th>t1_prob</th>\n",
       "      <th>t2_prob</th>\n",
       "      <th>winner</th>\n",
       "    </tr>\n",
       "  </thead>\n",
       "  <tbody>\n",
       "    <tr>\n",
       "      <th>0</th>\n",
       "      <td>0</td>\n",
       "      <td>459.0</td>\n",
       "      <td>-833.0</td>\n",
       "      <td>0.285714</td>\n",
       "      <td>0.714286</td>\n",
       "      <td>1.0</td>\n",
       "    </tr>\n",
       "    <tr>\n",
       "      <th>1</th>\n",
       "      <td>1</td>\n",
       "      <td>-110.0</td>\n",
       "      <td>-110.0</td>\n",
       "      <td>0.500000</td>\n",
       "      <td>0.500000</td>\n",
       "      <td>0.0</td>\n",
       "    </tr>\n",
       "    <tr>\n",
       "      <th>2</th>\n",
       "      <td>2</td>\n",
       "      <td>-385.0</td>\n",
       "      <td>299.0</td>\n",
       "      <td>0.416667</td>\n",
       "      <td>0.583333</td>\n",
       "      <td>1.0</td>\n",
       "    </tr>\n",
       "    <tr>\n",
       "      <th>3</th>\n",
       "      <td>3</td>\n",
       "      <td>-137.0</td>\n",
       "      <td>112.0</td>\n",
       "      <td>0.416667</td>\n",
       "      <td>0.583333</td>\n",
       "      <td>0.0</td>\n",
       "    </tr>\n",
       "    <tr>\n",
       "      <th>4</th>\n",
       "      <td>4</td>\n",
       "      <td>-139.0</td>\n",
       "      <td>106.0</td>\n",
       "      <td>0.779412</td>\n",
       "      <td>0.220588</td>\n",
       "      <td>1.0</td>\n",
       "    </tr>\n",
       "    <tr>\n",
       "      <th>...</th>\n",
       "      <td>...</td>\n",
       "      <td>...</td>\n",
       "      <td>...</td>\n",
       "      <td>...</td>\n",
       "      <td>...</td>\n",
       "      <td>...</td>\n",
       "    </tr>\n",
       "    <tr>\n",
       "      <th>90</th>\n",
       "      <td>90</td>\n",
       "      <td>135.0</td>\n",
       "      <td>-179.0</td>\n",
       "      <td>0.176471</td>\n",
       "      <td>0.823529</td>\n",
       "      <td>1.0</td>\n",
       "    </tr>\n",
       "    <tr>\n",
       "      <th>91</th>\n",
       "      <td>91</td>\n",
       "      <td>-323.0</td>\n",
       "      <td>252.0</td>\n",
       "      <td>0.779412</td>\n",
       "      <td>0.220588</td>\n",
       "      <td>0.0</td>\n",
       "    </tr>\n",
       "    <tr>\n",
       "      <th>92</th>\n",
       "      <td>92</td>\n",
       "      <td>-227.0</td>\n",
       "      <td>170.0</td>\n",
       "      <td>0.779412</td>\n",
       "      <td>0.220588</td>\n",
       "      <td>0.0</td>\n",
       "    </tr>\n",
       "    <tr>\n",
       "      <th>93</th>\n",
       "      <td>93</td>\n",
       "      <td>-141.0</td>\n",
       "      <td>106.0</td>\n",
       "      <td>0.833333</td>\n",
       "      <td>0.166667</td>\n",
       "      <td>1.0</td>\n",
       "    </tr>\n",
       "    <tr>\n",
       "      <th>94</th>\n",
       "      <td>94</td>\n",
       "      <td>1169.0</td>\n",
       "      <td>-3333.0</td>\n",
       "      <td>0.051282</td>\n",
       "      <td>0.948718</td>\n",
       "      <td>1.0</td>\n",
       "    </tr>\n",
       "  </tbody>\n",
       "</table>\n",
       "<p>95 rows × 6 columns</p>\n",
       "</div>"
      ],
      "text/plain": [
       "    Unnamed: 0  t1_odds  t2_odds   t1_prob   t2_prob  winner\n",
       "0            0    459.0   -833.0  0.285714  0.714286     1.0\n",
       "1            1   -110.0   -110.0  0.500000  0.500000     0.0\n",
       "2            2   -385.0    299.0  0.416667  0.583333     1.0\n",
       "3            3   -137.0    112.0  0.416667  0.583333     0.0\n",
       "4            4   -139.0    106.0  0.779412  0.220588     1.0\n",
       "..         ...      ...      ...       ...       ...     ...\n",
       "90          90    135.0   -179.0  0.176471  0.823529     1.0\n",
       "91          91   -323.0    252.0  0.779412  0.220588     0.0\n",
       "92          92   -227.0    170.0  0.779412  0.220588     0.0\n",
       "93          93   -141.0    106.0  0.833333  0.166667     1.0\n",
       "94          94   1169.0  -3333.0  0.051282  0.948718     1.0\n",
       "\n",
       "[95 rows x 6 columns]"
      ]
     },
     "metadata": {},
     "output_type": "display_data"
    },
    {
     "name": "stdout",
     "output_type": "stream",
     "text": [
      "\n",
      "          Number of matches: 95\n",
      "          Number of bets: 81\n",
      "          Number of winning bets: 44\n",
      "          Number of losing bets: 37\n",
      "          Number of underdog bets: 26\n",
      "          Number of underdog wins: 8\n",
      "          Number of underdog losses: 18\n",
      "          Number of Favorite bets: 55\n",
      "          Number of favorite wins: 36\n",
      "          Number of favorite losses: 19\n",
      "          Number of even bets: 0\n",
      "          Number of even wins: 0\n",
      "          Number of even losses: 0\n",
      "          Profit: -438.9048172864855\n",
      "          Profit per bet: -5.418577991191179\n",
      "          Profit per match: -4.620050708278795\n",
      "          \n",
      "          \n"
     ]
    }
   ],
   "source": [
    "%run get-ev-scratch-paper.ipynb"
   ]
  },
  {
   "cell_type": "code",
   "execution_count": 3,
   "metadata": {},
   "outputs": [],
   "source": [
    "df=pd.read_csv(\"owl-with-odds.csv\")"
   ]
  },
  {
   "cell_type": "code",
   "execution_count": 4,
   "metadata": {},
   "outputs": [
    {
     "name": "stdout",
     "output_type": "stream",
     "text": [
      "651\n",
      "538\n",
      "536\n"
     ]
    }
   ],
   "source": [
    "subset = ['t1_odds', 't2_odds']\n",
    "print(len(df))\n",
    "df.dropna(subset=subset ,inplace=True)\n",
    "print(len(df))\n",
    "\n",
    "df['t1_odds'] = pd.to_numeric(df['t1_odds'], errors='coerce')\n",
    "df['t2_odds'] = pd.to_numeric(df['t2_odds'], errors='coerce')\n",
    "df.dropna(subset=subset ,inplace=True)\n",
    "print(len(df))"
   ]
  },
  {
   "cell_type": "code",
   "execution_count": 5,
   "metadata": {},
   "outputs": [
    {
     "name": "stdout",
     "output_type": "stream",
     "text": [
      "60\n",
      "476\n"
     ]
    }
   ],
   "source": [
    "#Split the validation set\n",
    "df_train = df[:-60]\n",
    "\n",
    "df_test = df[-60:]\n",
    "print(len(df_test))\n",
    "print(len(df_train))"
   ]
  },
  {
   "cell_type": "code",
   "execution_count": 6,
   "metadata": {},
   "outputs": [],
   "source": [
    "#inclusive features\n",
    "features = ['corona_virus_isolation', 't1_wins_season',\n",
    "       't1_losses_season', 't2_wins_season', 't2_losses_season',\n",
    "       't1_matches_season', 't2_matches_season', 't1_win_percent_season',\n",
    "       't2_win_percent_season', 't1_wins_alltime', 't1_losses_alltime',\n",
    "       't2_wins_alltime', 't2_losses_alltime', 't1_matches_alltime',\n",
    "       't2_matches_alltime', 't1_win_percent_alltime',\n",
    "       't2_win_percent_alltime', 't1_wins_last_3', 't1_losses_last_3',\n",
    "       't2_wins_last_3', 't2_losses_last_3', 't1_win_percent_last_3',\n",
    "       't2_win_percent_last_3', 't1_wins_last_5', 't1_losses_last_5',\n",
    "       't2_wins_last_5', 't2_losses_last_5', 't1_win_percent_last_5',\n",
    "       't2_win_percent_last_5', 't1_wins_last_10', 't1_losses_last_10',\n",
    "       't2_wins_last_10', 't2_losses_last_10', 't1_win_percent_last_10',\n",
    "       't2_win_percent_last_10', \n",
    "        't1_wins_vs_t2', 't1_losses_vs_t2',\n",
    "       't1_matches_vs_t2', 't1_odds', 't2_odds', 'winner_label']"
   ]
  },
  {
   "cell_type": "code",
   "execution_count": 7,
   "metadata": {},
   "outputs": [],
   "source": [
    "df_test_filtered = df_test[features].copy()\n",
    "df_train_filtered = df_train[features].copy()"
   ]
  },
  {
   "cell_type": "code",
   "execution_count": 8,
   "metadata": {},
   "outputs": [
    {
     "name": "stdout",
     "output_type": "stream",
     "text": [
      "(60, 41)\n",
      "(379, 41)\n"
     ]
    }
   ],
   "source": [
    "df_test_filtered.dropna(inplace=True)\n",
    "df_train_filtered.dropna(inplace=True)\n",
    "\n",
    "print(df_test_filtered.shape)\n",
    "print(df_train_filtered.shape)"
   ]
  },
  {
   "cell_type": "markdown",
   "metadata": {},
   "source": [
    "### CANDIDATE 1\n"
   ]
  },
  {
   "cell_type": "code",
   "execution_count": 9,
   "metadata": {},
   "outputs": [],
   "source": [
    "\n",
    "model_1 = tree.DecisionTreeClassifier(max_depth=10, min_samples_leaf=3, random_state=75)\n",
    "features_1 = ['t1_wins_last_3', 't2_matches_alltime', 'winner_label', 't1_odds', 't2_odds']\n",
    "#FINAL BEST SCORE: 74.52979394547228"
   ]
  },
  {
   "cell_type": "code",
   "execution_count": 10,
   "metadata": {},
   "outputs": [],
   "source": [
    "model_2 = RandomForestClassifier(random_state=75)\n",
    "features_2 = ['t2_wins_last_5', 't1_win_percent_season', 't1_losses_season', 't2_losses_last_5', 't1_wins_vs_t2',\n",
    "            'winner_label', 't1_odds', 't2_odds']"
   ]
  },
  {
   "cell_type": "code",
   "execution_count": null,
   "metadata": {},
   "outputs": [],
   "source": []
  },
  {
   "cell_type": "code",
   "execution_count": null,
   "metadata": {},
   "outputs": [],
   "source": []
  },
  {
   "cell_type": "code",
   "execution_count": null,
   "metadata": {},
   "outputs": [],
   "source": []
  },
  {
   "cell_type": "code",
   "execution_count": null,
   "metadata": {},
   "outputs": [],
   "source": []
  },
  {
   "cell_type": "code",
   "execution_count": 11,
   "metadata": {},
   "outputs": [],
   "source": [
    "X=df_train_filtered[features_1].copy()\n",
    "X_test=df_test_filtered[features_1].copy()\n",
    "y = X['winner_label']\n",
    "y_test=X_test['winner_label']"
   ]
  },
  {
   "cell_type": "code",
   "execution_count": 12,
   "metadata": {},
   "outputs": [],
   "source": [
    "X = X.drop('winner_label', axis=1)\n",
    "X_test = X_test.drop('winner_label', axis=1)"
   ]
  },
  {
   "cell_type": "code",
   "execution_count": 13,
   "metadata": {},
   "outputs": [
    {
     "data": {
      "text/plain": [
       "DecisionTreeClassifier(ccp_alpha=0.0, class_weight=None, criterion='gini',\n",
       "                       max_depth=10, max_features=None, max_leaf_nodes=None,\n",
       "                       min_impurity_decrease=0.0, min_impurity_split=None,\n",
       "                       min_samples_leaf=3, min_samples_split=2,\n",
       "                       min_weight_fraction_leaf=0.0, presort='deprecated',\n",
       "                       random_state=75, splitter='best')"
      ]
     },
     "execution_count": 13,
     "metadata": {},
     "output_type": "execute_result"
    }
   ],
   "source": [
    "model_1.fit(X, y)"
   ]
  },
  {
   "cell_type": "code",
   "execution_count": 14,
   "metadata": {},
   "outputs": [],
   "source": [
    "probs=model_1.predict_proba(X_test)"
   ]
  },
  {
   "cell_type": "code",
   "execution_count": 15,
   "metadata": {},
   "outputs": [
    {
     "name": "stdout",
     "output_type": "stream",
     "text": [
      "\n",
      "          Number of matches: 60\n",
      "          Number of bets: 56\n",
      "          Number of winning bets: 29\n",
      "          Number of losing bets: 27\n",
      "          Number of underdog bets: 25\n",
      "          Number of underdog wins: 9\n",
      "          Number of underdog losses: 16\n",
      "          Number of Favorite bets: 31\n",
      "          Number of favorite wins: 20\n",
      "          Number of favorite losses: 11\n",
      "          Number of even bets: 0\n",
      "          Number of even wins: 0\n",
      "          Number of even losses: 0\n",
      "          Profit: -634.6256471651691\n",
      "          Profit per bet: -11.332600842235163\n",
      "          Profit per match: -10.577094119419485\n",
      "          \n",
      "          \n"
     ]
    },
    {
     "data": {
      "text/plain": [
       "-11.332600842235163"
      ]
     },
     "execution_count": 15,
     "metadata": {},
     "output_type": "execute_result"
    }
   ],
   "source": [
    "\n",
    "X_test_list = np.array(X_test)\n",
    "\n",
    "X_odds = list(zip(X_test_list[:, -2], X_test_list[:, -1], probs[:, 0], probs[:, 1], y_test))\n",
    "\n",
    "\n",
    "\n",
    "ev_prepped_df = pd.DataFrame(X_odds, columns=['t1_odds', 't2_odds', 't1_prob', 't2_prob', 'winner'])\n",
    "\n",
    "#display(ev_prepped_df)\n",
    "\n",
    "\n",
    "get_ev_from_df(ev_prepped_df, True)"
   ]
  },
  {
   "cell_type": "code",
   "execution_count": 16,
   "metadata": {},
   "outputs": [],
   "source": [
    "model_2 = RandomForestClassifier(random_state=75)\n",
    "features_2 = ['t2_wins_last_5', 't1_win_percent_season', 't1_losses_season', 't2_losses_last_5', 't1_wins_vs_t2',\n",
    "            'winner_label', 't1_odds', 't2_odds']"
   ]
  },
  {
   "cell_type": "code",
   "execution_count": 17,
   "metadata": {},
   "outputs": [
    {
     "name": "stdout",
     "output_type": "stream",
     "text": [
      "\n",
      "          Number of matches: 60\n",
      "          Number of bets: 53\n",
      "          Number of winning bets: 18\n",
      "          Number of losing bets: 35\n",
      "          Number of underdog bets: 33\n",
      "          Number of underdog wins: 7\n",
      "          Number of underdog losses: 26\n",
      "          Number of Favorite bets: 20\n",
      "          Number of favorite wins: 11\n",
      "          Number of favorite losses: 9\n",
      "          Number of even bets: 0\n",
      "          Number of even wins: 0\n",
      "          Number of even losses: 0\n",
      "          Profit: -1455.9719218957919\n",
      "          Profit per bet: -27.47116833765645\n",
      "          Profit per match: -24.2661986982632\n",
      "          \n",
      "          \n"
     ]
    },
    {
     "data": {
      "text/plain": [
       "-27.47116833765645"
      ]
     },
     "execution_count": 17,
     "metadata": {},
     "output_type": "execute_result"
    }
   ],
   "source": [
    "X=df_train_filtered[features_2].copy()\n",
    "X_test=df_test_filtered[features_2].copy()\n",
    "y = X['winner_label']\n",
    "y_test=X_test['winner_label']\n",
    "X = X.drop('winner_label', axis=1)\n",
    "X_test = X_test.drop('winner_label', axis=1)\n",
    "model_2.fit(X, y)\n",
    "probs=model_2.predict_proba(X_test)\n",
    "X_test_list = np.array(X_test)\n",
    "X_odds = list(zip(X_test_list[:, -2], X_test_list[:, -1], probs[:, 0], probs[:, 1], y_test))\n",
    "ev_prepped_df = pd.DataFrame(X_odds, columns=['t1_odds', 't2_odds', 't1_prob', 't2_prob', 'winner'])\n",
    "#display(ev_prepped_df)\n",
    "get_ev_from_df(ev_prepped_df, True)"
   ]
  },
  {
   "cell_type": "code",
   "execution_count": 18,
   "metadata": {},
   "outputs": [],
   "source": [
    "#Model 3\n",
    "model_3 = DecisionTreeClassifier(ccp_alpha=0.0, class_weight=None, criterion='entropy',\n",
    "                       max_depth=12, max_features=None, max_leaf_nodes=None,\n",
    "                       min_impurity_decrease=0.0, min_impurity_split=None,\n",
    "                       min_samples_leaf=4, min_samples_split=2,\n",
    "                       min_weight_fraction_leaf=0.0, presort='deprecated',\n",
    "                       random_state=75, splitter='best')\n",
    "\n",
    "features_3 = ['t1_wins_last_3', 't2_matches_alltime', 'winner_label', 't1_odds', 't2_odds']"
   ]
  },
  {
   "cell_type": "code",
   "execution_count": 19,
   "metadata": {},
   "outputs": [
    {
     "name": "stdout",
     "output_type": "stream",
     "text": [
      "\n",
      "          Number of matches: 60\n",
      "          Number of bets: 57\n",
      "          Number of winning bets: 34\n",
      "          Number of losing bets: 23\n",
      "          Number of underdog bets: 26\n",
      "          Number of underdog wins: 11\n",
      "          Number of underdog losses: 15\n",
      "          Number of Favorite bets: 31\n",
      "          Number of favorite wins: 23\n",
      "          Number of favorite losses: 8\n",
      "          Number of even bets: 0\n",
      "          Number of even wins: 0\n",
      "          Number of even losses: 0\n",
      "          Profit: 559.41199353654\n",
      "          Profit per bet: 9.814245500641052\n",
      "          Profit per match: 9.323533225609\n",
      "          \n",
      "          \n"
     ]
    }
   ],
   "source": [
    "X=df_train_filtered[features_3].copy()\n",
    "X_test=df_test_filtered[features_3].copy()\n",
    "y = X['winner_label']\n",
    "y_test=X_test['winner_label']\n",
    "X = X.drop('winner_label', axis=1)\n",
    "X_test = X_test.drop('winner_label', axis=1)\n",
    "model_3.fit(X, y)\n",
    "probs=model_3.predict_proba(X_test)\n",
    "X_test_list = np.array(X_test)\n",
    "X_odds = list(zip(X_test_list[:, -2], X_test_list[:, -1], probs[:, 0], probs[:, 1], y_test))\n",
    "ev_prepped_df = pd.DataFrame(X_odds, columns=['t1_odds', 't2_odds', 't1_prob', 't2_prob', 'winner'])\n",
    "#display(ev_prepped_df)\n",
    "get_ev_from_df(ev_prepped_df, True)\n",
    "probs_3 = probs"
   ]
  },
  {
   "cell_type": "code",
   "execution_count": 20,
   "metadata": {},
   "outputs": [],
   "source": [
    "#Model 4\n",
    "model_4 = RandomForestClassifier(bootstrap=True, ccp_alpha=0.0, class_weight=None,\n",
    "                       criterion='gini', max_depth=6, max_features='auto',\n",
    "                       max_leaf_nodes=None, max_samples=None,\n",
    "                       min_impurity_decrease=0.0, min_impurity_split=None,\n",
    "                       min_samples_leaf=1, min_samples_split=2,\n",
    "                       min_weight_fraction_leaf=0.0, n_estimators=50,\n",
    "                       n_jobs=None, oob_score=False, random_state=75, verbose=0,\n",
    "                       warm_start=False)\n",
    "\n",
    "features_4=['t2_wins_last_5', 't1_win_percent_season', 't1_losses_season', 't2_losses_last_5', 't1_wins_vs_t2', 'winner_label', 't1_odds', 't2_odds']"
   ]
  },
  {
   "cell_type": "code",
   "execution_count": 21,
   "metadata": {},
   "outputs": [
    {
     "name": "stdout",
     "output_type": "stream",
     "text": [
      "\n",
      "          Number of matches: 60\n",
      "          Number of bets: 50\n",
      "          Number of winning bets: 17\n",
      "          Number of losing bets: 33\n",
      "          Number of underdog bets: 32\n",
      "          Number of underdog wins: 7\n",
      "          Number of underdog losses: 25\n",
      "          Number of Favorite bets: 18\n",
      "          Number of favorite wins: 10\n",
      "          Number of favorite losses: 8\n",
      "          Number of even bets: 0\n",
      "          Number of even wins: 0\n",
      "          Number of even losses: 0\n",
      "          Profit: -1457.8400890870064\n",
      "          Profit per bet: -29.15680178174013\n",
      "          Profit per match: -24.297334818116774\n",
      "          \n",
      "          \n"
     ]
    },
    {
     "data": {
      "text/plain": [
       "-29.15680178174013"
      ]
     },
     "execution_count": 21,
     "metadata": {},
     "output_type": "execute_result"
    }
   ],
   "source": [
    "X=df_train_filtered[features_4].copy()\n",
    "X_test=df_test_filtered[features_4].copy()\n",
    "y = X['winner_label']\n",
    "y_test=X_test['winner_label']\n",
    "X = X.drop('winner_label', axis=1)\n",
    "X_test = X_test.drop('winner_label', axis=1)\n",
    "model_4.fit(X, y)\n",
    "probs=model_4.predict_proba(X_test)\n",
    "X_test_list = np.array(X_test)\n",
    "X_odds = list(zip(X_test_list[:, -2], X_test_list[:, -1], probs[:, 0], probs[:, 1], y_test))\n",
    "ev_prepped_df = pd.DataFrame(X_odds, columns=['t1_odds', 't2_odds', 't1_prob', 't2_prob', 'winner'])\n",
    "#display(ev_prepped_df)\n",
    "get_ev_from_df(ev_prepped_df, True)"
   ]
  },
  {
   "cell_type": "code",
   "execution_count": 22,
   "metadata": {},
   "outputs": [],
   "source": [
    "#model_5 \n",
    "\n",
    "model_5 = GradientBoostingClassifier(ccp_alpha=0.0, criterion='friedman_mse', init=None,\n",
    "                           learning_rate=0.2, loss='deviance', max_depth=16,\n",
    "                           max_features=None, max_leaf_nodes=None,\n",
    "                           min_impurity_decrease=0.0, min_impurity_split=None,\n",
    "                           min_samples_leaf=6, min_samples_split=2,\n",
    "                           min_weight_fraction_leaf=0.0, n_estimators=200,\n",
    "                           n_iter_no_change=None, presort='deprecated',\n",
    "                           random_state=75, subsample=1.0, tol=0.0001,\n",
    "                           validation_fraction=0.1, verbose=0,\n",
    "                           warm_start=False)\n",
    "\n",
    "features_5 = ['corona_virus_isolation', 't1_wins_season', 't1_losses_season', 't2_wins_season', 't2_losses_season', 't1_matches_season', 't2_matches_season', 't1_win_percent_season', 't2_win_percent_season', 't1_wins_alltime', 't1_losses_alltime', 't2_wins_alltime', 't2_losses_alltime', 't1_matches_alltime', 't2_matches_alltime', 't1_win_percent_alltime', 't2_win_percent_alltime', 't1_wins_last_3', 't1_losses_last_3', 't2_wins_last_3', 't2_losses_last_3', 't1_win_percent_last_3', 't2_win_percent_last_3', 't1_wins_last_5', 't1_losses_last_5', 't2_wins_last_5', 't2_losses_last_5', 't1_win_percent_last_5', 't2_win_percent_last_5', 't1_wins_last_10', 't1_losses_last_10', 't2_wins_last_10', 't2_losses_last_10', 't1_win_percent_last_10', 't2_win_percent_last_10', 't1_wins_vs_t2', 't1_losses_vs_t2', 't1_matches_vs_t2', 'winner_label', 't1_odds', 't2_odds']"
   ]
  },
  {
   "cell_type": "code",
   "execution_count": 23,
   "metadata": {},
   "outputs": [
    {
     "name": "stdout",
     "output_type": "stream",
     "text": [
      "\n",
      "          Number of matches: 60\n",
      "          Number of bets: 54\n",
      "          Number of winning bets: 34\n",
      "          Number of losing bets: 20\n",
      "          Number of underdog bets: 17\n",
      "          Number of underdog wins: 8\n",
      "          Number of underdog losses: 9\n",
      "          Number of Favorite bets: 37\n",
      "          Number of favorite wins: 26\n",
      "          Number of favorite losses: 11\n",
      "          Number of even bets: 0\n",
      "          Number of even wins: 0\n",
      "          Number of even losses: 0\n",
      "          Profit: 168.08688556683018\n",
      "          Profit per bet: 3.1127201030894476\n",
      "          Profit per match: 2.801448092780503\n",
      "          \n",
      "          \n"
     ]
    }
   ],
   "source": [
    "X=df_train_filtered[features_5].copy()\n",
    "X_test=df_test_filtered[features_5].copy()\n",
    "y = X['winner_label']\n",
    "y_test=X_test['winner_label']\n",
    "X = X.drop('winner_label', axis=1)\n",
    "X_test = X_test.drop('winner_label', axis=1)\n",
    "model_5.fit(X, y)\n",
    "probs=model_5.predict_proba(X_test)\n",
    "X_test_list = np.array(X_test)\n",
    "X_odds = list(zip(X_test_list[:, -2], X_test_list[:, -1], probs[:, 0], probs[:, 1], y_test))\n",
    "ev_prepped_df = pd.DataFrame(X_odds, columns=['t1_odds', 't2_odds', 't1_prob', 't2_prob', 'winner'])\n",
    "#display(ev_prepped_df)\n",
    "get_ev_from_df(ev_prepped_df, True)\n",
    "probs_5 = probs"
   ]
  },
  {
   "cell_type": "code",
   "execution_count": 24,
   "metadata": {},
   "outputs": [
    {
     "name": "stdout",
     "output_type": "stream",
     "text": [
      "[[0.83333333 0.16666667]\n",
      " [0.         1.        ]\n",
      " [0.16666667 0.83333333]\n",
      " [0.75       0.25      ]\n",
      " [0.         1.        ]\n",
      " [0.         1.        ]\n",
      " [0.         1.        ]\n",
      " [0.28571429 0.71428571]\n",
      " [0.25       0.75      ]\n",
      " [0.83333333 0.16666667]\n",
      " [0.75       0.25      ]\n",
      " [0.83333333 0.16666667]\n",
      " [0.28571429 0.71428571]\n",
      " [1.         0.        ]\n",
      " [0.16666667 0.83333333]\n",
      " [1.         0.        ]\n",
      " [0.75       0.25      ]\n",
      " [1.         0.        ]\n",
      " [0.5        0.5       ]\n",
      " [0.         1.        ]\n",
      " [0.28571429 0.71428571]\n",
      " [0.25       0.75      ]\n",
      " [0.28571429 0.71428571]\n",
      " [0.5        0.5       ]\n",
      " [0.         1.        ]\n",
      " [0.16666667 0.83333333]\n",
      " [1.         0.        ]\n",
      " [0.66666667 0.33333333]\n",
      " [0.4        0.6       ]\n",
      " [0.4        0.6       ]\n",
      " [0.         1.        ]\n",
      " [0.83333333 0.16666667]\n",
      " [0.         1.        ]\n",
      " [0.5        0.5       ]\n",
      " [0.5        0.5       ]\n",
      " [0.83333333 0.16666667]\n",
      " [0.         1.        ]\n",
      " [0.         1.        ]\n",
      " [1.         0.        ]\n",
      " [0.         1.        ]\n",
      " [0.16666667 0.83333333]\n",
      " [0.83333333 0.16666667]\n",
      " [0.         1.        ]\n",
      " [1.         0.        ]\n",
      " [0.83333333 0.16666667]\n",
      " [0.83333333 0.16666667]\n",
      " [0.75       0.25      ]\n",
      " [0.4        0.6       ]\n",
      " [0.         1.        ]\n",
      " [0.83333333 0.16666667]\n",
      " [0.83333333 0.16666667]\n",
      " [0.5        0.5       ]\n",
      " [0.83333333 0.16666667]\n",
      " [0.5        0.5       ]\n",
      " [0.         1.        ]\n",
      " [0.         1.        ]\n",
      " [0.4        0.6       ]\n",
      " [0.5        0.5       ]\n",
      " [0.75       0.25      ]\n",
      " [0.16666667 0.83333333]]\n",
      "[[0.99676961 0.00323039]\n",
      " [0.00403209 0.99596791]\n",
      " [0.0042296  0.9957704 ]\n",
      " [0.98110027 0.01889973]\n",
      " [0.04720231 0.95279769]\n",
      " [0.0979493  0.9020507 ]\n",
      " [0.67945483 0.32054517]\n",
      " [0.77810982 0.22189018]\n",
      " [0.00434561 0.99565439]\n",
      " [0.89954912 0.10045088]\n",
      " [0.10707607 0.89292393]\n",
      " [0.98308445 0.01691555]\n",
      " [0.30812213 0.69187787]\n",
      " [0.98744258 0.01255742]\n",
      " [0.25702465 0.74297535]\n",
      " [0.99944424 0.00055576]\n",
      " [0.01072001 0.98927999]\n",
      " [0.97720947 0.02279053]\n",
      " [0.00904196 0.99095804]\n",
      " [0.00595392 0.99404608]\n",
      " [0.53121376 0.46878624]\n",
      " [0.9586807  0.0413193 ]\n",
      " [0.09905414 0.90094586]\n",
      " [0.98730397 0.01269603]\n",
      " [0.00035286 0.99964714]\n",
      " [0.83092216 0.16907784]\n",
      " [0.99041418 0.00958582]\n",
      " [0.00819728 0.99180272]\n",
      " [0.54923941 0.45076059]\n",
      " [0.74829485 0.25170515]\n",
      " [0.00069157 0.99930843]\n",
      " [0.91124983 0.08875017]\n",
      " [0.00010008 0.99989992]\n",
      " [0.98647937 0.01352063]\n",
      " [0.00157112 0.99842888]\n",
      " [0.64277766 0.35722234]\n",
      " [0.64538549 0.35461451]\n",
      " [0.00489741 0.99510259]\n",
      " [0.94827819 0.05172181]\n",
      " [0.00378079 0.99621921]\n",
      " [0.13228262 0.86771738]\n",
      " [0.11344348 0.88655652]\n",
      " [0.28926846 0.71073154]\n",
      " [0.96943311 0.03056689]\n",
      " [0.99894267 0.00105733]\n",
      " [0.69727979 0.30272021]\n",
      " [0.86051189 0.13948811]\n",
      " [0.98533306 0.01466694]\n",
      " [0.00029408 0.99970592]\n",
      " [0.99364508 0.00635492]\n",
      " [0.59390741 0.40609259]\n",
      " [0.99354003 0.00645997]\n",
      " [0.16948459 0.83051541]\n",
      " [0.00028282 0.99971718]\n",
      " [0.0001205  0.9998795 ]\n",
      " [0.31402581 0.68597419]\n",
      " [0.44838364 0.55161636]\n",
      " [0.98556693 0.01443307]\n",
      " [0.49483232 0.50516768]\n",
      " [0.8362304  0.1637696 ]]\n"
     ]
    }
   ],
   "source": [
    "##We have 2 models returning a profit.  Let's see how an ensemble works....\n",
    "print(probs_3)\n",
    "print(probs_5)"
   ]
  },
  {
   "cell_type": "code",
   "execution_count": 25,
   "metadata": {},
   "outputs": [
    {
     "name": "stdout",
     "output_type": "stream",
     "text": [
      "[[0.99676961 0.00323039]\n",
      " [0.00403209 0.99596791]\n",
      " [0.0042296  0.9957704 ]\n",
      " [0.98110027 0.01889973]\n",
      " [0.04720231 0.95279769]\n",
      " [0.0979493  0.9020507 ]\n",
      " [0.67945483 0.32054517]\n",
      " [0.77810982 0.22189018]\n",
      " [0.00434561 0.99565439]\n",
      " [0.89954912 0.10045088]\n",
      " [0.10707607 0.89292393]\n",
      " [0.98308445 0.01691555]\n",
      " [0.30812213 0.69187787]\n",
      " [0.98744258 0.01255742]\n",
      " [0.25702465 0.74297535]\n",
      " [0.99944424 0.00055576]\n",
      " [0.01072001 0.98927999]\n",
      " [0.97720947 0.02279053]\n",
      " [0.00904196 0.99095804]\n",
      " [0.00595392 0.99404608]\n",
      " [0.53121376 0.46878624]\n",
      " [0.9586807  0.0413193 ]\n",
      " [0.09905414 0.90094586]\n",
      " [0.98730397 0.01269603]\n",
      " [0.00035286 0.99964714]\n",
      " [0.83092216 0.16907784]\n",
      " [0.99041418 0.00958582]\n",
      " [0.00819728 0.99180272]\n",
      " [0.54923941 0.45076059]\n",
      " [0.74829485 0.25170515]\n",
      " [0.00069157 0.99930843]\n",
      " [0.91124983 0.08875017]\n",
      " [0.00010008 0.99989992]\n",
      " [0.98647937 0.01352063]\n",
      " [0.00157112 0.99842888]\n",
      " [0.64277766 0.35722234]\n",
      " [0.64538549 0.35461451]\n",
      " [0.00489741 0.99510259]\n",
      " [0.94827819 0.05172181]\n",
      " [0.00378079 0.99621921]\n",
      " [0.13228262 0.86771738]\n",
      " [0.11344348 0.88655652]\n",
      " [0.28926846 0.71073154]\n",
      " [0.96943311 0.03056689]\n",
      " [0.99894267 0.00105733]\n",
      " [0.69727979 0.30272021]\n",
      " [0.86051189 0.13948811]\n",
      " [0.98533306 0.01466694]\n",
      " [0.00029408 0.99970592]\n",
      " [0.99364508 0.00635492]\n",
      " [0.59390741 0.40609259]\n",
      " [0.99354003 0.00645997]\n",
      " [0.16948459 0.83051541]\n",
      " [0.00028282 0.99971718]\n",
      " [0.0001205  0.9998795 ]\n",
      " [0.31402581 0.68597419]\n",
      " [0.44838364 0.55161636]\n",
      " [0.98556693 0.01443307]\n",
      " [0.49483232 0.50516768]\n",
      " [0.8362304  0.1637696 ]]\n"
     ]
    }
   ],
   "source": [
    "print(probs_5)"
   ]
  },
  {
   "cell_type": "code",
   "execution_count": 26,
   "metadata": {},
   "outputs": [],
   "source": [
    "ensemble_probs=(probs_3 + probs_5) * .5"
   ]
  },
  {
   "cell_type": "code",
   "execution_count": 27,
   "metadata": {},
   "outputs": [
    {
     "data": {
      "text/plain": [
       "array([[0.91505147, 0.08494853],\n",
       "       [0.00201605, 0.99798395],\n",
       "       [0.08544813, 0.91455187],\n",
       "       [0.86555014, 0.13444986],\n",
       "       [0.02360115, 0.97639885],\n",
       "       [0.04897465, 0.95102535],\n",
       "       [0.33972741, 0.66027259],\n",
       "       [0.53191205, 0.46808795],\n",
       "       [0.1271728 , 0.8728272 ],\n",
       "       [0.86644123, 0.13355877],\n",
       "       [0.42853804, 0.57146196],\n",
       "       [0.90820889, 0.09179111],\n",
       "       [0.29691821, 0.70308179],\n",
       "       [0.99372129, 0.00627871],\n",
       "       [0.21184566, 0.78815434],\n",
       "       [0.99972212, 0.00027788],\n",
       "       [0.38036001, 0.61963999],\n",
       "       [0.98860474, 0.01139526],\n",
       "       [0.25452098, 0.74547902],\n",
       "       [0.00297696, 0.99702304],\n",
       "       [0.40846402, 0.59153598],\n",
       "       [0.60434035, 0.39565965],\n",
       "       [0.19238421, 0.80761579],\n",
       "       [0.74365199, 0.25634801],\n",
       "       [0.00017643, 0.99982357],\n",
       "       [0.49879441, 0.50120559],\n",
       "       [0.99520709, 0.00479291],\n",
       "       [0.33743197, 0.66256803],\n",
       "       [0.47461971, 0.52538029],\n",
       "       [0.57414742, 0.42585258],\n",
       "       [0.00034579, 0.99965421],\n",
       "       [0.87229158, 0.12770842],\n",
       "       [0.00005004, 0.99994996],\n",
       "       [0.74323968, 0.25676032],\n",
       "       [0.25078556, 0.74921444],\n",
       "       [0.7380555 , 0.2619445 ],\n",
       "       [0.32269274, 0.67730726],\n",
       "       [0.00244871, 0.99755129],\n",
       "       [0.97413909, 0.02586091],\n",
       "       [0.00189039, 0.99810961],\n",
       "       [0.14947465, 0.85052535],\n",
       "       [0.47338841, 0.52661159],\n",
       "       [0.14463423, 0.85536577],\n",
       "       [0.98471655, 0.01528345],\n",
       "       [0.916138  , 0.083862  ],\n",
       "       [0.76530656, 0.23469344],\n",
       "       [0.80525595, 0.19474405],\n",
       "       [0.69266653, 0.30733347],\n",
       "       [0.00014704, 0.99985296],\n",
       "       [0.91348921, 0.08651079],\n",
       "       [0.71362037, 0.28637963],\n",
       "       [0.74677001, 0.25322999],\n",
       "       [0.50140896, 0.49859104],\n",
       "       [0.25014141, 0.74985859],\n",
       "       [0.00006025, 0.99993975],\n",
       "       [0.15701291, 0.84298709],\n",
       "       [0.42419182, 0.57580818],\n",
       "       [0.74278346, 0.25721654],\n",
       "       [0.62241616, 0.37758384],\n",
       "       [0.50144853, 0.49855147]])"
      ]
     },
     "execution_count": 27,
     "metadata": {},
     "output_type": "execute_result"
    }
   ],
   "source": [
    "ensemble_probs"
   ]
  },
  {
   "cell_type": "code",
   "execution_count": 28,
   "metadata": {},
   "outputs": [
    {
     "name": "stdout",
     "output_type": "stream",
     "text": [
      "\n",
      "          Number of matches: 60\n",
      "          Number of bets: 58\n",
      "          Number of winning bets: 34\n",
      "          Number of losing bets: 24\n",
      "          Number of underdog bets: 31\n",
      "          Number of underdog wins: 13\n",
      "          Number of underdog losses: 18\n",
      "          Number of Favorite bets: 27\n",
      "          Number of favorite wins: 21\n",
      "          Number of favorite losses: 6\n",
      "          Number of even bets: 0\n",
      "          Number of even wins: 0\n",
      "          Number of even losses: 0\n",
      "          Profit: 676.3539866949042\n",
      "          Profit per bet: 11.661275632670762\n",
      "          Profit per match: 11.27256644491507\n",
      "          \n",
      "          \n"
     ]
    },
    {
     "data": {
      "text/plain": [
       "11.661275632670762"
      ]
     },
     "execution_count": 28,
     "metadata": {},
     "output_type": "execute_result"
    }
   ],
   "source": [
    "#Ensemble results....\n",
    "\n",
    "X_test_list = np.array(X_test)\n",
    "X_odds = list(zip(X_test_list[:, -2], X_test_list[:, -1], ensemble_probs[:, 0], ensemble_probs[:, 1], y_test))\n",
    "ev_prepped_df = pd.DataFrame(X_odds, columns=['t1_odds', 't2_odds', 't1_prob', 't2_prob', 'winner'])\n",
    "#display(ev_prepped_df)\n",
    "get_ev_from_df(ev_prepped_df, True)"
   ]
  },
  {
   "cell_type": "code",
   "execution_count": null,
   "metadata": {},
   "outputs": [],
   "source": []
  }
 ],
 "metadata": {
  "kernelspec": {
   "display_name": "Python 3",
   "language": "python",
   "name": "python3"
  },
  "language_info": {
   "codemirror_mode": {
    "name": "ipython",
    "version": 3
   },
   "file_extension": ".py",
   "mimetype": "text/x-python",
   "name": "python",
   "nbconvert_exporter": "python",
   "pygments_lexer": "ipython3",
   "version": "3.7.6"
  }
 },
 "nbformat": 4,
 "nbformat_minor": 4
}
