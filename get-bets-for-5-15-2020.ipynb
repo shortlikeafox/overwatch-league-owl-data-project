{
 "cells": [
  {
   "cell_type": "code",
   "execution_count": 1,
   "metadata": {},
   "outputs": [],
   "source": [
    "import pandas as pd\n",
    "from sklearn.ensemble import RandomForestClassifier\n",
    "from functions import custom_cv_eval, get_best_features, get_ev_from_df, get_bet_ev\n",
    "from sklearn.tree import DecisionTreeClassifier\n",
    "from sklearn.linear_model import LogisticRegression\n",
    "from sklearn.preprocessing import StandardScaler\n",
    "import numpy as np\n",
    "from sklearn.neural_network import MLPClassifier\n",
    "from sklearn.ensemble import GradientBoostingClassifier\n",
    "np.set_printoptions(suppress=True)  #Suppress Scientific Notation"
   ]
  },
  {
   "cell_type": "code",
   "execution_count": 2,
   "metadata": {},
   "outputs": [],
   "source": [
    "df=pd.read_csv(\"data/owl-with-odds.csv\")\n",
    "df_event=pd.read_csv(\"data/upcoming-with-odds.csv\")"
   ]
  },
  {
   "cell_type": "code",
   "execution_count": 3,
   "metadata": {},
   "outputs": [
    {
     "data": {
      "text/plain": [
       "(683, 58)"
      ]
     },
     "execution_count": 3,
     "metadata": {},
     "output_type": "execute_result"
    }
   ],
   "source": [
    "df.shape"
   ]
  },
  {
   "cell_type": "code",
   "execution_count": 4,
   "metadata": {},
   "outputs": [
    {
     "data": {
      "text/plain": [
       "(12, 58)"
      ]
     },
     "execution_count": 4,
     "metadata": {},
     "output_type": "execute_result"
    }
   ],
   "source": [
    "df_event.shape"
   ]
  },
  {
   "cell_type": "code",
   "execution_count": 5,
   "metadata": {},
   "outputs": [],
   "source": [
    "subset = ['t1_odds', 't2_odds']\n",
    "df.dropna(subset=subset ,inplace=True)\n",
    "\n",
    "df['t1_odds'] = pd.to_numeric(df['t1_odds'], errors='coerce')\n",
    "df['t2_odds'] = pd.to_numeric(df['t2_odds'], errors='coerce')\n",
    "df.dropna(subset=subset ,inplace=True)"
   ]
  },
  {
   "cell_type": "code",
   "execution_count": 6,
   "metadata": {},
   "outputs": [],
   "source": [
    "subset = ['t1_odds', 't2_odds']\n",
    "df_event.dropna(subset=subset ,inplace=True)\n",
    "\n",
    "df_event['t1_odds'] = pd.to_numeric(df_event['t1_odds'], errors='coerce')\n",
    "df_event['t2_odds'] = pd.to_numeric(df_event['t2_odds'], errors='coerce')\n",
    "df_event.dropna(subset=subset ,inplace=True)"
   ]
  },
  {
   "cell_type": "code",
   "execution_count": 7,
   "metadata": {},
   "outputs": [],
   "source": [
    "df_train=df.copy()\n",
    "df_test = df_event.copy()"
   ]
  },
  {
   "cell_type": "code",
   "execution_count": 8,
   "metadata": {},
   "outputs": [],
   "source": [
    "#inclusive features\n",
    "features = ['team_one', 'team_two', 'corona_virus_isolation', 't1_wins_season',\n",
    "       't1_losses_season', 't2_wins_season', 't2_losses_season',\n",
    "       't1_matches_season', 't2_matches_season', 't1_win_percent_season',\n",
    "       't2_win_percent_season', 't1_wins_alltime', 't1_losses_alltime',\n",
    "       't2_wins_alltime', 't2_losses_alltime', 't1_matches_alltime',\n",
    "       't2_matches_alltime', 't1_win_percent_alltime',\n",
    "       't2_win_percent_alltime', 't1_wins_last_3', 't1_losses_last_3',\n",
    "       't2_wins_last_3', 't2_losses_last_3', 't1_win_percent_last_3',\n",
    "       't2_win_percent_last_3', 't1_wins_last_5', 't1_losses_last_5',\n",
    "       't2_wins_last_5', 't2_losses_last_5', 't1_win_percent_last_5',\n",
    "       't2_win_percent_last_5', 't1_wins_last_10', 't1_losses_last_10',\n",
    "       't2_wins_last_10', 't2_losses_last_10', 't1_win_percent_last_10',\n",
    "       't2_win_percent_last_10', \n",
    "        't1_wins_vs_t2', 't1_losses_vs_t2',\n",
    "       't1_matches_vs_t2', 't1_odds', 't2_odds', 'winner_label']"
   ]
  },
  {
   "cell_type": "code",
   "execution_count": 9,
   "metadata": {},
   "outputs": [],
   "source": [
    "df_test_filtered = df_test[features].copy()\n",
    "df_train_filtered = df_train[features].copy()\n",
    "df_test_filtered.dropna(inplace=True)\n",
    "df_train_filtered.dropna(inplace=True)\n",
    "\n",
    "df_test_team_names = df_test_filtered[['team_one', 'team_two']]\n",
    "df_train_team_names = df_train_filtered[['team_one', 'team_two']]"
   ]
  },
  {
   "cell_type": "code",
   "execution_count": 10,
   "metadata": {},
   "outputs": [],
   "source": [
    "model_5 = DecisionTreeClassifier(ccp_alpha=0.0, class_weight=None, criterion='entropy',\n",
    "                       max_depth=12, max_features=None, max_leaf_nodes=None,\n",
    "                       min_impurity_decrease=0.0, min_impurity_split=None,\n",
    "                       min_samples_leaf=4, min_samples_split=2,\n",
    "                       min_weight_fraction_leaf=0.0, presort='deprecated',\n",
    "                       random_state=75, splitter='best')\n",
    "features_5 = ['t1_wins_last_3', 't2_matches_alltime', 'winner_label', 't1_odds', 't2_odds']\n",
    "df_5 = df_train_filtered[features_5]"
   ]
  },
  {
   "cell_type": "code",
   "execution_count": 11,
   "metadata": {},
   "outputs": [
    {
     "data": {
      "text/html": [
       "<div>\n",
       "<style scoped>\n",
       "    .dataframe tbody tr th:only-of-type {\n",
       "        vertical-align: middle;\n",
       "    }\n",
       "\n",
       "    .dataframe tbody tr th {\n",
       "        vertical-align: top;\n",
       "    }\n",
       "\n",
       "    .dataframe thead th {\n",
       "        text-align: right;\n",
       "    }\n",
       "</style>\n",
       "<table border=\"1\" class=\"dataframe\">\n",
       "  <thead>\n",
       "    <tr style=\"text-align: right;\">\n",
       "      <th></th>\n",
       "      <th>team_one</th>\n",
       "      <th>team_two</th>\n",
       "    </tr>\n",
       "  </thead>\n",
       "  <tbody>\n",
       "    <tr>\n",
       "      <th>0</th>\n",
       "      <td>Seoul Dynasty</td>\n",
       "      <td>Chengdu Hunters</td>\n",
       "    </tr>\n",
       "    <tr>\n",
       "      <th>1</th>\n",
       "      <td>London Spitfire</td>\n",
       "      <td>Shanghai Dragons</td>\n",
       "    </tr>\n",
       "    <tr>\n",
       "      <th>2</th>\n",
       "      <td>New York Excelsior</td>\n",
       "      <td>Hangzhou Spark</td>\n",
       "    </tr>\n",
       "    <tr>\n",
       "      <th>3</th>\n",
       "      <td>Vancouver Titans</td>\n",
       "      <td>Houston Outlaws</td>\n",
       "    </tr>\n",
       "    <tr>\n",
       "      <th>4</th>\n",
       "      <td>Florida Mayhem</td>\n",
       "      <td>Washington Justice</td>\n",
       "    </tr>\n",
       "    <tr>\n",
       "      <th>5</th>\n",
       "      <td>Los Angeles Gladiators</td>\n",
       "      <td>Boston Uprising</td>\n",
       "    </tr>\n",
       "    <tr>\n",
       "      <th>6</th>\n",
       "      <td>San Francisco Shock</td>\n",
       "      <td>Atlanta Reign</td>\n",
       "    </tr>\n",
       "    <tr>\n",
       "      <th>7</th>\n",
       "      <td>Guangzhou Charge</td>\n",
       "      <td>Chengdu Hunters</td>\n",
       "    </tr>\n",
       "    <tr>\n",
       "      <th>8</th>\n",
       "      <td>Hangzhou Spark</td>\n",
       "      <td>London Spitfire</td>\n",
       "    </tr>\n",
       "    <tr>\n",
       "      <th>9</th>\n",
       "      <td>Dallas Fuel</td>\n",
       "      <td>Paris Eternal</td>\n",
       "    </tr>\n",
       "    <tr>\n",
       "      <th>10</th>\n",
       "      <td>Philadelphia Fusion</td>\n",
       "      <td>Vancouver Titans</td>\n",
       "    </tr>\n",
       "    <tr>\n",
       "      <th>11</th>\n",
       "      <td>Toronto Defiant</td>\n",
       "      <td>Los Angeles Valiant</td>\n",
       "    </tr>\n",
       "  </tbody>\n",
       "</table>\n",
       "</div>"
      ],
      "text/plain": [
       "                  team_one             team_two\n",
       "0            Seoul Dynasty      Chengdu Hunters\n",
       "1          London Spitfire     Shanghai Dragons\n",
       "2       New York Excelsior       Hangzhou Spark\n",
       "3         Vancouver Titans      Houston Outlaws\n",
       "4           Florida Mayhem   Washington Justice\n",
       "5   Los Angeles Gladiators      Boston Uprising\n",
       "6      San Francisco Shock        Atlanta Reign\n",
       "7         Guangzhou Charge      Chengdu Hunters\n",
       "8           Hangzhou Spark      London Spitfire\n",
       "9              Dallas Fuel        Paris Eternal\n",
       "10     Philadelphia Fusion     Vancouver Titans\n",
       "11         Toronto Defiant  Los Angeles Valiant"
      ]
     },
     "metadata": {},
     "output_type": "display_data"
    }
   ],
   "source": [
    "display(df_test_team_names)"
   ]
  },
  {
   "cell_type": "code",
   "execution_count": 12,
   "metadata": {},
   "outputs": [
    {
     "data": {
      "text/plain": [
       "(12, 5)"
      ]
     },
     "execution_count": 12,
     "metadata": {},
     "output_type": "execute_result"
    }
   ],
   "source": [
    "X=df_train_filtered[features_5].copy()\n",
    "X_test=df_test_filtered[features_5].copy()\n",
    "y = X['winner_label']\n",
    "y_test=X_test['winner_label']\n",
    "X = X.drop('winner_label', axis=1)\n",
    "X_test = X_test.drop('winner_label', axis=1)\n",
    "model_5.fit(X, y)\n",
    "probs=model_5.predict_proba(X_test)\n",
    "X_test_list = np.array(X_test)\n",
    "X_odds = list(zip(X_test_list[:, -2], X_test_list[:, -1], probs[:, 0], probs[:, 1], y_test))\n",
    "ev_prepped_df = pd.DataFrame(X_odds, columns=['t1_odds', 't2_odds', 't1_prob', 't2_prob', 'winner'])\n",
    "final_probs_df = pd.concat([ev_prepped_df, df_test_team_names.reset_index()], axis=1)\n",
    "#display(ev_prepped_df)\n",
    "#get_ev_from_df(ev_prepped_df, True, min_ev=99)\n",
    "#probs_5 = probs\n",
    "\n",
    "ev_prepped_df.shape"
   ]
  },
  {
   "cell_type": "code",
   "execution_count": 13,
   "metadata": {},
   "outputs": [
    {
     "data": {
      "text/html": [
       "<div>\n",
       "<style scoped>\n",
       "    .dataframe tbody tr th:only-of-type {\n",
       "        vertical-align: middle;\n",
       "    }\n",
       "\n",
       "    .dataframe tbody tr th {\n",
       "        vertical-align: top;\n",
       "    }\n",
       "\n",
       "    .dataframe thead th {\n",
       "        text-align: right;\n",
       "    }\n",
       "</style>\n",
       "<table border=\"1\" class=\"dataframe\">\n",
       "  <thead>\n",
       "    <tr style=\"text-align: right;\">\n",
       "      <th></th>\n",
       "      <th>t1_odds</th>\n",
       "      <th>t2_odds</th>\n",
       "      <th>t1_prob</th>\n",
       "      <th>t2_prob</th>\n",
       "      <th>winner</th>\n",
       "      <th>index</th>\n",
       "      <th>team_one</th>\n",
       "      <th>team_two</th>\n",
       "    </tr>\n",
       "  </thead>\n",
       "  <tbody>\n",
       "    <tr>\n",
       "      <th>0</th>\n",
       "      <td>-500</td>\n",
       "      <td>400</td>\n",
       "      <td>1.000000</td>\n",
       "      <td>0.000000</td>\n",
       "      <td>0</td>\n",
       "      <td>0</td>\n",
       "      <td>Seoul Dynasty</td>\n",
       "      <td>Chengdu Hunters</td>\n",
       "    </tr>\n",
       "    <tr>\n",
       "      <th>1</th>\n",
       "      <td>625</td>\n",
       "      <td>-950</td>\n",
       "      <td>0.000000</td>\n",
       "      <td>1.000000</td>\n",
       "      <td>0</td>\n",
       "      <td>1</td>\n",
       "      <td>London Spitfire</td>\n",
       "      <td>Shanghai Dragons</td>\n",
       "    </tr>\n",
       "    <tr>\n",
       "      <th>2</th>\n",
       "      <td>-410</td>\n",
       "      <td>330</td>\n",
       "      <td>0.200000</td>\n",
       "      <td>0.800000</td>\n",
       "      <td>0</td>\n",
       "      <td>2</td>\n",
       "      <td>New York Excelsior</td>\n",
       "      <td>Hangzhou Spark</td>\n",
       "    </tr>\n",
       "    <tr>\n",
       "      <th>3</th>\n",
       "      <td>445</td>\n",
       "      <td>-590</td>\n",
       "      <td>0.800000</td>\n",
       "      <td>0.200000</td>\n",
       "      <td>0</td>\n",
       "      <td>3</td>\n",
       "      <td>Vancouver Titans</td>\n",
       "      <td>Houston Outlaws</td>\n",
       "    </tr>\n",
       "    <tr>\n",
       "      <th>4</th>\n",
       "      <td>-1250</td>\n",
       "      <td>800</td>\n",
       "      <td>0.571429</td>\n",
       "      <td>0.428571</td>\n",
       "      <td>0</td>\n",
       "      <td>4</td>\n",
       "      <td>Florida Mayhem</td>\n",
       "      <td>Washington Justice</td>\n",
       "    </tr>\n",
       "    <tr>\n",
       "      <th>5</th>\n",
       "      <td>-1250</td>\n",
       "      <td>800</td>\n",
       "      <td>0.833333</td>\n",
       "      <td>0.166667</td>\n",
       "      <td>0</td>\n",
       "      <td>5</td>\n",
       "      <td>Los Angeles Gladiators</td>\n",
       "      <td>Boston Uprising</td>\n",
       "    </tr>\n",
       "    <tr>\n",
       "      <th>6</th>\n",
       "      <td>-510</td>\n",
       "      <td>405</td>\n",
       "      <td>1.000000</td>\n",
       "      <td>0.000000</td>\n",
       "      <td>0</td>\n",
       "      <td>6</td>\n",
       "      <td>San Francisco Shock</td>\n",
       "      <td>Atlanta Reign</td>\n",
       "    </tr>\n",
       "    <tr>\n",
       "      <th>7</th>\n",
       "      <td>-300</td>\n",
       "      <td>240</td>\n",
       "      <td>0.875000</td>\n",
       "      <td>0.125000</td>\n",
       "      <td>0</td>\n",
       "      <td>7</td>\n",
       "      <td>Guangzhou Charge</td>\n",
       "      <td>Chengdu Hunters</td>\n",
       "    </tr>\n",
       "    <tr>\n",
       "      <th>8</th>\n",
       "      <td>130</td>\n",
       "      <td>-160</td>\n",
       "      <td>0.000000</td>\n",
       "      <td>1.000000</td>\n",
       "      <td>0</td>\n",
       "      <td>8</td>\n",
       "      <td>Hangzhou Spark</td>\n",
       "      <td>London Spitfire</td>\n",
       "    </tr>\n",
       "    <tr>\n",
       "      <th>9</th>\n",
       "      <td>145</td>\n",
       "      <td>-175</td>\n",
       "      <td>1.000000</td>\n",
       "      <td>0.000000</td>\n",
       "      <td>0</td>\n",
       "      <td>9</td>\n",
       "      <td>Dallas Fuel</td>\n",
       "      <td>Paris Eternal</td>\n",
       "    </tr>\n",
       "    <tr>\n",
       "      <th>10</th>\n",
       "      <td>-1610</td>\n",
       "      <td>900</td>\n",
       "      <td>0.400000</td>\n",
       "      <td>0.600000</td>\n",
       "      <td>0</td>\n",
       "      <td>10</td>\n",
       "      <td>Philadelphia Fusion</td>\n",
       "      <td>Vancouver Titans</td>\n",
       "    </tr>\n",
       "    <tr>\n",
       "      <th>11</th>\n",
       "      <td>180</td>\n",
       "      <td>-240</td>\n",
       "      <td>0.208333</td>\n",
       "      <td>0.791667</td>\n",
       "      <td>0</td>\n",
       "      <td>11</td>\n",
       "      <td>Toronto Defiant</td>\n",
       "      <td>Los Angeles Valiant</td>\n",
       "    </tr>\n",
       "  </tbody>\n",
       "</table>\n",
       "</div>"
      ],
      "text/plain": [
       "    t1_odds  t2_odds   t1_prob   t2_prob  winner  index  \\\n",
       "0      -500      400  1.000000  0.000000       0      0   \n",
       "1       625     -950  0.000000  1.000000       0      1   \n",
       "2      -410      330  0.200000  0.800000       0      2   \n",
       "3       445     -590  0.800000  0.200000       0      3   \n",
       "4     -1250      800  0.571429  0.428571       0      4   \n",
       "5     -1250      800  0.833333  0.166667       0      5   \n",
       "6      -510      405  1.000000  0.000000       0      6   \n",
       "7      -300      240  0.875000  0.125000       0      7   \n",
       "8       130     -160  0.000000  1.000000       0      8   \n",
       "9       145     -175  1.000000  0.000000       0      9   \n",
       "10    -1610      900  0.400000  0.600000       0     10   \n",
       "11      180     -240  0.208333  0.791667       0     11   \n",
       "\n",
       "                  team_one             team_two  \n",
       "0            Seoul Dynasty      Chengdu Hunters  \n",
       "1          London Spitfire     Shanghai Dragons  \n",
       "2       New York Excelsior       Hangzhou Spark  \n",
       "3         Vancouver Titans      Houston Outlaws  \n",
       "4           Florida Mayhem   Washington Justice  \n",
       "5   Los Angeles Gladiators      Boston Uprising  \n",
       "6      San Francisco Shock        Atlanta Reign  \n",
       "7         Guangzhou Charge      Chengdu Hunters  \n",
       "8           Hangzhou Spark      London Spitfire  \n",
       "9              Dallas Fuel        Paris Eternal  \n",
       "10     Philadelphia Fusion     Vancouver Titans  \n",
       "11         Toronto Defiant  Los Angeles Valiant  "
      ]
     },
     "metadata": {},
     "output_type": "display_data"
    }
   ],
   "source": [
    "display(final_probs_df)"
   ]
  },
  {
   "cell_type": "code",
   "execution_count": 14,
   "metadata": {},
   "outputs": [
    {
     "name": "stdout",
     "output_type": "stream",
     "text": [
      "BET: Hangzhou Spark (330) over New York Excelsior (-410). EV: 244.0\n",
      "BET: Vancouver Titans (445) over Houston Outlaws (-590). EV: 336.0\n",
      "BET: Washington Justice (800) over Florida Mayhem (-1250). EV: 285.71428571428567\n",
      "BET: Dallas Fuel (145) over Paris Eternal (-175). EV: 145.0\n",
      "BET: Vancouver Titans (900) over Philadelphia Fusion (-1610). EV: 500.0\n"
     ]
    }
   ],
   "source": [
    "min_ev = 99\n",
    "\n",
    "for index, row in final_probs_df.iterrows():\n",
    "    team_one_ev = get_bet_ev(row['t1_odds'], row['t1_prob'])\n",
    "    team_two_ev = get_bet_ev(row['t2_odds'], row['t2_prob'])\n",
    "    if (team_one_ev >=99):\n",
    "        print(f\"BET: {row['team_one']} ({row['t1_odds']}) over {row['team_two']} ({row['t2_odds']}). EV: {team_one_ev}\")\n",
    "        \n",
    "    if (team_two_ev >=99):\n",
    "        print(f\"BET: {row['team_two']} ({row['t2_odds']}) over {row['team_one']} ({row['t1_odds']}). EV: {team_two_ev}\")"
   ]
  },
  {
   "cell_type": "code",
   "execution_count": null,
   "metadata": {},
   "outputs": [],
   "source": []
  }
 ],
 "metadata": {
  "kernelspec": {
   "display_name": "Python 3",
   "language": "python",
   "name": "python3"
  },
  "language_info": {
   "codemirror_mode": {
    "name": "ipython",
    "version": 3
   },
   "file_extension": ".py",
   "mimetype": "text/x-python",
   "name": "python",
   "nbconvert_exporter": "python",
   "pygments_lexer": "ipython3",
   "version": "3.7.6"
  }
 },
 "nbformat": 4,
 "nbformat_minor": 4
}
